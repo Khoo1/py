{
 "cells": [
  {
   "cell_type": "markdown",
   "metadata": {},
   "source": [
    "## Python "
   ]
  },
  {
   "cell_type": "markdown",
   "metadata": {},
   "source": [
    "#### 1.0 Python, the Interpreter  \n",
    "`/usr/local/bin/pythonX.X` in Linux/Unix and `C:\\PythonXX` in Windows; command prompt, to add location to path, type `set path=%path%;c:\\python36` 36= python version.  \n",
    "\n",
    "__Immediate mode:__ `python`,  >>> , `exit()`, `quit()`   \n",
    "__Script mode:__ execute python in a file; saved as `.py`. Type `python` file`.py`  \n",
    "__Integrated Development Enviroment (IDE):__ text editing software  \n",
    "\n",
    "__Multi-line Statement:__ `\\` to continue next line or `()`, `[]`, `{}`  \n",
    "__Multi statement in 1-line:__ `;`  \n",
    "__Python Indentation:__ defines block of code, must be consistent. \n",
    "``` python    \n",
    "parent:  \n",
    "    child:  \n",
    "        toy  \n",
    "    child2:  \n",
    "        toy2  \n",
    "```  \n",
    "__Python Comments:__ `#` or multi-line use `'''` or `\"\"\"`  \n",
    "__Docstring:__ `***` first statement in module, function, class, method;  \n",
    "called out by `print(`module`.__doc__)` "
   ]
  },
  {
   "cell_type": "markdown",
   "metadata": {},
   "source": [
    "__Python__ 2018-03-27 https://docs.python.org/3/tutorial/appetite.html  \n",
    "High-level data types can express complex operations in a single statement;  \n",
    "Statement grouping by indentation instead of beginning and ending brackets;  \n",
    "Variable or argument declarations are not necessary. "
   ]
  },
  {
   "cell_type": "markdown",
   "metadata": {},
   "source": [
    "#### 2.0 Python Keywords: cannot be used as variable or function name  \n",
    "Keywords (33) are lowercase except `True`, `False`, `None`  \n",
    "\"and, as, assert, break, class, continue, def, del, elif, else, except, finally, for, from, global, if, import, in, is, lambda, nonlocal, not, or pass, raise, return, try, while, with, yield.\" [Usage](https://www.programiz.com/python-programming/keyword-list)    \n"
   ]
  },
  {
   "cell_type": "markdown",
   "metadata": {},
   "source": [
    "Python __[interpreter](https://docs.python.org/3/tutorial/interpreter.html)__ is usually installed as `/usr/local/bin/python3.6`  \n",
    "Place `/usr/local/bin` in Unix shell’s search path to enable: `python3.6`  \n",
    "A popular alternative place e.g. `/usr/local/python`  \n",
    "`Control-D` on __Unix__ or `quit()` to exit interpreter. \n",
    "\n",
    "On __Windows__, Python is usually installed in `C:\\Python36`  \n",
    "Add directory to path, type into DOS prompt `set path=%path%;C:\\python36`  \n",
    "`Control-Z` or `quit()` to exit with a zero exit status.  \n",
    "\n",
    "`Control-P` to Python prompt, beeps for [command line editing](https://docs.python.org/3/using/cmdline.html#using-on-general) else ^P isn’t.  \n",
    "`python -c command [arg] ...` executes statement in command.  \n",
    "`python -m module [arg] ...` executes source file for module.  \n",
    "`-i` before _script file_ to run and enter interactive mode.  \n",
    "[Interactive Input Editing and History Substitution](https://docs.python.org/3/tutorial/interactive.html#tut-interacting) for an intro to keys.   \n",
    "\n",
    "On Unix, the Python 3.x interpreter is by default not installed with the executable named python, so that it does not conflict with a simultaneously installed Python 2.x executable.  "
   ]
  },
  {
   "cell_type": "markdown",
   "metadata": {},
   "source": [
    "#### Argument Passing  \n",
    "`argv` variable stores _script name_ and _arguments_ as a list of strings in \n",
    "the `sys` module. To access list, execute `import sys`. The list's length is at least one; when no script and no arguments are given, `sys.argv[0]` is an empty string.  \n",
    "\n",
    "When script name is given as '-' (standard input), `sys.argv[0]` is '-'.  \n",
    "When -c command is used, `sys.argv[0]` is set to '-c'.  \n",
    "When -m module, `sys.argv[0]` is set to the full name of the located module."
   ]
  },
  {
   "cell_type": "markdown",
   "metadata": {},
   "source": [
    "#### Interactive Mode  \n",
    "When commands are read from a tty, the interpreter is in interactive mode.  \n",
    "Primary prompt, usually three greater-than signs (`>>>`);  \n",
    "Secondary prompt, by default three dots (`...`).  \n",
    "Continuation lines (`...`) are needed in a multi-line construct.  \n",
    "Type a blank line to end a multi-line command.  \n",
    "[Alternatives to the Interactive Interpreter](https://docs.python.org/3/tutorial/interactive.html#tut-interacting): [iPython](https://ipython.org/) and [bpython](http://www.bpython-interpreter.org/)"
   ]
  },
  {
   "cell_type": "markdown",
   "metadata": {},
   "source": [
    "#### Source Code Encoding: UTF-8  \n",
    "Python source files are encoded in UTF-8. Editor must support UTF-8 and fonts.  \n",
    "`# -*- coding: encoding -*-` where encoding is a valid `codecs` supported by Python.  \n",
    "\n",
    "One exception to the first line rule is when the source code starts with a UNIX “shebang” line. The encoding declaration should be added as the second line of the file. For example:\n",
    "\n",
    "`#!/usr/bin/env python3`  \n",
    "`# -*- coding: cp-1252 -*-` "
   ]
  },
  {
   "cell_type": "markdown",
   "metadata": {},
   "source": []
  },
  {
   "cell_type": "markdown",
   "metadata": {},
   "source": [
    "#### [Tab Completion and History Editing ](https://docs.python.org/3/tutorial/interactive.html#tut-interacting) \n",
    "`Tab` key invokes the completion function; it looks at Python statement names, the current local variables, and the available module names.  \n",
    "\n",
    "For dotted expressions such as `string.a`, will evaluate the expression up to the final '__.__' and then suggest completions from the attributes of the resulting object. Note that this may execute application-defined code if an object with a `__getattr__()` method is part of the expression.   "
   ]
  },
  {
   "cell_type": "markdown",
   "metadata": {},
   "source": [
    "#### 3.0 Python Identifiers: are name given like class, functions, var, __case-sensitive!__   \n",
    "A to Z, a to z, 0 to 9 and _ underscore.  \n",
    "Cannot begin with digit.  \n",
    "No keywords and special symbols.  \n",
    "Not clash with other identifiers.  \n",
    "\n",
    "Python is __case-sensitive__ \n",
    "Camel-case style is capitalize first letter of word except initial. \n"
   ]
  },
  {
   "cell_type": "markdown",
   "metadata": {},
   "source": [
    "#### 4.0 Python Variables: `=` stores data.   \n",
    "Constant : type of variable which value cannot change.  \n",
    "\n",
    "__Literals__ : raw data in var or constant;  \n",
    "Numeric Literals : immutable types; Integer, Float, Complex number.  \n",
    "String literal : characters surrounded by single, double or triple quotes.  \n",
    "Boolean literal: True or False. `==` \n",
    "Special literal: field that is not created i.e.`None`  \n",
    "\n",
    "__Literal collections:__ List literals, Tuple literals, Dict literals, and Set literals.  "
   ]
  },
  {
   "cell_type": "code",
   "execution_count": 16,
   "metadata": {},
   "outputs": [
    {
     "name": "stdout",
     "output_type": "stream",
     "text": [
      "Hello\n",
      "3.2\n",
      "5\n"
     ]
    }
   ],
   "source": [
    "a, b, c = 5, 3.2, \"Hello\"; print(c); print(b); print(a) # variable  "
   ]
  },
  {
   "cell_type": "code",
   "execution_count": 17,
   "metadata": {},
   "outputs": [
    {
     "name": "stdout",
     "output_type": "stream",
     "text": [
      "same same same\n"
     ]
    }
   ],
   "source": [
    "x = y = z = \"same\"; print(x,y,z) # variable "
   ]
  },
  {
   "cell_type": "code",
   "execution_count": 18,
   "metadata": {},
   "outputs": [
    {
     "data": {
      "text/plain": [
       "1"
      ]
     },
     "execution_count": 18,
     "metadata": {},
     "output_type": "execute_result"
    }
   ],
   "source": [
    "int(True)  # constant like pi=3.14 gravity=9.8  "
   ]
  },
  {
   "cell_type": "code",
   "execution_count": 19,
   "metadata": {},
   "outputs": [
    {
     "name": "stdout",
     "output_type": "stream",
     "text": [
      "10 100 200 300\n",
      "10.5 150.0\n",
      "3.14j 3.14 0.0\n"
     ]
    }
   ],
   "source": [
    "a = 0b1010 #Binary Literals\n",
    "b = 100    #Decimal Literal \n",
    "c = 0o310  #Octal Literal\n",
    "d = 0x12c  #Hexadecimal Literal\n",
    "\n",
    "#Float Literal\n",
    "float_1 = 10.5 \n",
    "float_2 = 1.5e2\n",
    "\n",
    "#Complex Literal \n",
    "x = 3.14j\n",
    "\n",
    "print(a, b, c, d)\n",
    "print(float_1, float_2)\n",
    "print(x, x.imag, x.real)"
   ]
  },
  {
   "cell_type": "code",
   "execution_count": 20,
   "metadata": {},
   "outputs": [
    {
     "name": "stdout",
     "output_type": "stream",
     "text": [
      "This is Python\n",
      "C\n",
      "This is a multiline string with more than one line code.\n",
      "Ünicöde\n",
      "raw \\n string\n"
     ]
    }
   ],
   "source": [
    "strings = \"This is Python\"\n",
    "char = \"C\"\n",
    "multiline_str = \"\"\"This is a multiline string with more than one line code.\"\"\"\n",
    "unicode = u\"\\u00dcnic\\u00f6de\"\n",
    "raw_str = r\"raw \\n string\"\n",
    "\n",
    "print(strings)\n",
    "print(char)\n",
    "print(multiline_str)\n",
    "print(unicode)\n",
    "print(raw_str)"
   ]
  },
  {
   "cell_type": "code",
   "execution_count": 21,
   "metadata": {},
   "outputs": [
    {
     "name": "stdout",
     "output_type": "stream",
     "text": [
      "x is True\n",
      "y is False\n",
      "a: 5\n",
      "b: 10\n"
     ]
    }
   ],
   "source": [
    "x = (1 == True)\n",
    "y = (1 == False)\n",
    "a = True + 4\n",
    "b = False + 10\n",
    "\n",
    "print(\"x is\", x)\n",
    "print(\"y is\", y)\n",
    "print(\"a:\", a)\n",
    "print(\"b:\", b)"
   ]
  },
  {
   "cell_type": "code",
   "execution_count": 22,
   "metadata": {},
   "outputs": [
    {
     "name": "stdout",
     "output_type": "stream",
     "text": [
      "Available\n",
      "None\n"
     ]
    }
   ],
   "source": [
    "drink = \"Available\"\n",
    "food = None\n",
    "\n",
    "def menu(x):\n",
    "    if x == drink:\n",
    "        print(drink)\n",
    "    else:\n",
    "        print(food)\n",
    "\n",
    "menu(drink)\n",
    "menu(food)"
   ]
  },
  {
   "cell_type": "code",
   "execution_count": 1,
   "metadata": {},
   "outputs": [
    {
     "name": "stdout",
     "output_type": "stream",
     "text": [
      "['apple', 'mango', 'orange', 'banana', 'apple']\n",
      "(1, 3, 2, 3)\n",
      "{'a': 'a', 'b': 'ball', 'd': 'dog', 'c': 'cat'}\n",
      "{'u', 'o', 'i', 'a', 'e'}\n"
     ]
    }
   ],
   "source": [
    "fruits = [\"apple\", \"mango\", \"orange\", \"banana\", \"apple\"] #list\n",
    "numbers = (1, 3, 2, 3) #tuple\n",
    "alphabets = {'a':'app', 'b':'bat', 'd':'dog', 'c':'cat', 'a':'a'} #dictionary\n",
    "vowels = {'a', 'e', 'i' , 'o', 'u', 'u', 'e'} #set = unique\n",
    "\n",
    "print(fruits)\n",
    "print(numbers)\n",
    "print(alphabets)\n",
    "print(vowels)"
   ]
  },
  {
   "cell_type": "markdown",
   "metadata": {},
   "source": [
    "1. Python, the Interpreter:`\\`, `;`, indent, `#`, `'''` or `\"\"\"`, `print(`module`.__doc__)`  \n",
    "2. Python Keywords: 33 cannot be used as variable or function name   \n",
    "3. Python Identifiers: are name given like class, functions, var, __case-sensitive!__   \n",
    "4. Python Variables: `=` stores data as Variable, Constant, Literals, Literal collections  "
   ]
  }
 ],
 "metadata": {
  "kernelspec": {
   "display_name": "Python 3",
   "language": "python",
   "name": "python3"
  },
  "language_info": {
   "codemirror_mode": {
    "name": "ipython",
    "version": 3
   },
   "file_extension": ".py",
   "mimetype": "text/x-python",
   "name": "python",
   "nbconvert_exporter": "python",
   "pygments_lexer": "ipython3",
   "version": "3.6.4"
  }
 },
 "nbformat": 4,
 "nbformat_minor": 2
}
