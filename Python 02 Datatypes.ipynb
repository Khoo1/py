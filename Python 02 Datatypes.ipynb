{
 "cells": [
  {
   "cell_type": "markdown",
   "metadata": {},
   "source": [
    "### Python DataTypes: Number, String, Tuple, List, Dictionary, Set   \n",
    "Immutable datatypes: Number, String, Tuple  \n",
    "Mutable datatypes can be change after creation: List, Dictionary, Set  \n",
    "Datatype names cannot have space, apply underscore. May be __convert__ "
   ]
  },
  {
   "cell_type": "markdown",
   "metadata": {},
   "source": [
    "#### 1.0 Python Numbers: `int`, `float`, `complex` \n",
    "`type()` function to identify datatype  \n",
    "`isinstance()` function to identify object\\'s class  \n",
    "\n",
    "Integer length is limited by memory size.  \n",
    "Floating point is accurate up to 15 decimal places.  \n",
    "Complex number of x+yj, where x is real and y is imaginary.  "
   ]
  },
  {
   "cell_type": "code",
   "execution_count": 1,
   "metadata": {},
   "outputs": [
    {
     "name": "stdout",
     "output_type": "stream",
     "text": [
      "1 datatype is a <class 'int'>\n",
      "2.0 datatype is a <class 'float'>\n",
      "Is (3+45j) a complex number? True\n"
     ]
    },
    {
     "data": {
      "text/plain": [
       "(int, float, True)"
      ]
     },
     "execution_count": 1,
     "metadata": {},
     "output_type": "execute_result"
    }
   ],
   "source": [
    "print('1 datatype is a', type(1))  \n",
    "print('2.0 datatype is a', type(2.0))   \n",
    "x = 3+45j; print('Is', x, 'a complex number?', isinstance(3+45j,complex))\n",
    "type(1), type(2.0), isinstance(3+45j, complex) "
   ]
  },
  {
   "cell_type": "code",
   "execution_count": 2,
   "metadata": {},
   "outputs": [
    {
     "name": "stdout",
     "output_type": "stream",
     "text": [
      "123456789012345678901\n",
      "0.12345678901234568\n"
     ]
    }
   ],
   "source": [
    "a = 123456789012345678901; print(a)\n",
    "b = 0.123456789012345678901; print(b) # get truncated and round up  "
   ]
  },
  {
   "cell_type": "markdown",
   "metadata": {},
   "source": [
    "#### 2.0 Python Strings: `'1-line'`, `\"double quote\"`, `'''multi line'''`, `\"\"\"3x\"\"\"`  \n",
    "Concatenate, Repeat, Slice, Index (begins from 0)  \n",
    "`find()`, `replace()`, `split()`, `cound()`, `print()`   \n",
    "`upper()`, `max()`, `min()`, `isalpha()`, `isalnum()`, `isdecimal()`, `isdigit()`, `isidentifier()`, `islower()`, `isprintable()`, `isspace()`, `istitle()`, string.1... "
   ]
  },
  {
   "cell_type": "code",
   "execution_count": 3,
   "metadata": {},
   "outputs": [
    {
     "data": {
      "text/plain": [
       "'A long time ago in a galaxy far, far away...'"
      ]
     },
     "execution_count": 3,
     "metadata": {},
     "output_type": "execute_result"
    }
   ],
   "source": [
    "'A long time ago in a galaxy far, far away...'"
   ]
  },
  {
   "cell_type": "code",
   "execution_count": 4,
   "metadata": {},
   "outputs": [
    {
     "name": "stdout",
     "output_type": "stream",
     "text": [
      "It is a period of civil war. \n",
      "Rebel spaceships, striking \n",
      "from a hidden base, have won \n",
      "their first victory against \n",
      "the evil Galactic Empire. \n"
     ]
    },
    {
     "data": {
      "text/plain": [
       "\"During the battle, Rebel   # end of line denoted by \\n  \\nspies managed to steal secret \\nplans to the Empire's \\nultimate weapon, the DEATH \\nSTAR, an armored space \\nstation with enough power \\nto destroy an entire planet. \\n\\nPursued by the Empire's \\nsinister agents, Princess \\nLeia races home aboard her \\nstarship, custodian of the \\nstolen plans that can save her \\npeople and restore \\nfreedom to the galaxy....\""
      ]
     },
     "execution_count": 4,
     "metadata": {},
     "output_type": "execute_result"
    }
   ],
   "source": [
    "\"Star Wars IV: A New Hope\"  # missing\n",
    "print('''It is a period of civil war. \n",
    "Rebel spaceships, striking \n",
    "from a hidden base, have won \n",
    "their first victory against \n",
    "the evil Galactic Empire. ''')\n",
    "\n",
    "'''During the battle, Rebel   # end of line denoted by \\n  \n",
    "spies managed to steal secret \n",
    "plans to the Empire's \n",
    "ultimate weapon, the DEATH \n",
    "STAR, an armored space \n",
    "station with enough power \n",
    "to destroy an entire planet. \n",
    "\n",
    "Pursued by the Empire's \n",
    "sinister agents, Princess \n",
    "Leia races home aboard her \n",
    "starship, custodian of the \n",
    "stolen plans that can save her \n",
    "people and restore \n",
    "freedom to the galaxy....''' # comment # does not work between ' '  "
   ]
  },
  {
   "cell_type": "code",
   "execution_count": 5,
   "metadata": {},
   "outputs": [
    {
     "name": "stdout",
     "output_type": "stream",
     "text": [
      "Concatenate: StarWars Star Wars\n",
      "Repeat: StarStar StarStarStar\n",
      "Split: tar Wa\n",
      "Index: t r\n",
      "ar War\n"
     ]
    }
   ],
   "source": [
    "x = 'Star'; y = \"Wars\"; \n",
    "print('Concatenate:', x+y, x,y);  # Concatenate \n",
    "print('Repeat:', x+x, x*3);  # Repeat \n",
    "print('Split:', x[1:],y[:2]);  # Split  # :2 item does not appear \n",
    "print(\"Index:\", x[1], x[-1]);  #Index   # -1 from last position  \n",
    "z = x+\" \"+y; print(z[2:-1]);  "
   ]
  },
  {
   "cell_type": "code",
   "execution_count": 6,
   "metadata": {},
   "outputs": [
    {
     "data": {
      "text/plain": [
       "2"
      ]
     },
     "execution_count": 6,
     "metadata": {},
     "output_type": "execute_result"
    }
   ],
   "source": [
    "z.find('ar')  # Star = 'ar' begins in location 2  "
   ]
  },
  {
   "cell_type": "code",
   "execution_count": 7,
   "metadata": {},
   "outputs": [
    {
     "data": {
      "text/plain": [
       "'Trek'"
      ]
     },
     "execution_count": 7,
     "metadata": {},
     "output_type": "execute_result"
    }
   ],
   "source": [
    "y.replace('Wars','Trek')"
   ]
  },
  {
   "cell_type": "code",
   "execution_count": 8,
   "metadata": {},
   "outputs": [
    {
     "name": "stdout",
     "output_type": "stream",
     "text": [
      "Wars\n"
     ]
    },
    {
     "data": {
      "text/plain": [
       "['Star']"
      ]
     },
     "execution_count": 8,
     "metadata": {},
     "output_type": "execute_result"
    }
   ],
   "source": [
    "print(y);  # Immutable datatype did not get replace to 'Trek'\n",
    "x.split(',') # no \".\" to split so output unchange. "
   ]
  },
  {
   "cell_type": "code",
   "execution_count": 9,
   "metadata": {},
   "outputs": [
    {
     "name": "stdout",
     "output_type": "stream",
     "text": [
      "['S', ' t', ' a', ' r']\n",
      "['St', 'r']\n",
      "S, t, a, r Star\n"
     ]
    }
   ],
   "source": [
    "x2 = \"S, t, a, r\"; print(x2.split(','))\n",
    "print(x.split('a'))  # 'a' disappears  \n",
    "print(x2, x)  # Immutable datatype retains  "
   ]
  },
  {
   "cell_type": "code",
   "execution_count": 10,
   "metadata": {},
   "outputs": [
    {
     "name": "stdout",
     "output_type": "stream",
     "text": [
      "Star Wars\n"
     ]
    },
    {
     "data": {
      "text/plain": [
       "(None, 1)"
      ]
     },
     "execution_count": 10,
     "metadata": {},
     "output_type": "execute_result"
    }
   ],
   "source": [
    "print(z), z.count('a',0,6) # 0,6: begin, end place to count. 6 not counted"
   ]
  },
  {
   "cell_type": "code",
   "execution_count": 11,
   "metadata": {
    "scrolled": true
   },
   "outputs": [
    {
     "name": "stdout",
     "output_type": "stream",
     "text": [
      "STAR WARS\n",
      "t\n",
      " \n"
     ]
    }
   ],
   "source": [
    "print(z.upper()) \n",
    "print(max(z)) # immutable retains original lower case\n",
    "print(min(z)) # space is the result "
   ]
  },
  {
   "cell_type": "code",
   "execution_count": 12,
   "metadata": {},
   "outputs": [
    {
     "name": "stdout",
     "output_type": "stream",
     "text": [
      "False False False False False\n",
      "False True False True False\n",
      "False   Star Wars a War\n"
     ]
    }
   ],
   "source": [
    "print(z.isalpha(), z.isalnum(), z.isdecimal(), z.isdigit(), z.isnumeric()) \n",
    "print(z.islower(), z.isprintable(), z.isspace(), z.istitle(), z.isupper()) \n",
    "print(z.isidentifier(), \" \", z, z[2], z[5:-1]) # 5 and -1 not included \n",
    "# z[5] ='-' cause error because string is immutable in Python "
   ]
  },
  {
   "cell_type": "markdown",
   "metadata": {},
   "source": [
    "#### 3.0 Python Tuple: `( )` curve braces with comma; immutable sequence of variables   \n",
    "`[ ]` to access varable but not change them.  \n",
    "Tuple( ) cannot be modified and is faster than list[ ].  \n",
    "( ) with one variable in it is consider a string. Tuple has multiple by \",\".  "
   ]
  },
  {
   "cell_type": "code",
   "execution_count": 13,
   "metadata": {},
   "outputs": [
    {
     "name": "stdout",
     "output_type": "stream",
     "text": [
      "Concatenate: ('Star Wars', 4, (7+3j), 'R2D2', 3, 'P', 0)\n",
      "Repeat:  () ('Star Wars', 4, (7+3j))\n",
      "Slice = ('Star Wars',)\n",
      "Index: (8+3j)\n"
     ]
    }
   ],
   "source": [
    "t = ('Star Wars', 4, 1+6+3j )  # result will turn 1+6 into 7 \n",
    "c=3 \n",
    "print('Concatenate:', t+('R2D2', c, 'P', 0))  # adds value instead of 'c' \n",
    "print(\"Repeat: \", t*0, t) # unable to * by decimal \n",
    "print('Slice =', t[:1]) # access everything before 1 or 2nd position  \n",
    "print('Index:', t[-1]+1) # access last position and does maths. "
   ]
  },
  {
   "cell_type": "code",
   "execution_count": 14,
   "metadata": {},
   "outputs": [
    {
     "name": "stdout",
     "output_type": "stream",
     "text": [
      "('Star Wars', 4, (7+3j)) has 3\n"
     ]
    }
   ],
   "source": [
    "print(t, 'has', len(t))"
   ]
  },
  {
   "cell_type": "markdown",
   "metadata": {},
   "source": [
    "#### 4.0 Python List: `[ ]` square braces; modifiable objects   \n",
    "Concatenate, Repeat, Slice, Index: do not change the list[ ]  \n",
    "<>.append(), <>.extend(), <>.insert(location, new), <>.pop(1_from_last) "
   ]
  },
  {
   "cell_type": "code",
   "execution_count": 15,
   "metadata": {},
   "outputs": [
    {
     "name": "stdout",
     "output_type": "stream",
     "text": [
      "[('Star Wars', 4, (7+3j))] ('Star Wars', 4, (7+3j))\n",
      "Concatenate: [('Star Wars', 4), (1.6+3j), 3, 'P', 0]\n",
      "Repeat: [('Star Wars', 4), (1.6+3j), ('Star Wars', 4), (1.6+3j)]\n",
      "Slice: [(1.6+3j)]\n",
      "Index: (1.6+3j)\n"
     ]
    }
   ],
   "source": [
    "ls = [t] # place tuple() into list[]. tuple_3_item becomes list_1_item \n",
    "print(ls, ls[0]) \n",
    "ls = [t[0:2], (1.6+3j)]\n",
    "print('Concatenate:', ls+[c, 'P', 0]); \n",
    "print('Repeat:', ls*2) \n",
    "print('Slice:', ls[1:]) \n",
    "print('Index:', ls[-1]) "
   ]
  },
  {
   "cell_type": "code",
   "execution_count": 16,
   "metadata": {},
   "outputs": [
    {
     "name": "stdout",
     "output_type": "stream",
     "text": [
      "[('Star Wars', 4), (1.6+3j), 'r2d2']\n",
      "[('Star Wars', 4), (1.6+3j), 'r2d2', 3, 'P', 0]\n",
      "[('Star Wars', 4), 'Hope', (1.6+3j), 'r2d2', 3, 'P', 0]\n",
      "[('Star Wars', 4), 'Hope', (1.6+3j), 'r2d2', 3, 'P']\n"
     ]
    }
   ],
   "source": [
    "ls.append('r2d2'); print(ls) \n",
    "ls.extend([c, 'P', 0]); print(ls) \n",
    "ls.insert(1,'Hope'); print(ls) \n",
    "ls.pop(); print(ls) "
   ]
  },
  {
   "cell_type": "code",
   "execution_count": 17,
   "metadata": {},
   "outputs": [
    {
     "name": "stdout",
     "output_type": "stream",
     "text": [
      "('Star Wars', 4, (7+3j)) has 3\n",
      "[('Star Wars', 4), 'Hope', (1.6+3j), 'r2d2', 3, 'P'] has 6\n"
     ]
    }
   ],
   "source": [
    "print(t, 'has', len(t)) \n",
    "print(ls, 'has', len(ls)) "
   ]
  },
  {
   "cell_type": "markdown",
   "metadata": {},
   "source": [
    "#### 5.0 Python Dictionary: `{ }` curly parenthese like Set, but data are modifiable    \n",
    "Dictionary {} items are stored and access by __key__, not position, no slice.    \n",
    "duplicate key:value cause error and replace key with latest value  \n",
    "<>{key#} to access, len(<>), <>.keys(), <>.values()  \n",
    "<>.items() to list, <>.get(key), <>.update({key:value}), <>.pop(key)  "
   ]
  },
  {
   "cell_type": "code",
   "execution_count": 18,
   "metadata": {},
   "outputs": [
    {
     "name": "stdout",
     "output_type": "stream",
     "text": [
      "123456789012345678901 0.12345678901234568 Star Wars Star Wars 3 ('Star Wars', 4, (7+3j)) [('Star Wars', 4), 'Hope', (1.6+3j), 'r2d2', 3, 'P']\n",
      "{0: 'Star', 2: 'Wars', 3: 3, 'New': 4, 'name': 'Luke', 9: 'Skywalker'}\n",
      "4 Skywalker\n",
      "6\n",
      "dict_keys([0, 2, 3, 'New', 'name', 9])\n",
      "dict_values(['Star', 'Wars', 3, 4, 'Luke', 'Skywalker'])\n"
     ]
    }
   ],
   "source": [
    "print(a, b, x, y, z, c, t, ls)\n",
    "d = {0:x, 2:y, 3:c, 'New':4, 'name':'Luke', 9:'Skywalker'}  # mixed keys \n",
    "print(d) \n",
    "print(d['New'], d[9]) \n",
    "print(len(d)) \n",
    "print(d.keys())\n",
    "print(d.values())\n",
    "#di = {1:'x', 2:'y', 3:'z'}; print(di.key()) error in <>.key() "
   ]
  },
  {
   "cell_type": "code",
   "execution_count": 19,
   "metadata": {},
   "outputs": [
    {
     "name": "stdout",
     "output_type": "stream",
     "text": [
      "{'New': 'New'}\n"
     ]
    }
   ],
   "source": [
    "d = {'New':'New'}; print(d) "
   ]
  },
  {
   "cell_type": "code",
   "execution_count": 20,
   "metadata": {},
   "outputs": [
    {
     "name": "stdout",
     "output_type": "stream",
     "text": [
      "dict_items([(0, 'Star'), (2, 'Wars'), (3, 3), ('New', 'New'), ('name', 'Luke'), (9, 'Skywalker')])\n",
      "None\n",
      "None\n",
      "None\n",
      "{0: 'Star', 2: 'Wars', 3: 3, 'New': 'New', 'name': 'Luke', 9: 'Skywalker', 4: 4, 5: 'Episode IV', 'Darth': 'Vader'}\n",
      "4\n",
      "{0: 'Star', 2: 'Wars', 3: 3, 'New': 'New', 'name': 'Luke', 9: 'Skywalker', 5: 'Episode IV', 'Darth': 'Vader'}\n"
     ]
    }
   ],
   "source": [
    "d = {0:x, 2:y, 3:c, 'New':4, 'name':'Luke', 9:'Skywalker', 'New':'New'} \n",
    "print(d.items())  # dictionary retains last item of duplicate key  \n",
    "print(d.get(1))  # when no key 1 = None \n",
    "print(d.update({4:4, 5:'Episode', 'Darth':'Vader'})) \n",
    "print(d.update({5:'Episode IV'})) # <>.update prints out 'None' \n",
    "print(d) \n",
    "print(d.pop(4)) # prints out '4' \n",
    "print(d) "
   ]
  },
  {
   "cell_type": "code",
   "execution_count": 21,
   "metadata": {},
   "outputs": [
    {
     "name": "stdout",
     "output_type": "stream",
     "text": [
      "<class 'tuple'> <class 'list'> <class 'dict'>\n"
     ]
    }
   ],
   "source": [
    "print( type(t), type(ls), type(d)) "
   ]
  },
  {
   "cell_type": "markdown",
   "metadata": {},
   "source": [
    "#### 6.0 Python Set: `{ }` curly braces, comma like Dictionary \n",
    "Unique values eliminate duplicates, disorder cannot slice[ ], immutable values   \n",
    "`|` unite, `&` intersect, `-` differ "
   ]
  },
  {
   "cell_type": "code",
   "execution_count": 22,
   "metadata": {},
   "outputs": [
    {
     "name": "stdout",
     "output_type": "stream",
     "text": [
      "{3, 'Star Wars', 'Wars', 'Star', 'r2d2'}\n",
      "Unite | = {3, 'Star Wars', 'Star', ('Star Wars', 4, (7+3j)), 'Wars', 'r2d2'}\n",
      "Intersect & = {('Star Wars', 4, (7+3j))}\n",
      "S differ T = {3, 'Star Wars', 'Wars', 'Star', 'r2d2'}\n",
      "T differ S = set()\n"
     ]
    },
    {
     "data": {
      "text/plain": [
       "set"
      ]
     },
     "execution_count": 22,
     "metadata": {},
     "output_type": "execute_result"
    }
   ],
   "source": [
    "s = {x, y, c, z, 'r2d2'}  # output sequence c r2d2 y x z # no order \n",
    "print(s) \n",
    "s = s|{t} \n",
    "print('Unite | =', s)\n",
    "print('Intersect & =', s&{t})  # immutable retains original values \n",
    "print('S differ T =', s-{t} ) \n",
    "print('T differ S =', {t}-s )  # outputs set() \n",
    "type(s) "
   ]
  },
  {
   "cell_type": "code",
   "execution_count": 23,
   "metadata": {},
   "outputs": [
    {
     "name": "stdout",
     "output_type": "stream",
     "text": [
      "<class 'int'> 123456789012345678901\n",
      "<class 'str'> Star Wars\n",
      "<class 'tuple'> ('Star Wars', 4, (7+3j))\n",
      "<class 'list'> [('Star Wars', 4), 'Hope', (1.6+3j), 'r2d2', 3, 'P']\n",
      "<class 'dict'> {0: 'Star', 2: 'Wars', 3: 3, 'New': 'New', 'name': 'Luke', 9: 'Skywalker', 5: 'Episode IV', 'Darth': 'Vader'}\n",
      "<class 'set'> {3, 'Star Wars', 'Star', ('Star Wars', 4, (7+3j)), 'Wars', 'r2d2'}\n"
     ]
    }
   ],
   "source": [
    "print(type(a), a) \n",
    "print(type(z), z) \n",
    "print(type(t), t) \n",
    "print(type(ls), ls) \n",
    "print(type(d), d) \n",
    "print(type(s), s) "
   ]
  },
  {
   "cell_type": "markdown",
   "metadata": {},
   "source": [
    "#### Convert: `int()`, `float()`, `str()`, `set([ ])`, `tuple({ })`,  `list('')`, `dict([(,)])`  \n",
    "number <=> float, string(), tuple(,), list[ ], dictionary{key:}, set{unique}  \n",
    "`int()` will truncate float's decimal  \n",
    "`str()` from numbers must contain compatible values  \n",
    "`set([1,2,3])`, `tuple({5,6,7})`, `list('hello')` can convert one sequence to another  \n",
    "`dict([(3,26),(4,44)])` must have elements in pair.  "
   ]
  },
  {
   "cell_type": "code",
   "execution_count": 24,
   "metadata": {},
   "outputs": [
    {
     "name": "stdout",
     "output_type": "stream",
     "text": [
      "3.0\n",
      "1\n",
      "10.9\n",
      "3\n"
     ]
    }
   ],
   "source": [
    "print(float(c) )\n",
    "print(int(1.6) ) #Conversion from float to int will truncate the value\n",
    "print(float('9.9')+1) \n",
    "print(str(c)) #Conversion to and from string have compatible values."
   ]
  },
  {
   "cell_type": "code",
   "execution_count": 25,
   "metadata": {},
   "outputs": [
    {
     "data": {
      "text/plain": [
       "(5, 6, 7)"
      ]
     },
     "execution_count": 25,
     "metadata": {},
     "output_type": "execute_result"
    }
   ],
   "source": [
    "tuple({5,6,7}) # convert one sequence to another."
   ]
  },
  {
   "cell_type": "code",
   "execution_count": 26,
   "metadata": {},
   "outputs": [
    {
     "data": {
      "text/plain": [
       "['h', 'e', 'l', 'l', 'o']"
      ]
     },
     "execution_count": 26,
     "metadata": {},
     "output_type": "execute_result"
    }
   ],
   "source": [
    "list('hello') "
   ]
  },
  {
   "cell_type": "code",
   "execution_count": 27,
   "metadata": {},
   "outputs": [
    {
     "data": {
      "text/plain": [
       "{1, 2, 3}"
      ]
     },
     "execution_count": 27,
     "metadata": {},
     "output_type": "execute_result"
    }
   ],
   "source": [
    "set([1,2,3])"
   ]
  },
  {
   "cell_type": "code",
   "execution_count": 28,
   "metadata": {},
   "outputs": [
    {
     "data": {
      "text/plain": [
       "{1: 2, 3: 4}"
      ]
     },
     "execution_count": 28,
     "metadata": {},
     "output_type": "execute_result"
    }
   ],
   "source": [
    "dict([[1,2],[3,4]])"
   ]
  },
  {
   "cell_type": "code",
   "execution_count": 29,
   "metadata": {},
   "outputs": [
    {
     "data": {
      "text/plain": [
       "{3: 26, 4: 44}"
      ]
     },
     "execution_count": 29,
     "metadata": {},
     "output_type": "execute_result"
    }
   ],
   "source": [
    "dict([(3,26),(4,44)]) #To convert to dictionary, each element must be a pairb"
   ]
  },
  {
   "cell_type": "markdown",
   "metadata": {},
   "source": [
    "1 Python Numbers: `int`, `float`, `complex`  \n",
    "2 Python Strings: `'1-line'`, `\"double quote\"`, `'''multi line'''`, `\"\"\"3x\"\"\"`   \n",
    "3 Python Tuple: `( )` curve braces with comma; immutable sequence of variables  \n",
    "4 Python List: `[ ]` square braces; modifiable objects   \n",
    "5 Python Dictionary: `{ }` curly parenthese like Set, but data are modifiable    \n",
    "6 Python Set: `{ }` curly braces comma; unique, disorder, immutable values  \n",
    "Convert: `int()`, `float()`, `str()`, `set([ ])`, `tuple({ })`,  `list('')`, `dict([(,)])`  "
   ]
  }
 ],
 "metadata": {
  "kernelspec": {
   "display_name": "Python 3",
   "language": "python",
   "name": "python3"
  },
  "language_info": {
   "codemirror_mode": {
    "name": "ipython",
    "version": 3
   },
   "file_extension": ".py",
   "mimetype": "text/x-python",
   "name": "python",
   "nbconvert_exporter": "python",
   "pygments_lexer": "ipython3",
   "version": "3.6.4"
  }
 },
 "nbformat": 4,
 "nbformat_minor": 2
}
