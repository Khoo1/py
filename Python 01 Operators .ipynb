{
 "cells": [
  {
   "cell_type": "markdown",
   "metadata": {},
   "source": [
    "### Python Operators (7)   \n",
    "Arithmetic, Comparison, Bitwise, Assignment, Logical, Identity, Membership  "
   ]
  },
  {
   "cell_type": "markdown",
   "metadata": {},
   "source": [
    " #### 1.0 Python Arithmetic Operators (12): `+`, `-`, `*`, `/`,  `//`, `%`, `abs()`, `round(,0)`   \n",
    " = root: x\\*\\*(1/float(n)) -or- x\\*\\*(n\\*\\*-1), exponent: \\*\\*, log: 1e-1  \n",
    " = Order of operations: \\(parentheses\\), \\*\\* Exponent Root, * / // % Times Divide, + -, Sequence \n",
    " = Complex numbers uses j or J suffix as imaginary part (e.g. 3+5j)."
   ]
  },
  {
   "cell_type": "code",
   "execution_count": 1,
   "metadata": {},
   "outputs": [
    {
     "data": {
      "text/plain": [
       "(3, -7, 30, 0.875, 2.5, -9, 9, 3.14)"
      ]
     },
     "execution_count": 1,
     "metadata": {},
     "output_type": "execute_result"
    }
   ],
   "source": [
    "1+2, -3-4, 5*6, 7/8, 10/4, -9, abs(-9), round(3.14159265, 2) "
   ]
  },
  {
   "cell_type": "markdown",
   "metadata": {},
   "source": [
    " `//` __Flow__ = division whole number only   \n",
    "` %`    __Modulus__ = division remainder only    "
   ]
  },
  {
   "cell_type": "code",
   "execution_count": 2,
   "metadata": {},
   "outputs": [
    {
     "data": {
      "text/plain": [
       "(1, 2, 2, 0, 2)"
      ]
     },
     "execution_count": 2,
     "metadata": {},
     "output_type": "execute_result"
    }
   ],
   "source": [
    "3//2, 4//2, 5//2, 7//8, 10//4  # flow"
   ]
  },
  {
   "cell_type": "code",
   "execution_count": 3,
   "metadata": {},
   "outputs": [
    {
     "data": {
      "text/plain": [
       "(1, 0, 1, 7, 2)"
      ]
     },
     "execution_count": 3,
     "metadata": {},
     "output_type": "execute_result"
    }
   ],
   "source": [
    "3%2, 4%2, 5%2, 7%8, 10%4  # modulus"
   ]
  },
  {
   "cell_type": "markdown",
   "metadata": {},
   "source": [
    "`x**(1/float(n))` __Square Root__ = a value that can multiply by itself to give the original number. \n",
    "..........`x**(n**-1)` __Square Root__ = shorter formula \n",
    "- Square root symbol is called the ___radical___  ![http://www.mathsisfun.com/square-root.html](http://www.mathsisfun.com/images/square-root-9.gif) "
   ]
  },
  {
   "cell_type": "code",
   "execution_count": 4,
   "metadata": {},
   "outputs": [
    {
     "data": {
      "text/plain": [
       "(3.0, 2.080083823051904)"
      ]
     },
     "execution_count": 4,
     "metadata": {},
     "output_type": "execute_result"
    }
   ],
   "source": [
    "9**(1/2), 9**(1/3)  # square root: x**(1/float(m)). Only 9**0.5 is sq root"
   ]
  },
  {
   "cell_type": "code",
   "execution_count": 5,
   "metadata": {},
   "outputs": [
    {
     "data": {
      "text/plain": [
       "(3.0, 2.080083823051904)"
      ]
     },
     "execution_count": 5,
     "metadata": {},
     "output_type": "execute_result"
    }
   ],
   "source": [
    "9**(2**-1), 9**(3**-1) # square root: x**(m**-1). Only 9**(2**-1) is sq root "
   ]
  },
  {
   "cell_type": "code",
   "execution_count": 6,
   "metadata": {},
   "outputs": [
    {
     "data": {
      "text/plain": [
       "(9, 9.0)"
      ]
     },
     "execution_count": 6,
     "metadata": {},
     "output_type": "execute_result"
    }
   ],
   "source": [
    "3**2, round((2.08008382**3),0)  # exponetial to verify sq roots and cube root "
   ]
  },
  {
   "cell_type": "code",
   "execution_count": 7,
   "metadata": {
    "scrolled": true
   },
   "outputs": [
    {
     "name": "stdout",
     "output_type": "stream",
     "text": [
      "Perfect Squares or Square Numbers are squares of integers\n"
     ]
    },
    {
     "data": {
      "text/plain": [
       "(1.0, 2.0, 3.0, 4.0, 5.0, 6.0, 7.0, 8.0, 9.0, 10.0, 11.0, 12.0, None)"
      ]
     },
     "execution_count": 7,
     "metadata": {},
     "output_type": "execute_result"
    }
   ],
   "source": [
    "1**(0.5), 2**(1**-2), 3**(1**-3), 4**(1**-4), 5**(1**-5), 6**(1**-6), 7**(1**-7), 8**(1**-8), 9**(1**-9), 10**(1**-10), 11**(1**-11), 12**(1**-12), print('Perfect Squares or Square Numbers are squares of integers') "
   ]
  },
  {
   "cell_type": "code",
   "execution_count": 8,
   "metadata": {},
   "outputs": [
    {
     "data": {
      "text/plain": [
       "(1.0, 4.0, 9, 16, 25, 36, 49, 64, 81, 100, 121, 144)"
      ]
     },
     "execution_count": 8,
     "metadata": {},
     "output_type": "execute_result"
    }
   ],
   "source": [
    "1.0**2, 2.0**2, 3**2, 4**2, 5**2, 6**2, 7**2, 8**2, 9**2, 10**2, 11**2, 12**2 "
   ]
  },
  {
   "cell_type": "markdown",
   "metadata": {},
   "source": [
    "`**`  __Exponential__ = multiply a number by itself by a number of times     "
   ]
  },
  {
   "cell_type": "code",
   "execution_count": 9,
   "metadata": {},
   "outputs": [
    {
     "data": {
      "text/plain": [
       "(1, 4, 8, 16, 0, 1, 3, 9, 27)"
      ]
     },
     "execution_count": 9,
     "metadata": {},
     "output_type": "execute_result"
    }
   ],
   "source": [
    "2**0, 2**2, 2**3, 2**4, 0, 3**0, 3**1, 3**2, 3**3  # exponential "
   ]
  },
  {
   "cell_type": "markdown",
   "metadata": {},
   "source": [
    "`**` __Eponential Laws:__ \n",
    " + x\\*\\*a \\* x\\*\\*b = x\\*\\*a+b \n",
    " + x\\*\\*a / x\\*\\*b = x\\*\\*a-b \n",
    " + (x\\*\\*a)\\*\\*b = x\\*\\*ab \n",
    " + x\\*\\*-a = 1 / x\\*\\*a \n",
    " + x\\*\\*0 = 1 "
   ]
  },
  {
   "cell_type": "code",
   "execution_count": 10,
   "metadata": {},
   "outputs": [
    {
     "data": {
      "text/plain": [
       "1"
      ]
     },
     "execution_count": 10,
     "metadata": {},
     "output_type": "execute_result"
    }
   ],
   "source": [
    "9**0"
   ]
  },
  {
   "cell_type": "markdown",
   "metadata": {},
   "source": [
    "__Exp. Formula:__ x\\*\\*-a = 1/x\\*\\*a "
   ]
  },
  {
   "cell_type": "code",
   "execution_count": 11,
   "metadata": {
    "scrolled": true
   },
   "outputs": [
    {
     "data": {
      "text/plain": [
       "(0.01, 0.01, 100, 0, 1e-05, 1e-05, 100000)"
      ]
     },
     "execution_count": 11,
     "metadata": {},
     "output_type": "execute_result"
    }
   ],
   "source": [
    "10**-2, 1/10**2, 10**2, 0, 10**-5, 1/10**5, 10**5 "
   ]
  },
  {
   "cell_type": "markdown",
   "metadata": {},
   "source": [
    "__Exp. Formula:__ x\\*\\*0 = 1 "
   ]
  },
  {
   "cell_type": "code",
   "execution_count": 12,
   "metadata": {},
   "outputs": [
    {
     "data": {
      "text/plain": [
       "(1, 1, 1)"
      ]
     },
     "execution_count": 12,
     "metadata": {},
     "output_type": "execute_result"
    }
   ],
   "source": [
    "10**0, 9**0, 8**0 "
   ]
  },
  {
   "cell_type": "markdown",
   "metadata": {},
   "source": [
    "![https://www.mathsisfun.com/algebra/exponents-logarithms.html](https://www.mathsisfun.com/algebra/images/exponent-vs-logarithm.gif)\n",
    "\n",
    "`1e-1`=0.1 __Logarithm__ = how many one mumber to multiply for result  \n",
    "2\\*2\\*2=8; logarithm=3 written as log2(8)=3 (2 is base) \n",
    "\n",
    "\n",
    "\n",
    "2\\**3=8 exponential to log is: __\"log base 2 of 8 = 3\"__  \n",
    "                  - \"base 2 log of 8 is 3\" or  \n",
    "                  - \"logarithm of 8 with base 2 is 3\"  \n",
    "![www.mathsisfun.com/algebra/images/exponent-to-logarithm.gif](https://www.mathsisfun.com/algebra/images/exponent-to-logarithm.gif)"
   ]
  },
  {
   "cell_type": "markdown",
   "metadata": {},
   "source": [
    "__Common logarithm__ = Base 10 often written without base, e.g. __log(100)__  \n",
    "  - log(100) = 2     \n",
    "\n",
    "__Natural logrithm__ = Base \"e\" or (Euler's number) appears __ln__ on calculators. \n",
    "  - \"e\" or \"E\" representing __10^#__.  \n",
    "  - __e__ = ln(7.389) = log base e(7.2389) = 2.71828 aka Fuler's Number  \n",
    "  - 2.71829**2 = 7.389 \n"
   ]
  },
  {
   "cell_type": "code",
   "execution_count": 13,
   "metadata": {},
   "outputs": [
    {
     "data": {
      "text/plain": [
       "(7.389100524100001, 2.71829, 2.71829)"
      ]
     },
     "execution_count": 13,
     "metadata": {},
     "output_type": "execute_result"
    }
   ],
   "source": [
    "2.71829**2, (2.71829**2)**(1/2), (2.71829**2)**(2**-1) # exp and root of E "
   ]
  },
  {
   "cell_type": "markdown",
   "metadata": {},
   "source": [
    "Logarithms can have decimals. Log base 10 (26)=1.41497  \n",
    "![https://www.mathsisfun.com/algebra/logarithms.html](https://www.mathsisfun.com/algebra/images/log-10-26.gif)"
   ]
  },
  {
   "cell_type": "code",
   "execution_count": 14,
   "metadata": {},
   "outputs": [
    {
     "data": {
      "text/plain": [
       "25.999799567092445"
      ]
     },
     "execution_count": 14,
     "metadata": {},
     "output_type": "execute_result"
    }
   ],
   "source": [
    "10**1.41497 "
   ]
  },
  {
   "cell_type": "markdown",
   "metadata": {},
   "source": [
    "__Negative Logarithm__ = how many times to __divide__ by the number.  \n",
    " - log base 8(0.125) = -1 \n",
    " - 1 / 8 = 0.125 \n",
    " \n",
    " - log base 5(0.008) = -3 \n",
    " - 1 / 5 / 5 / 5 = 5**-3 = 0.008"
   ]
  },
  {
   "cell_type": "code",
   "execution_count": 15,
   "metadata": {},
   "outputs": [
    {
     "data": {
      "text/plain": [
       "(0.008, 0.008)"
      ]
     },
     "execution_count": 15,
     "metadata": {},
     "output_type": "execute_result"
    }
   ],
   "source": [
    "5**-3, 8e-3 "
   ]
  },
  {
   "cell_type": "markdown",
   "metadata": {},
   "source": [
    "`1e-1`  __Base 10 logarithm__ of 1 or 1x10^10; ^ means \"to the power of\"   \n",
    "\n",
    "| Number | How many 10s | Base-10 log |  \n",
    "| --- | --- | --- |  \n",
    "| . . . | | | \n",
    "| 1000| 1\\*10\\*10\\*10 | log(1000) = 3 |  \n",
    "| 100 | 1\\*10\\*10 | log(100) = 2 | \n",
    "| 10  | 1\\*10 | log(10) = 1 | \n",
    "| 1 | 1 | log(1) = 0 | \n",
    "| 0.1 | 1/10 | log(0.1) = -1 | \n",
    "| 0.01 | 1/10/10 | log(0.01) = -2 | \n",
    "| 0.001 | 1/10/10/10 | log(0.001) = -3 | \n",
    "| . . . | | | "
   ]
  },
  {
   "cell_type": "code",
   "execution_count": 16,
   "metadata": {},
   "outputs": [
    {
     "data": {
      "text/plain": [
       "(1.0, 0.1, 0.01, 0.001, 0, 2.0, 0.2, 0.02, 0.002, 0, 0.3, 0.03, 0.003)"
      ]
     },
     "execution_count": 16,
     "metadata": {},
     "output_type": "execute_result"
    }
   ],
   "source": [
    "1e-0, 1e-1, 1e-2, 1e-3, 0, 2e-0, 2e-1, 2e-2, 2e-3, 0, 3e-1, 3e-2, 3e-3 "
   ]
  },
  {
   "cell_type": "code",
   "execution_count": 17,
   "metadata": {},
   "outputs": [
    {
     "data": {
      "text/plain": [
       "(1.0, 10.0, 100.0, 1000.0, 0, 20.0, 200.0, 2000.0, 30.0, 300.0, 3000.0)"
      ]
     },
     "execution_count": 17,
     "metadata": {},
     "output_type": "execute_result"
    }
   ],
   "source": [
    "1e+0, 1e+1, 1e+2, 1e+3, 0, 2e+1, 2e+2, 2e+3, 3e+1, 3e+2, 3e+3 "
   ]
  },
  {
   "cell_type": "markdown",
   "metadata": {},
   "source": [
    "__Logarithm Laws and Properties:-__ log base 7 (49)= 2 ..because.. 7\\*\\*2= 49  \n",
    "`log base b (1) = 0` ..because.. b\\*\\*0= 1 __(identity)__  \n",
    "`log base b (b) = 1` ..because.. b\\*\\*1= b __(identity)__   \n",
    "`log base b (x) = c` ..because.. b\\*\\*c= x __(identity)__   \n",
    "`b**log base b(x)=x` .or. `log base b(b**x)=x` .bcos. antilog base b (log base b(x))=x  \n",
    "`log base b (b**x)= x` ..bcos.. log base b(antilog base b(x))= x (see below)  \n",
    "`log base a (b) = 1/log base b (a)` __(reciprocal)__  \n",
    "\n",
    "__(multiplication.1, quotient.2, power.3, root.4)__ log 10 = log 2 + log 5 and log 4 = 2 log 2 \n",
    "1. `log base b (xy) = log base b (x) + log base b (y)` ..bcos.. b\\*\\*c-b\\*\\*d= b\\*\\*c+d  \n",
    "2. `log base b (x/y) = log base b (x) - log base b(y)` ..bcos.. b\\*\\*c/b\\*\\*d= b\\*\\*c-d  \n",
    " `log base b (1/y) = log base b (y**-1) = -(log base b (y))`  \n",
    " `log base b (1/b**a) = -a`  \n",
    "3. `log base b (x**d) = d log base b (x)` ..bcos.. (b\\*\\*c)\\*\\*d= b\\*\\*cd __(power)__  \n",
    "4. `log base b (x**(y**-1)) = (log base b (x))/y` ..bcos.. x\\*\\*(y\\*\\*-1)= x\\*\\*1/y __(root)__  \n",
    " `log base b (x**(y**-1)) = log base b (x**1/y) = 1/y log base b (x)`  \n",
    "5. `x**log base b (y) = y**log base b (x)` ..bcos..  x\\*\\*log base b(y)=  \n",
    "b\\*\\*log base b(x).log base b(y)=(b\\*\\*log base b(y))\\*\\*log base b(x) = y\\*\\*log base b(x)  \n",
    "6. `c.log base b(x)+d.log base b(y)= log base b((x**c).(y**d))` ..bcos..  \n",
    "   log base b((x\\*\\*c).(y\\*\\*d))= log base b(x\\*\\*c) + log base b(y\\*\\*d)  \n",
    "*where b, x, and y are positive real numbers and b=/=1. C and D are real numbers. \n",
    "\n",
    "7. `log base b (a) = log base d (a) / log base d (b)` __(change base)__  \n",
    " `log base b (a) = 1 / log base a (b)` __(reciprocal)__   \n",
    " `log base b**n (a) = log base b (a) / n`  \n",
    " `b**log base a (d) = d.log base a (b)`  \n",
    " `-log base b (a) = log base b (1/a) = log base 1/b (a)`  \n",
    " `log base b (a) = ln a / ln b`   \n",
    " log base b1 (a1)...log base bn (an) = log base bp (a1)... log base bpn (an)  \n",
    "\n",
    "__(summation, subtract)__  \n",
    "`log base b (a+c) = log base b (a) + log base b (1+c/a)`  \n",
    "`log base b (a-c) = log base b (a) + log base b (1-c/a)` \n",
    "a and c have to be switched on the right side of the equations if c > a  \n",
    "subtraction identity is not defined if a=c since log of zero is not defined  \n",
    "\n",
    "__(exponent)__  \n",
    "`z**(log(log(x))/log(x)) = log (x)`  \n",
    "`x**(log(a)/log(x)) = a`  \n",
    "\n",
    "__(other/resulting identities)__  \n",
    "`1/((1/log base x(a))+(1/log base y(a))) = log base xy (a)`  \n",
    "`log base b M = log base b N <=> M=N`  "
   ]
  },
  {
   "cell_type": "markdown",
   "metadata": {},
   "source": [
    "![https://www.mathsisfun.com/algebra/exponents-logarithms.html](https://www.mathsisfun.com/algebra/images/loga-ax.gif)  \n",
    "![https://www.mathsisfun.com/algebra/exponents-logarithms.html](https://www.mathsisfun.com/algebra/images/aloga-x.gif) \n"
   ]
  },
  {
   "cell_type": "markdown",
   "metadata": {},
   "source": [
    "#### 2.0 Python Comparison Operators (6) : `>`, `<`, `==`, `!=`, `>=`, `<=`   \n",
    "Greater than, Less than, Equal `==`, Not equal `!=`, Greater or equal, Lesser or equal  "
   ]
  },
  {
   "cell_type": "code",
   "execution_count": 18,
   "metadata": {},
   "outputs": [
    {
     "name": "stdout",
     "output_type": "stream",
     "text": [
      "1 > 2 = False\n",
      "1 < 2 = True\n",
      "x == y is False\n",
      "x != y is True\n",
      "x >= y is False\n",
      "x <= y is True\n",
      "x <= x is True\n"
     ]
    }
   ],
   "source": [
    "x=1 \n",
    "y=2   \n",
    "print(x, '>', y, '=', x>y), \n",
    "print(x, '<', y, '=', x<y), \n",
    "print('x == y is', x==y), \n",
    "print('x != y is', x!=y), \n",
    "print('x >= y is', x>=y), \n",
    "print('x <= y is', x<=y),\n",
    "print('x <= x is', x<=x) \n",
    "# print('x <> y is', x<>y) <> invalid "
   ]
  },
  {
   "cell_type": "markdown",
   "metadata": {},
   "source": [
    "#### 3.0 Python Logical Operators (3): `and`, `or`, `not`    \n",
    "Any True in `and`= True. Any False in `or`= False. `not` negates boolen. "
   ]
  },
  {
   "cell_type": "code",
   "execution_count": 19,
   "metadata": {},
   "outputs": [
    {
     "name": "stdout",
     "output_type": "stream",
     "text": [
      "True and True = True\n",
      "True and False = False\n",
      "False and False = False\n"
     ]
    }
   ],
   "source": [
    "x = True  # and \n",
    "y = False \n",
    "print(x, 'and', x, '=', x and x)\n",
    "print(x, 'and', y, '=', x and y)  # False \n",
    "print(y, 'and', y, '=', y and y) "
   ]
  },
  {
   "cell_type": "code",
   "execution_count": 20,
   "metadata": {},
   "outputs": [
    {
     "name": "stdout",
     "output_type": "stream",
     "text": [
      "True or True = True\n",
      "True or False = True\n",
      "False or False = False\n"
     ]
    }
   ],
   "source": [
    "x = True  # or \n",
    "y = False \n",
    "print(x, 'or', x, '=', x or x)\n",
    "print(x, 'or', y, '=', x or y) # True  \n",
    "print(y, 'or', y, '=', y or y) "
   ]
  },
  {
   "cell_type": "code",
   "execution_count": 21,
   "metadata": {},
   "outputs": [
    {
     "name": "stdout",
     "output_type": "stream",
     "text": [
      "not True = False\n",
      "not y = True\n"
     ]
    }
   ],
   "source": [
    "x = True  # not \n",
    "y = False \n",
    "print('not', x, '=', not x)\n",
    "print('not y =', not y)  "
   ]
  },
  {
   "cell_type": "markdown",
   "metadata": {},
   "source": [
    "#### 4.0 Python Bitwise Operators (6): `&`, `|`, `-`, `^`, `>>`, `<<` \n",
    "Bitwise operates bit by bit, eg. 2 is 10, 7 is 111\n",
    "\n",
    "| Operator | Meaning | Example | \n",
    "| --- | --- | --- |\n",
    "|& |\tBitwise AND | \tx& y = 0 (0000 0000) |\n",
    "| pipe |\tBitwise OR |\tx pipe y = 14 (0000 1110) | \n",
    "|~ |\tBitwise NOT |\t~x = -11 (1111 0101) | \n",
    "|^ |\tBitwise XOR |\tx ^ y = 14 (0000 1110) |\n",
    "|>> |\tBitwise right shift | \tx>> 2 = 2 (0000 0010) |\n",
    "|<< | \tBitwise left shift |\tx<< 2 = 40 (0010 1000) |  \n",
    "\n",
    "x & y \"bitwise and\". if x AND y bits = 1 then 1 else 0  \n",
    "x | y \"bitwise or\". if x AND y bits = 0 then 0 else 1  \n",
    "\n",
    "~ x   \"bitwise tilde\". raise base 10 number and negative  \n",
    "~ x returns the complement of x - the number you get by switching each 1 for a 0 and each 0 for a 1. This is the same as -x - 1 ???  \n",
    "\n",
    "x ^ y \"bitwise exclusive or\". if y_bit=0, x=same; y=1, x=y  \n",
    "\n",
    "x >> y shift x bits by y to the right  \n",
    "x << y shift x bits by y to the left, new bits on right =0  "
   ]
  },
  {
   "cell_type": "code",
   "execution_count": 22,
   "metadata": {},
   "outputs": [
    {
     "data": {
      "text/plain": [
       "(2, 4, 7, 6, -3, -5, 5, 6, 0, 8)"
      ]
     },
     "execution_count": 22,
     "metadata": {},
     "output_type": "execute_result"
    }
   ],
   "source": [
    "x = 2   #pipe is | \n",
    "y = 7 \n",
    "z = 4\n",
    "x&y, y&z, x|y, x|z, ~x, ~z, x^y, x^z, x>>2, x<<2 "
   ]
  },
  {
   "cell_type": "markdown",
   "metadata": {},
   "source": [
    "2&7 match 1 correspond 2nd bit 010 & 111 output 010 =2  \n",
    "7&4 match 1 correspond 3rd bit 111 & 100 output 100 =4  \n",
    "2|7 match 0 correspond no bits 010 | 111 output 111 =7  \n",
    "2|4 match 0 correspond 1st bit 010 | 100 output 110 =6  \n",
    "~2 increase 2 to 3 and negative = -3  \n",
    "~4 increase 4 to 5 and negative = -5  \n",
    "2 bit 10 not correspond 2nd bit 7 bit 111 output 101 =5  \n",
    "2 bit 10 correspond 2nd 3rd bit 4 bit 100 output 110 =6  \n",
    "2 bit 10 shift right 2 bits output 0 \n",
    "2 bit 10 shift left 2 bits output 1000 =8 "
   ]
  },
  {
   "cell_type": "markdown",
   "metadata": {},
   "source": [
    "#### 5.0 Python Assignment Operators (13): `=`, `+=`, `-=`, `*=`, `/=`, `//=`, `%=`, `**=`,  \n",
    "`&=`, `|=`, `^=`, `>>=`, `<<=`  "
   ]
  },
  {
   "cell_type": "code",
   "execution_count": 23,
   "metadata": {},
   "outputs": [
    {
     "name": "stdout",
     "output_type": "stream",
     "text": [
      "3\n",
      "6\n",
      "3\n",
      "9\n",
      "3.0\n",
      "12\n",
      "4\n",
      "12\n",
      "0\n",
      "12\n",
      "1728\n",
      "0\n"
     ]
    }
   ],
   "source": [
    "x = 3; print(x) \n",
    "x += 3; print(x) # x = x + 3  \n",
    "x -= 3; print(x) \n",
    "x *= 3; print(x)\n",
    "x /= 3; print(x) #3.0 \n",
    "x = 12; print(x) \n",
    "x //= 3; print(x)\n",
    "x = 12; print(x) \n",
    "x %= 3; print(x) \n",
    "x = 12; print(x) \n",
    "x **= 3; print(x)\n",
    "x -= 12*12*12; print(x) "
   ]
  },
  {
   "cell_type": "markdown",
   "metadata": {},
   "source": [
    "#### 6.0 Python Identity Operators (2): `is`, `is not` \n",
    "Checks values are equal, not imply identical. www.programiz.com/python-programming/operators "
   ]
  },
  {
   "cell_type": "code",
   "execution_count": 24,
   "metadata": {},
   "outputs": [
    {
     "name": "stdout",
     "output_type": "stream",
     "text": [
      "False\n",
      "False\n",
      "True\n",
      "True\n"
     ]
    }
   ],
   "source": [
    "x = [1,2,3] \n",
    "y = [4,5,6] \n",
    "z = [1,2,3] \n",
    "print(x is y) \n",
    "print(x is z) \n",
    "print(x is not y) \n",
    "print(x is not z) "
   ]
  },
  {
   "cell_type": "markdown",
   "metadata": {},
   "source": [
    "#### 7.0  Python  Membership Operators (2): `in`, `not in`  \n",
    "Test sequence [string, list, tuple, set, dictionary] for value  \n",
    "Dictionary can only test for presence of key, not the value  "
   ]
  },
  {
   "cell_type": "code",
   "execution_count": 25,
   "metadata": {},
   "outputs": [
    {
     "name": "stdout",
     "output_type": "stream",
     "text": [
      "True\n",
      "True\n",
      "False\n",
      "False\n",
      "True\n"
     ]
    }
   ],
   "source": [
    "print(2 in x)\n",
    "print('a' not in x)\n",
    "z = {1:'a',2:'b'}; print('a' in z) \n",
    "y = 'Hello world'; print('R' in y) # Python is case sensitive \n",
    "print('ello' in y)"
   ]
  },
  {
   "cell_type": "markdown",
   "metadata": {},
   "source": [
    "1 Arithmetic (13): `+`, `-`, `*`, `/`, `//`, `%`, `abs()`, `round(,0)`,   \n",
    "root: x\\*\\*(1/float(n)) -or- x\\*\\*(n\\*\\*-1), exponent: \\*\\*, log: 1e-1  \n",
    "2 Comparison (6) : >, <, ==, !=, >=, <=¶\n",
    "3 Logical (3): and, or, not  \n",
    "4 Bitwise (6): &, |, -, ^, >>, <<  \n",
    "5 Assignment (13): =, +=, -=, *=, /=, //=, %=, \\*\\*=, &=, |=, ^=, >>=, <<=  \n",
    "6 Identity 2): is, is not  \n",
    "7 Membership (2): in, not in  --- '''Next: Python DataTypes'''  "
   ]
  }
 ],
 "metadata": {
  "kernelspec": {
   "display_name": "Python 3",
   "language": "python",
   "name": "python3"
  },
  "language_info": {
   "codemirror_mode": {
    "name": "ipython",
    "version": 3
   },
   "file_extension": ".py",
   "mimetype": "text/x-python",
   "name": "python",
   "nbconvert_exporter": "python",
   "pygments_lexer": "ipython3",
   "version": "3.6.4"
  }
 },
 "nbformat": 4,
 "nbformat_minor": 2
}
