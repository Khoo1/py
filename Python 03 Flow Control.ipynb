{
 "cells": [
  {
   "cell_type": "markdown",
   "metadata": {},
   "source": [
    "### Python Flow Control (8): if elif else, while, for, break, continue, pass   "
   ]
  },
  {
   "cell_type": "markdown",
   "metadata": {},
   "source": [
    "#### 1.0 Python `If`( condition) `:` (indent statement)  \n",
    "Body of `If` made of __indent__ and ends at the first unindented line.  \n",
    "Non-zero values as `True` and `None` and `0` as `False`  "
   ]
  },
  {
   "cell_type": "code",
   "execution_count": 46,
   "metadata": {},
   "outputs": [
    {
     "name": "stdout",
     "output_type": "stream",
     "text": [
      "100%\n",
      "End\n",
      "In memory\n"
     ]
    }
   ],
   "source": [
    "if 1: print('100%')   # 100% not enclosed ' ' = error \n",
    "print('End')\n",
    "\n",
    "if 1-1: \n",
    "    print('0%') \n",
    "    print('Stephen Hawking 1942 - 2018') \n",
    "print('In memory') "
   ]
  },
  {
   "cell_type": "markdown",
   "metadata": {},
   "source": [
    "#### 2.0 Python `If` (condition) `:` (indent execute) `else:` (indent execute)  "
   ]
  },
  {
   "cell_type": "code",
   "execution_count": 47,
   "metadata": {},
   "outputs": [
    {
     "name": "stdout",
     "output_type": "stream",
     "text": [
      "0\n",
      "0.0\n",
      "0\n",
      "2.0\n"
     ]
    }
   ],
   "source": [
    "if 0.1<1: print(0) \n",
    "else: print(1) \n",
    "print(0/1) \n",
    "\n",
    "if 1<0.1: \n",
    "    print(1)\n",
    "else: print(0) \n",
    "print(2.0) "
   ]
  },
  {
   "cell_type": "markdown",
   "metadata": {},
   "source": [
    "#### 3.0 Python `if` (test)`:` (indent exe) `elif` (test)`:` (indent exe) `else:` (indent exe)   \n",
    "`elif` means __else if__ to check multiple conditions, `if` is `False`  \n",
    "`if` is one statement, can have multiple `elif` "
   ]
  },
  {
   "cell_type": "code",
   "execution_count": 48,
   "metadata": {},
   "outputs": [
    {
     "name": "stdout",
     "output_type": "stream",
     "text": [
      "Enter number: -3\n",
      "Input is negative\n",
      "Thank you\n"
     ]
    }
   ],
   "source": [
    "a = float(input('Enter number: ')) \n",
    "\n",
    "if a>0: \n",
    "    print('Input is positive') \n",
    "elif a<0: \n",
    "        print('Input is negative') \n",
    "else: \n",
    "    print('Input is zero') # or error\n",
    "print('Thank you')"
   ]
  },
  {
   "cell_type": "markdown",
   "metadata": {},
   "source": [
    "#### 4.0 Python Nested `if` (test)`:` (indent)`if` (test)`:` (indent2 exe) \n",
    "Indentation "
   ]
  },
  {
   "cell_type": "code",
   "execution_count": 49,
   "metadata": {},
   "outputs": [
    {
     "name": "stdout",
     "output_type": "stream",
     "text": [
      "-ve\n",
      "-3.0\n"
     ]
    }
   ],
   "source": [
    "if a>=0: \n",
    "    if a==0: \n",
    "        print(0) \n",
    "    else: \n",
    "        print('+ve') \n",
    "elif a<0: print('-ve')\n",
    "else: print('Input was not a number')\n",
    "print(a) "
   ]
  },
  {
   "cell_type": "markdown",
   "metadata": {},
   "source": [
    "#### 5.0 Python `For` i `in` range()`:` (indent exe loop)  `else:` (indent exe @ end)  \n",
    "Loop through range of times, optional `else` to execute end of loop  \n",
    "i or val or any variable  \n",
    "range or sequence in `list[ ]`;  \n",
    " `range()` is a function; range(3) generates 0,1,2.  \n",
    " `range(start,stop`,step_size`)`  \n",
    " `list()` function, can output all items; print(list(range(10)))  \n",
    "  `len()` function, output length number of list/tuple/dictionary/set  "
   ]
  },
  {
   "cell_type": "code",
   "execution_count": 50,
   "metadata": {},
   "outputs": [
    {
     "name": "stdout",
     "output_type": "stream",
     "text": [
      "[0, 1, 2]\n",
      "3.0\n"
     ]
    }
   ],
   "source": [
    "b = list(range(abs(int(a)))); # change a=-3.0 to -3, 3, range(0,3), 0,1,2  \n",
    "print(b) # out: [0, 1, 2]\n",
    "for zero_negatives in b: a+=1  # a=-3 +1 a=0 +2 a=3 \n",
    "else: a+=3 \n",
    "print(a) "
   ]
  },
  {
   "cell_type": "markdown",
   "metadata": {},
   "source": [
    "#### 6.0 Python `While` (test)`:` (indent exe loop)  `else:` (indent exe @ false ~~or break~~)  \n",
    "Test condition first before loop-until-false  \n",
    "Non-zero value = `True` and `None` or `0` = `False`  \n",
    "Indent is body of `While` loop. Ends at first unindented. "
   ]
  },
  {
   "cell_type": "code",
   "execution_count": 51,
   "metadata": {},
   "outputs": [
    {
     "name": "stdout",
     "output_type": "stream",
     "text": [
      "2.0\n",
      "1.0\n",
      "0.0\n",
      "else happens eventually\n"
     ]
    }
   ],
   "source": [
    "while a>0: \n",
    "    a-=1 \n",
    "    print(a)\n",
    "else: print('else happens eventually') "
   ]
  },
  {
   "cell_type": "markdown",
   "metadata": {},
   "source": [
    "#### 7.0 Python `Break` and `Continue` within loops  \n",
    "`Break` interupts the loop. \n",
    "`Continue` skips rest of the loop in current iteration  "
   ]
  },
  {
   "cell_type": "code",
   "execution_count": 52,
   "metadata": {},
   "outputs": [
    {
     "name": "stdout",
     "output_type": "stream",
     "text": [
      "1.2\n",
      "2.4\n",
      "9\n"
     ]
    }
   ],
   "source": [
    "for i in range(3): \n",
    "    a+=1.2\n",
    "    print(a) \n",
    "    if a>=2: \n",
    "        break \n",
    "else: print(8) \n",
    "print(9) "
   ]
  },
  {
   "cell_type": "code",
   "execution_count": 53,
   "metadata": {},
   "outputs": [
    {
     "name": "stdout",
     "output_type": "stream",
     "text": [
      "1.2\n",
      "1 1.2\n"
     ]
    }
   ],
   "source": [
    "while a: \n",
    "    a-=1.2 \n",
    "    print(a) \n",
    "    if a<2: break \n",
    "else: print('exception') # because break, else did not happen \n",
    "print(i, a) "
   ]
  },
  {
   "cell_type": "code",
   "execution_count": 54,
   "metadata": {},
   "outputs": [
    {
     "name": "stdout",
     "output_type": "stream",
     "text": [
      "clue:\n",
      "H\n",
      "H\n",
      "clue:\n",
      "a\n",
      "a\n",
      "clue:\n",
      "w\n",
      "w\n",
      "clue:\n",
      "k\n",
      "k\n",
      "clue:\n",
      "i\n",
      "clue:\n",
      "n\n",
      "n\n",
      "clue:\n",
      "Hawking\n"
     ]
    }
   ],
   "source": [
    "for i in 'Hawking': \n",
    "    print('clue:') \n",
    "    if i =='g' : break \n",
    "    print(i)\n",
    "    if i ==\"i\" : continue \n",
    "    print(i[-1])\n",
    "else: print('Stephen') \n",
    "print('Hawking') "
   ]
  },
  {
   "cell_type": "markdown",
   "metadata": {},
   "source": [
    "#### 8.0 Python `pass`: contruct body that does nothing to new loop/function "
   ]
  },
  {
   "cell_type": "code",
   "execution_count": 55,
   "metadata": {},
   "outputs": [
    {
     "name": "stdout",
     "output_type": "stream",
     "text": [
      "1.2\n",
      "g g\n"
     ]
    }
   ],
   "source": [
    "print(a)\n",
    "def function(arg): pass \n",
    "class example: pass \n",
    "for a in i: pass \n",
    "print(a, i) "
   ]
  },
  {
   "cell_type": "markdown",
   "metadata": {},
   "source": [
    "1 Python `If`( condition) `:` (indent statement)  \n",
    "2 Python `If` (condition) `:` (indent execute) `else:` (indent execute)  \n",
    "3 Python `if` (test)`:` (indent exe) `elif` (test)`:` (indent exe) `else:` (indent exe)   \n",
    "4 Python Nested `if` (test)`:` (indent)`if` (test)`:` (indent2 exe) \n",
    "5 Python `For` i `in` range()`:` (indent exe loop)  `else:` (indent exe @ end)  \n",
    "6 Python `While` (test)`:` (indent exe loop)  `else:` (indent exe @ false)  \n",
    "7 Python `Break` and `Continue` within loops  \n",
    "8 Python `pass`: contruct body that does nothing to new loop/function "
   ]
  }
 ],
 "metadata": {
  "kernelspec": {
   "display_name": "Python 3",
   "language": "python",
   "name": "python3"
  },
  "language_info": {
   "codemirror_mode": {
    "name": "ipython",
    "version": 3
   },
   "file_extension": ".py",
   "mimetype": "text/x-python",
   "name": "python",
   "nbconvert_exporter": "python",
   "pygments_lexer": "ipython3",
   "version": "3.6.4"
  }
 },
 "nbformat": 4,
 "nbformat_minor": 2
}
