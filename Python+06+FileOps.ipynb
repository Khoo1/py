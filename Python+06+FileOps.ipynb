{
 "cells": [
  {
   "cell_type": "markdown",
   "metadata": {},
   "source": [
    "### Python File I/O (7): Open, Read, Write, Close, Dir, Exceptions    "
   ]
  },
  {
   "cell_type": "markdown",
   "metadata": {},
   "source": [
    "#### 1.0 Python File `Open(\"`PATH/filename.ext`\", `mode`)`  \n",
    "\n",
    "| Mode | Operational Capability | \n",
    "| --- | --- | \n",
    "| `r` | Open file to read (default) | \n",
    "| `w` | Open file to write. Creates new or truncate existing | \n",
    "| `x` | Open file for exclusive creation. If exist, fail | \n",
    "| `a` | Open file to append at end. Creates new. No truncate | \n",
    "| `t` | Open in text mode (default) | \n",
    "| `b` | Open in binary mode | \n",
    "| `+` | Open to update by read and write |  \n",
    "eg: f = `open(\"`file.ext`\",'r+b')`  ## read, write in binary mode  \n",
    "__`w`__ can __overwrite__ file content and create new file!  \n",
    "\n",
    "`a` does not imply the number 97 until it is encoded in `ASCII` or equiv.  \n",
    "Default encoding depends on OS; Windows is `cp1252`, Linux is `utf-8`  \n",
    "Recomended to specify encoding type: \n",
    "f = `open(\"`file.ext`\", mode=`'r'`, encoding='utf-8')`  "
   ]
  },
  {
   "cell_type": "markdown",
   "metadata": {},
   "source": [
    "#### 2.0 Python File `Close()`  \n",
    "f`.close()` ## f is from example above f = open(\"file.ext\")  \n",
    "\n",
    "`try:`...`finaly`: closes file if exception occurs cause program to stop.  \n",
    "`try:` \n",
    "'''indent'''     f `= open(\"`file.ext`\",encoding='utf-8')`  \n",
    "'''indent'''     '''file operation'''  \n",
    "`finally:`  \n",
    "'''indent'''     f`.close()`  \n",
    "\n",
    "`with` : closes file when exit block  \n",
    "`with open(\"`file.ext`\",encoding='utf-8') as` f:  \n",
    "'''indent'''     '''file operation'''  "
   ]
  },
  {
   "cell_type": "markdown",
   "metadata": {},
   "source": [
    "#### 3.0 Python File `Write()` from `Open()` mode `a`, `x`, `w`  \n",
    "`Write()` a string or sequence of bytes in binary file  \n",
    "`with open(\"`file.ext`\",encoding='utf-8') as` f:  \n",
    "'''indent'''     f`.write(\"`First file`\\n\")`  \n",
    "'''indent'''     f`.write(\"`has 2 lines`\\n\")`  \n",
    "'''`\\n` for new line. ''' "
   ]
  },
  {
   "cell_type": "markdown",
   "metadata": {},
   "source": [
    "#### 4.0 Python File `Read(size)` after `Open()`   \n",
    "`Read(size)` reads in `size` number of data.  \n",
    "If `size` parameter is not stated, it reads and returns up to end of file.  \n",
    "\n",
    "f = `open(\"`file.ext`\",'r',encoding='utf-8')`  \n",
    "f`.read(5)` '''# output: 'First''''  \n",
    "f`.read(6)` '''# output: ' file ''''  \n",
    "f`.read()` '''# read until the end of file '''  \n",
    "f`.read()` '''# further ready returns empty '' '''  \n",
    "Returns new line as `\\n`  \n",
    "\n",
    "`Seek()` to change cursor position. f.`seek(`0`)` cursor to start of file.  \n",
    "`Tell()` returns cursor position in number of bytes.  \n",
    "`Readline()` to read one line of a file until new line.  \n",
    "\n",
    "`For` loop to read file line-by-line until end.  \n",
    "Also `print()` end parameter avoids interim newlines when printing.  \n",
    "`for` v `in` f`:`  \n",
    "'''indent''' `print(`v`, end='')`  "
   ]
  },
  {
   "cell_type": "markdown",
   "metadata": {},
   "source": [
    "#### 5.0 [Python File Methods](https://www.programiz.com/python-programming/file-operation)    \n",
    "\n",
    "| Method | Description | \n",
    "| --- | --- | \n",
    "| close() |\tClose an open file. It has no effect if the file is already closed. |\n",
    "| detach() | Separate the underlying binary buffer from the TextIOBase and return it. |\n",
    "| fileno() | Return an integer number (file descriptor) of the file. |\n",
    "| flush() |\tFlush the write buffer of the file stream. |\n",
    "| isatty() | Return True if the file stream is interactive. |\n",
    "| read(n) |\tRead atmost n characters form the file. Reads till end of file if it is negative or None. |\n",
    "| readable() | Returns True if the file stream can be read from. |\n",
    "| readline(n=-1) | Read and return one line from the file. Reads in at most n bytes if specified. |\n",
    "| readlines(n=-1) |\tRead and return a list of lines from the file. Reads in at most n bytes/characters if specified. |\n",
    "| seek(offset,from=SEEK_SET) | Change the file position to offset bytes, in reference to from (start, current, end). |\n",
    "| seekable() | Returns True if the file stream supports random access. |\n",
    "| tell() | Returns the current file location. | \n",
    "| truncate(size=None) | Resize the file stream to size bytes. If size is not specified, resize to current location. |\n",
    "| writable() | Returns True if the file stream can be written to. |\n",
    "| write(s) | Write string s to the file and return the number of characters written. |\n",
    "| writelines(lines) | Write a list of lines to the file. |  "
   ]
  },
  {
   "cell_type": "markdown",
   "metadata": {},
   "source": [
    "#### 6.0 Python Directory   \n",
    "`import os`  \n",
    "`os.getcwd()` : current working directory in string form  \n",
    "`os.getcwdb()` : current working directory as __b__ytes object  \n",
    "Extra \\ backslash implies escape sequence\n",
    "\n",
    "`print(os.getcwd())` : renders properly  \n",
    "\n",
    "`os.chdir(`C:\\\\destination_directory`')` : change directory  \n",
    "`od.listdir()` : list directory and files  \n",
    "`od.listdir(`G:\\\\`)` : list directory and files at destination  \n",
    "\n",
    "`os.mkdir('`dir_name`')` : make new directory.  \n",
    "`os.rename('`dir_name`','`new_name`')` : rename directory.  \n",
    "`os.remove('`file.ext`')` : remove file.  \n",
    "`os.rmdir('`new_name`')` : remove empty directory.  \n",
    "\n",
    "`import shutil`  \n",
    "`shutil.rmtree('`dir_name`')` : removes directory and content.  "
   ]
  },
  {
   "cell_type": "markdown",
   "metadata": {},
   "source": [
    "#### 7.0 Python Exceptions `locals()['__builtins__']` \n",
    "`locals()['__builtins__']` : view exceptions caused by errors \n",
    "\n",
    "Syntax or parsing error: structure like missing : in if statement  \n",
    "Runtime error called exceptions like import not found or divide by 0.  \n",
    "Traceback from exception objects due to runtime error.  \n",
    "\n",
    "[Common built-in exceptions](https://www.programiz.com/python-programming/exceptions)  \n",
    "[User-defined exception](https://www.programiz.com/python-programming/user-defined-exception)  \n",
    "[Using try, except and finally statements to handle exceptions](https://www.programiz.com/python-programming/exception-handling) "
   ]
  },
  {
   "cell_type": "markdown",
   "metadata": {},
   "source": [
    "1 Python File `Open(\"`PATH/filename.ext`\", `mode`)`  \n",
    "2 Python File `Close()`  \n",
    "3 Python File `Write()` from `Open()` mode `a`, `x`, `w`  \n",
    "4 Python File `Read(size)` after `Open()`   \n",
    "5 [Python File Methods](https://www.programiz.com/python-programming/file-operation)  \n",
    "6 Python Directory `os.getcwd()`, `listdir()`, `chdir()`, `mkdir()`, `rename()`, `rmdir()`  \n",
    "7 Python Exceptions `locals()['__builtins__']`  "
   ]
  },
  {
   "cell_type": "code",
   "execution_count": null,
   "metadata": {
    "collapsed": true
   },
   "outputs": [],
   "source": []
  }
 ],
 "metadata": {
  "kernelspec": {
   "display_name": "Python 3",
   "language": "python",
   "name": "python3"
  },
  "language_info": {
   "codemirror_mode": {
    "name": "ipython",
    "version": 3
   },
   "file_extension": ".py",
   "mimetype": "text/x-python",
   "name": "python",
   "nbconvert_exporter": "python",
   "pygments_lexer": "ipython3",
   "version": "3.6.3"
  }
 },
 "nbformat": 4,
 "nbformat_minor": 2
}
