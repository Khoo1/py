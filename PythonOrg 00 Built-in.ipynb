{
 "cells": [
  {
   "cell_type": "markdown",
   "metadata": {},
   "source": [
    "[Built-in Constants](https://docs.python.org/3/library/constants.html): False, True, None, elipsis..., \\_\\_debug\\_\\_, NotImplemented,  \n",
    "for interactive interpreter not in programs: quit(), exit()"
   ]
  },
  {
   "cell_type": "markdown",
   "metadata": {},
   "source": [
    "[Built-in Types](https://docs.python.org/3/library/stdtypes.html) (6):  \n",
    "numeric, sequences, mappings, classes, instances and exceptions.  \n",
    "\n",
    "[Truth Value Testing](https://docs.python.org/3/library/stdtypes.html#truth-value-testing) (3): constant, zero, empty sequences and collection  \n",
    "- Constant false: `None` `False`  \n",
    "- Numeric zero: `0`, `0.0`, `0j`, `Decimal(0)`, `Fraction(0,1)`  \n",
    "- Sequence and Collection empty: `' '`, `( )`, `[ ]`, `{ }`, `set{}`, `range(0)`  \n",
    "\n",
    "[Comparisons](https://docs.python.org/3/library/stdtypes.html#comparisons) (8): equal `==`, not equal `!=`, `<`, `<=`, `>`, `>=`, `is`, `is not`  \n",
    "\n",
    "[Boolean Operations](https://docs.python.org/3/library/stdtypes.html#boolean-operations-and-or-not) (3): or, and, not (a==b) \n",
    "\n",
    "[Numeric Type](https://docs.python.org/3/library/stdtypes.html#numeric-types-int-float-complex) (3): int, float, complex `j` `J`  \n",
    "`+` `-` `*` `/` `//` `%` `-`1, `+`1,  `abs()` `int()` `float()` `complex(real, imagine)` `c.conjugate()` `divmod(x, y)` `**` `pow(x, y)` `round(x[,n])`  \n",
    "- Integer division result is always rounded towards minus infinity: `1//2` is 0, `(-1)//2` is -1, `1//(-2)` is -1, and `(-1)//(-2)` is 0.  \n",
    "- Float accepts strings “nan” and “inf” with optional prefix “+” or “-” for Not a Number (NaN) and positive or negative infinity.  \n",
    "\n",
    "[Bitwise Operations on Integer](https://docs.python.org/3/library/stdtypes.html#numeric-types-int-float-complex) (6): `|`or, `^`xor, `&`and, `<<`left `>>`right `~` invert  \n",
    "Negative shift counts are illegal and cause a ValueError  \n",
    "\n",
    "[Methods on Integer](): \n",
    "`bin(`v`)` translate integer to binary e.g. v=-37 -> -0b100101  \n",
    "v`.bit_length()` number of bits to represent integer in binary -0b100b101 -> 6  \n",
    "v`.lstrip('`-0b`')` remove leading zeros and minus sign  \n",
    "\n",
    "v`.to_bytes(`length, byteOrder,*, signed=False`)` array of bytes represent integer, e.g. (1024).to_bytes(2, byteorder='big') : b'\\x04\\x00'  \n",
    "byteorder=`\"big\"`: most significant byte at beginning, `\"little\"` then at end. Use `sys.byteorder` for native byte order. `OverflowError` if integer is not representable with the given number of bytes.  \n",
    "\n",
    "_classmethod_ int`.from_bytes(`bytes, byteorder, *, signed=False`)` array of bytes of integer, e.g. int.from_bytes(b'\\xfc\\x00', byteorder='big', signed=True) : -1024  \n",
    "\n",
    "[Method on Float](https://docs.python.org/3/library/stdtypes.html#numeric-types-int-float-complex) : \n",
    "`complex('`1+2j`')` is fine, but complex('1 + 2j') is ValueError, no spaces.  \n",
    "`real` get real component of number  \n",
    "`imag` get imaginary component of number  \n",
    "`.conjugate()` get complex conjugate  \n",
    "float`.as_integer_ratio()` get a pair of integers ratio equal to float  \n",
    "float`.is_integer()` return True if float is integer, or False if decimal  \n",
    "float`.hex()` return hexadecimal string `0x` and trailing `p` and exponent of float  \n",
    "_classmethod_ float`.fromhex(s)` return hexadcimal string s-with-lead-and-trail-whitespace of float  \n",
    "hexadecimal string: `[sign] ['0x'] integer ['.' fraction] ['p' exponent]` e.g.  \n",
    "float.fromhex('0x3.a7p10') : 3740.0  ## _class method_   \n",
    "float.hex(3740.0) : '0x1.d380000000000p+11'  ## instance method   \n",
    "\n",
    "[Hashing of numeric type](https://docs.python.org/3/library/stdtypes.html#numeric-types-int-float-complex)  "
   ]
  },
  {
   "cell_type": "markdown",
   "metadata": {},
   "source": [
    "[Iterator Type](https://docs.python.org/3/library/stdtypes.html#iterator-types) container.\\_\\_iter\\_\\_() , iterator.\\_\\_iter\\_\\_() , iterator.\\_\\_next\\_\\_()  \n",
    "\n",
    "[Sequence Type](https://docs.python.org/3/library/stdtypes.html#sequence-types-list-tuple-range) list\\[\\], tuple(), range()  \n",
    "Sequence Operations: i `in` s, i `not in` s, `+`concatenate, `*`duplicate, `[]`index, `[:]`slice, `[fr:to:step]`slice stepsize, `len()`, `min()`, `max()`, s`.count(`i`)`count i in s,   \n",
    "s`.index(`i`[,` i2`[,` e`]])` index first occurence of i in s (at or after index i2 and before index e)  \n",
    "\n",
    "Empty sequence or less than 0 are treated as 0.  \n",
    "Concatenating immutable sequences produce new object, quadratic runtime cost.  \n",
    "Some sequence types (range) only allow specific patterns, can’t concatenation or repetition.  \n",
    "`index` i is not found in s = error. Extra arguments is like s`[`a`:`b`].index(`i`)`  \n",
    "\n",
    "[Immutable Sequence Types](https://docs.python.org/3/library/stdtypes.html#sequence-types-list-tuple-range) `tuple`, `str()`, `bytes()`, `hash()`   \n",
    "\n",
    "`Tuple(,)` immutable sequence. `()`empty, `tuple()`store content as tuple,  \n",
    "`f(a,b,c)` is a function call with 3 arguments, while `f((a,b,c))` is a function call with a 3-tuple  \n",
    "\n",
    "`Range(start,stop[,step])` immutable sequence. No concatenation and repetition.  \n",
    "\n",
    "`str()` `''`allows embeded\"\", `\"\"`allows embeded'', `'''.'''` or `\"\"\".\"\"\"` multi line.  \n",
    "Single expression with only whitespace between them will be implicitly converted to a single string literal. (\"a \" \"b\")==\"a b\". `r` raw prefix, index str produce string of length 1: `s[0]==s[0:1]`, `str.join()` or `io.StringIO` construct string from fragments.  \n",
    "\n",
    "_class_ `str(object=b'', encoding='utf-8', errors='strict')` returns string from `object.__str__()` or `repr(object)`  \n",
    "str`.capitalize()` first character capitalized rest lowercased.  \n",
    "str`.casefold()` casefold similar to lowercase, German letter 'ß' to \"ss\".  \n",
    "str`.center(width[,fillchar])` string centered in length width, fillchar=padding  \n",
    "str`.count(sub[,start[,end]])` number of non-overlap occurrences.  \n",
    "str`.encode(encoding=\"utf-8\",errors=\"strict\")` version of str as byte object. \"strict\" = UnicodeError, alternative \"ignore\" 'replace' \"xmlcharrefreplace\" 'backslashreplace'  \n",
    "str`.endswith(suffix[,start[,end]])` True if str end in suffix.  \n",
    "str`.expandtabs(tabsize=8)` tabs `\\t` replaced by one or more spaces. E.g. `'01\\t012\\t0123\\t01234'.expandtabs(4)` '01  012 0123    01234'  \n",
    "str`.find(sub[,start[,end]])` lowest index in str where substr is found or -1 if none.  \n",
    "Alternative 'Py' `in` 'Python' : True  \n",
    "str`.index(sub[,start[,end]])` like `find()` but ValueError if not found.  \n",
    "\n",
    "str`.format(\"args, **kwargs)`: \"1 + 2 is {0}\".format(1+2): '1 + 2 is 3'  \n",
    "str`.format_map(mapping)` mapping applied directly not copied to dict.  \n",
    "str`.isalnum()` True if str has at least 1 character and is alphanumeric  \n",
    "str`.isalpha()` True if str has at least 1 character and is alphabet only   \n",
    "str`.isdecimal()` True if str has at least 1 character and is decimal char  \n",
    "str`.isdigit()` True  if str has at least 1 character and is digit only   \n",
    "str`.isidentifier()` True if str is an identifier according to Python  \n",
    "kw`.iskeyword()` True if kw is `def` or `class`  \n",
    "str`.islower()` True  if str has at least 1 character and is lowercase only  \n",
    "str`.isnumeric()` True  if str has at least 1 character, Unicode numeric  \n",
    "\n",
    "str`.isprintable()` True  if str has at least 1 character and printable  \n",
    "str`.isspace()` True if str has at least 1 character and whitespace only  \n",
    "str`.istitle()` True if str has at least 1 character and titlecased  \n",
    "str`.isupper()` True if str has at least 1 character and upper case only  \n",
    "\n",
    "str`.join(iterable)` concatenated strings in iterable.  \n",
    "str`.ljust(width[,fillchar])` left justified string length width (padding)  \n",
    "str`.lower()` lowercase string  \n",
    "str`.lstrip([char])` string's leading characters in char removed.  \n",
    "\n",
    "str`.maketrans(x[,y[,z]])` translation table usable for `str.translate()`  \n",
    "str`.partition(sep)` split string at sep return 3-tuple prior, sep, after  \n",
    "str`.replace(old,new[,count])` first count occurs replace old with new  \n",
    "str`.rfind(sub[,start[,end]])` highest index in substr or -1 if fail  \n",
    "str`.rindex(sub[,start[,end]])` like rfind() but ValueError if not found  \n",
    "str`.rjust(width[,fillchar])` right justified string length width padding  \n",
    "str`.rpartition(sep)` split string at sep last occur return 3-tuple  \n",
    "str`.rsplit(sep=None,maxsplit=1)` list of words in str, maxsplit right most  \n",
    "str`.split(sep=None,maxsplit=1)` list of words, maxsplit-1 all splits   \n",
    "`'1,2,,3,'.split(',')` : \\['1', '2', '', '3', ''\\]  \n",
    "\n",
    "str`.splitlines([keepends])` list of lines in str keeps line break by keepends  \n",
    "` Representation  Description   \n",
    " \\n \t| Line Feed   \n",
    " \\r \t| Carriage Return   \n",
    " \\r\\n \t| Carriage Return + Line Feed   \n",
    " \\v or \\x0b \t| Line Tabulation   \n",
    " \\f or \\x0c \t| Form Feed   \n",
    " \\x1c \t| File Separator   \n",
    " \\x1d \t| Group Separator   \n",
    " \\x1e \t| Record Separator   \n",
    " \\x85 \t| Next Line (C1 Control Code)   \n",
    " \\u2028 \t| Line Separator   \n",
    " \\u2029 \t| Paragraph Separator  `  \n",
    " `'ab c\\n\\nde fg\\rkl\\r\\n'.splitlines()` : \\['ab c', '', 'de fg', 'kl'\\]  \n",
    " `'ab c\\n\\nde fg\\rkl\\r\\n'.splitlines(keepends=True)` : \\['ab c\\n', '\\n', 'de fg\\r', 'kl\\r\\n'\\]  \n",
    "\n",
    "str`.startswith(prefix[,start[,end]])` True str begins with prefix  \n",
    "str`.'strip([char])` e.g. `'www.example.com'.strip('cmowz.')`: 'example'  \n",
    "str`.swapcase()` swaps lower to upper case and vice versa  \n",
    "str`.title()` titledcase of string e.g. `'Hello world'.title()`: 'Hello World'  \n",
    "str`.translate(table)` string with character mapped to given translation table.  \n",
    "str`.maketrans()` to create translation map  \n",
    "str`.upper()` string in upper case   \n",
    "str`.zfill(width)` string left filled with '0' `\"-42\".zfill(5)`: '-0042'  \n",
    "\n",
    "Printf: `print('%(language)s has %(number)03d quote types.' % {'language': \"Python\", \"number\": 2})` : Python has 002 quote types.  \n",
    "'%' marks start of the specifier.  \n",
    "Mapping key (optional) are parenthesised characters (somename).  \n",
    "Conversion flags (optional) affect the result of some conversion types.  \n",
    "Minimum field width (optional). If '*', width is read from the next element of the tuple in values, and the object to convert comes after the minimum field width and optional precision.  \n",
    "Precision (optional), given as a '.' (dot) followed by the precision. If '*' (asterisk), the precision is read from the next element of the tuple in values, and the value to convert comes after the precision.  \n",
    "Length modifier (optional).  \n",
    "[Conversion type](file:///C:/Users/Khoo/Desktop/AI/python-3.6.5-docs-html/library/stdtypes.html).  \n",
    "\n",
    "Flag \tMeaning  \n",
    "`#` \tThe value conversion will use the “alternate form” (where defined below).  \n",
    "`0` \tThe conversion will be zero padded for numeric values.  \n",
    "`-` \tThe converted value is left adjusted (overrides the '0' conversion if both are given).  \n",
    "` ` \t(a space) A blank should be left before a positive number (or empty string) produced by a signed conversion.  \n",
    "`+` \tA sign character ('+' or '-') will precede the conversion (overrides a “space” flag).  "
   ]
  },
  {
   "cell_type": "markdown",
   "metadata": {},
   "source": [
    "[Mutable Sequence Types](https://docs.python.org/3/library/stdtypes.html#sequence-types-list-tuple-range) `set`, `MutableSet`, `mapping`, `MutableMapping`, `MutableSequence`, `MappingView`, `ItemsView`, `KeysView`, `ValuesView`, `List()`, `bytearray()`   \n",
    "Operations: `s[i]=x` x replace item i in s,  \n",
    "`s[i:j]=t` slice s from i to j replace by iterable t of same length,  \n",
    "slice not supported for dictionary and set  \n",
    "`del s[i:j]` same as `s[i:j]=[]`,  \n",
    "`s[i:j:k]=t` items in i:j:k replaced by t,  \n",
    "`s.append(x)` adds x to end of s or `s[len(s):len(s)]=x`,  \n",
    "`s.clear()` remove all items from s or `del s[[:]`,  \n",
    "`s.copy()` create copy of s or `s[:]`,  \n",
    "`s.extend(t)` or `s+=t` extend s with content of t or `s[len(s):len(s)]=t`,  \n",
    "`s*=n`updates s with its content repeated n times, reference not copy,  \n",
    "`s.insert(i,x)` insert x into s at the index i or `s[i:i]=[x]`,  \n",
    "`s.pop([i])` remove i from s,  \n",
    "`s.remove(x)` remove first item from s where `s[i]==x` error if not found,  \n",
    "`s.reverse()` reverse the items of s in place, side effect only.  \n",
    "\n",
    "`List([,])` is mutable sequence. `[]`empty, `iterable[:]`, `sort(*,key=None,reverse=False)`  "
   ]
  },
  {
   "cell_type": "code",
   "execution_count": 19,
   "metadata": {},
   "outputs": [
    {
     "data": {
      "text/plain": [
       "([3, 9, 6, 24, 18], 3, 18, [6, 24, 18], [3, 9, 6, 24, 18])"
      ]
     },
     "execution_count": 19,
     "metadata": {},
     "output_type": "execute_result"
    }
   ],
   "source": [
    "lis=[3,9,6,24,18] \n",
    "lis, lis[0], lis[-1], lis[-3:], lis[:]  # index and slice "
   ]
  },
  {
   "cell_type": "code",
   "execution_count": 20,
   "metadata": {},
   "outputs": [
    {
     "data": {
      "text/plain": [
       "[3, 9, 6, 24, 18, 2, 8, 6, 10, 4]"
      ]
     },
     "execution_count": 20,
     "metadata": {},
     "output_type": "execute_result"
    }
   ],
   "source": [
    "lis+[2,8,6,10,4]  #concatenation "
   ]
  },
  {
   "cell_type": "code",
   "execution_count": 21,
   "metadata": {},
   "outputs": [
    {
     "data": {
      "text/plain": [
       "[3, 9, 6, 27, 18]"
      ]
     },
     "execution_count": 21,
     "metadata": {},
     "output_type": "execute_result"
    }
   ],
   "source": [
    "lis[3]=27; lis  # replace in mutable list "
   ]
  },
  {
   "cell_type": "code",
   "execution_count": 22,
   "metadata": {},
   "outputs": [
    {
     "data": {
      "text/plain": [
       "[3, 9, 6, 27, 18, 4]"
      ]
     },
     "execution_count": 22,
     "metadata": {},
     "output_type": "execute_result"
    }
   ],
   "source": [
    "lis.append(2**2); lis "
   ]
  },
  {
   "cell_type": "code",
   "execution_count": 23,
   "metadata": {},
   "outputs": [
    {
     "data": {
      "text/plain": [
       "[2, 6, 8, 10, 18, 4]"
      ]
     },
     "execution_count": 23,
     "metadata": {},
     "output_type": "execute_result"
    }
   ],
   "source": [
    "lis[0:4]=[2,6,8,10]; lis "
   ]
  },
  {
   "cell_type": "code",
   "execution_count": 24,
   "metadata": {},
   "outputs": [
    {
     "data": {
      "text/plain": [
       "[2, 6, 8, 18, 4]"
      ]
     },
     "execution_count": 24,
     "metadata": {},
     "output_type": "execute_result"
    }
   ],
   "source": [
    "lis[3:4]=[]; lis "
   ]
  },
  {
   "cell_type": "code",
   "execution_count": 25,
   "metadata": {},
   "outputs": [
    {
     "data": {
      "text/plain": [
       "[]"
      ]
     },
     "execution_count": 25,
     "metadata": {},
     "output_type": "execute_result"
    }
   ],
   "source": [
    "lis[:]=[]; lis "
   ]
  },
  {
   "cell_type": "code",
   "execution_count": 26,
   "metadata": {},
   "outputs": [
    {
     "data": {
      "text/plain": [
       "4"
      ]
     },
     "execution_count": 26,
     "metadata": {},
     "output_type": "execute_result"
    }
   ],
   "source": [
    "lis=['a','b','c','d']; len(lis) "
   ]
  },
  {
   "cell_type": "code",
   "execution_count": 27,
   "metadata": {},
   "outputs": [
    {
     "data": {
      "text/plain": [
       "[['a', 'b', 'c', 'd'], [1, 2, 3]]"
      ]
     },
     "execution_count": 27,
     "metadata": {},
     "output_type": "execute_result"
    }
   ],
   "source": [
    "lis2=[1,2,3] \n",
    "lis=[lis,lis2]; lis"
   ]
  },
  {
   "cell_type": "code",
   "execution_count": 28,
   "metadata": {},
   "outputs": [
    {
     "data": {
      "text/plain": [
       "([1, 2, 3], 'b')"
      ]
     },
     "execution_count": 28,
     "metadata": {},
     "output_type": "execute_result"
    }
   ],
   "source": [
    "lis[1], lis[0][1] "
   ]
  },
  {
   "cell_type": "markdown",
   "metadata": {},
   "source": [
    "[Binary Sequence Types](file:///C:/Users/Khoo/Desktop/AI/python-3.6.5-docs-html/library/stdtypes.html) — `bytes`, `bytearray`, `memoryview`  \n",
    "_class_ `bytes([source[, encoding[, errors]]])`  \n",
    "_classmethod_ `fromhex(string)`  \n",
    "`.hex()` eg. `b'\\xf0\\xf1\\xf2'.hex()` : 'f0f1f2'  \n",
    "\n",
    "_class_ `bytearray([source[, encoding[, errors]]])`  \n",
    "`bytes.count(sub[, start[, end]])` \n",
    "`bytearray.count(sub[, start[, end]])`  \n",
    "\n",
    "_class_ `memoryview(obj)` eg. `v = memoryview(b'abcefg')`\n",
    "`v[1]`: 98  `v[-1]`: 103 `v[1:4]`: <memory at 0x7f3ddc9f4350> `bytes(v[1:4])`:\n",
    "b'bce'  "
   ]
  },
  {
   "cell_type": "markdown",
   "metadata": {},
   "source": [
    "[Set Types](file:///C:/Users/Khoo/Desktop/AI/python-3.6.5-docs-html/library/stdtypes.html) — `set([iterable])`, `frozenset([iterable])` \n",
    "Set `{,}`: unordered, mutable (can `add()` `remove()`, hashable  \n",
    "Frozenset: immutable, hashable (hash value never change in lifetime)  \n",
    "\n",
    "`len(`v`)` number of elements in set v (cardinality of v)  \n",
    "v `in` s : test v for membership in s  \n",
    "v `not in` s : rest v for non-membership in s  \n",
    "`isdisjoint(other)` True if no element in common with other  \n",
    "`issubset(other)` `set<=other` `set<other` Test set is subset of other  \n",
    "`issuperset(other)` `set>=other` `set>other` Test set is superset of other  \n",
    "`union(*other)` `set|other|...` New set from set and all others  \n",
    "`intersection(*others)` `set&other\"&...` New set element common in set, other  \n",
    "`difference(*other)` `set-other-...` New set element in set not in others  \n",
    "`symmetric_differene(other)` `set^other` New set in set or other not both  \n",
    "`copy()` new set with shallow copy  \n",
    "\n",
    "Operations for `set` not `frozenset`  \n",
    "`update(*others)` `set|=other|...` Update set add from others  \n",
    "`intersection_update(*others)` `set&=other&...` Update set common with others  \n",
    "`difference_update(*others)` `set-=other|...` Update set remove others' in set  \n",
    "`symmetric_difference_update(other)` `set^=other` Update set either set not both  \n",
    "`add(elem)` add elem to set  \n",
    "`remove(elem)` remove eleme from set, if not in, KeyError    \n",
    "`discard(elem)` remove elem from set if present  \n",
    "`pop()` remove arbitrary element from set. If set empty, KeyError  \n",
    "`clear()` remove all elements from set.  "
   ]
  },
  {
   "cell_type": "markdown",
   "metadata": {},
   "source": [
    "[Mapping Type](file:///C:/Users/Khoo/Desktop/AI/python-3.6.5-docs-html/library/stdtypes.html#mapping-types-dict) `Dict`: hashable, maps mutable objects  \n",
    "Dictionary's keys are not hashable = `key: value, key2: valu2`  \n",
    "Float are stored as estimation and not suitable as keys. \n",
    "\n",
    "_class_`dict(**kwarg)`  \n",
    "_class_`dict(maping, **kwarg)`   \n",
    "_class_`dict(iterable, **kwarg)` dictionary  \n",
    "If no positional argument, empty dictionary is created. If a positional argument is given and it is a mapping object, a dictionary is created with the same key-value pairs as the mapping object. Otherwise, the positional argument must be an iterable object. If a key occurs more than once, the last value for that key becomes the corresponding value in the new dictionary. If keyword arguments are given, the keyword arguments and their values are added to the dictionary created from the positional argument.    \n",
    "a = dict(one=1, two=2, three=3)  \n",
    "b = {'one': 1, 'two': 2, 'three': 3}  \n",
    "c = dict(zip(\\['one', 'two', 'three'\\], \\[1, 2, 3\\]))  \n",
    "d = dict(\\[('two', 2), ('one', 1), ('three', 3)\\])  \n",
    "e = dict({'three': 3, 'one': 1, 'two': 2})  \n",
    "a == b == c == d == e : True   \n",
    "\n",
    "`len(d)` number of item in dictionary d.   \n",
    "`d[key]` key's item from dictionary d or KeyError if key not in map.  \n",
    "\n",
    "```python \n",
    "class Counter(dict):  \n",
    "     def __missing__(self, key):  \n",
    "         return 0   \n",
    "c = Counter()  \n",
    "c['red'] :  0  #red not define and is missing so return 0   \n",
    "c['red'] += 1  \n",
    "c['red'] :  1   ``` \n",
    "\n",
    "`d[key]=`value  sets dictionary d with key to a value.  \n",
    "`del d[key]` remove key from d or KeyError if key not map.  \n",
    "`key in d` True if d has key called key else False.  \n",
    "`key not in d` True if d do not have key else False.  \n",
    "`iter(d)` iterate dictionary d's keys, same as `iter(d.keys())`  \n",
    "`clear()` empty out dictionary.  \n",
    "`copy()` dictionary's shadow copy.  \n",
    "_classmethod_ `formkeys(seq[,value])` new dictionary, key from seq, value=value.  \n",
    "`get(key[,default])` value or default/None for key in dictionary.  \n",
    "d`.item()` from dictionary `(key, value)` pair.  \n",
    "\n",
    "`keys()` key from dictionary.  \n",
    "`pop(key[,default])` remove and return value or default or KeyError from key  \n",
    "`popitem()` remove and return (key, value) from dictionary.  \n",
    "`setdefault(key[,default])` return key's value or insert key with default:None.  \n",
    "d`.update([other])` update dictionary from other's key/value pair.  \n",
    "d`.values()` dictionary's value.  \n",
    "\n",
    "`len(d)` number of element in dictionary d.  \n",
    "`iter(d)` iterator over keys and values in d.  \n",
    "`pairs=zip(d.values(),d.keys())` pairs values to keys same as  \n",
    "`pairs-[(v,k) for (k,v) in d.items()]`. Iterate view while add/delete may error  \n",
    "`x in dict` True if x in dictionary's key, values  "
   ]
  },
  {
   "cell_type": "markdown",
   "metadata": {},
   "source": [
    "[Collections](https://docs.python.org/3/library/collections.html#module-collections) - container datatypes. Source code: [Lib/collections/\\_\\_init\\_\\_.py](https://github.com/python/cpython/tree/3.6/Lib/collections/__init__.py)  \n",
    "Alternative to dict, list, set, tuple :  \n",
    "`namedtuple()` [namedtuple](file:///C:/Users/Khoo/Desktop/AI/python-3.6.5-docs-html/library/collections.html#namedtuple-factory-function-for-tuples-with-named-fields) create tuple subclasses with named fields  \n",
    "`deque` [deque](file:///C:/Users/Khoo/Desktop/AI/python-3.6.5-docs-html/library/collections.html#deque-objects) list-like container with fast appends and pops on either end  \n",
    "`ChainMap` [ChainMap](file:///C:/Users/Khoo/Desktop/AI/python-3.6.5-docs-html/library/collections.html#collections.ChainMap) dict-like class for single view of multiple mappings  \n",
    "`Counter` [Counter](file:///C:/Users/Khoo/Desktop/AI/python-3.6.5-docs-html/library/collections.html#counter-objects) dict subclass for counting hashable objects  \n",
    "`OrderedDict` [OrderedDict](file:///C:/Users/Khoo/Desktop/AI/python-3.6.5-docs-html/library/collections.html#ordereddict-objects) dic subclass that remembers entry sequence added  \n",
    "`defaultdict`[defaultdict](file:///C:/Users/Khoo/Desktop/AI/python-3.6.5-docs-html/library/collections.html#defaultdict-objects) dic subclass that calls factory function to supply missing values  \n",
    "`UserDict` [UserDict](file:///C:/Users/Khoo/Desktop/AI/python-3.6.5-docs-html/library/collections.html#userdict-objects) wrapper around dict objects easier dict subclassing  \n",
    "`UserList` [UserList](file:///C:/Users/Khoo/Desktop/AI/python-3.6.5-docs-html/library/collections.html#userlist-objects) wrapper around list objects for easier list subclassing  \n",
    "`UserString` [UserString](file:///C:/Users/Khoo/Desktop/AI/python-3.6.5-docs-html/library/collections.html#userstring-objects) wrapper around string objects for earier string subclassing  "
   ]
  },
  {
   "cell_type": "markdown",
   "metadata": {},
   "source": [
    "[Context Manager Types](file:///C:/Users/Khoo/Desktop/AI/python-3.6.5-docs-html/library/stdtypes.html#context-manager-types)  \n",
    "`with` statement supports runtime context. cm= contextmanager in: \n",
    "contextmanager`.__enter__()` or cm`._enter__()` enter runtime context  \n",
    "cm`.__exit__(exc_type,exc_val,exc_tb)` exit return boolean flag if exception  \n",
    "[Generators](file:///C:/Users/Khoo/Desktop/AI/python-3.6.5-docs-html/glossary.html#term-generator) and [contextlib.contextmanager](file:///C:/Users/Khoo/Desktop/AI/python-3.6.5-docs-html/library/contextlib.html#contextlib.contextmanager) returns context manager implementing \\_\\_enter\\_\\_() and \\_\\_exit\\_\\_() methods, rather than the iterator produced by an undecorated generator function.    "
   ]
  },
  {
   "cell_type": "markdown",
   "metadata": {},
   "source": [
    "[Other Built-in](https://docs.python.org/3/library/stdtypes.html#other-built-in-types): __Modules__: m`.name` access name in module m   \n",
    "m`.__dict__[`'a'`]=`1 defines m.a to be 1 but not modify \\_\\_dict\\_\\_ directly.  \n",
    "Modules built into interpreter are like `<module 'sys' (build-in)>` e.g. `<module 'os' from '/usr/local/lib/pythonX.Y/os.pyc'>`  \n",
    "\n",
    "__Class__\n",
    "\n",
    "__Functions__ \n",
    "\n",
    "__Methods__ are functions called using attribute notation (2)  \n",
    "built-in methods like append() \n",
    "class instance method has unique object of a bound method or instance method.  \n",
    "When called, it adds `self` argument into argument list.  \n",
    "m`.__self__` is object which method operates   \n",
    "m`.__func__` is function implementing method.  \n",
    "m`(arg1, arg2,..., argn)` same m.`__func__(m.__self__, arg1, arg2,..,argn)`  \n",
    "Setting method attribute on bound method is not allowed. Set to function object.  \n",
    "```python \n",
    "class C:\n",
    "     def method(self):\n",
    "         pass\n",
    "c = C()\n",
    "c.method.whoami = 'my name is method'\n",
    "```  \n",
    " Can not set on the method  \n",
    " Traceback (most recent call last): File \"<stdin>\", line 1, in <module>\"   \n",
    " AttributeError: 'method' object has no attribute 'whoami'\"   \n",
    "```\n",
    "c.method.__func__.whoami = 'my name is method'\n",
    "c.method.whoami  :  \"my name is method\"  \n",
    "```  "
   ]
  },
  {
   "cell_type": "markdown",
   "metadata": {},
   "source": [
    "__[Code Objects](https://docs.python.org/3/library/stdtypes.html#other-built-in-types)__ used by implementation to represent 'pseudo-compiled' executable Python code such as a function body. Differ from function objects because Code objects do not contain reference to global execution. Code objects are returned by built-in `compile()` function and extracted from function objects through \\_\\_code\\_\\_ attribute.  \n",
    "[Code object](file:///C:/Users/Khoo/Desktop/AI/python-3.6.5-docs-html/library/code.html#module-code) can be executed or evaluated using `exec()` or `eval()`  "
   ]
  },
  {
   "cell_type": "markdown",
   "metadata": {},
   "source": [
    "__[Type Objects](https://docs.python.org/3/library/stdtypes.html#other-built-in-types)__ represents various objecct types. Access by `type()` written like: `<class 'int'>` "
   ]
  },
  {
   "cell_type": "markdown",
   "metadata": {},
   "source": [
    "__[Null Object](https://docs.python.org/3/library/stdtypes.html#other-built-in-types)__ returns `None` when no explicit value is return.  \n"
   ]
  },
  {
   "cell_type": "markdown",
   "metadata": {},
   "source": [
    "__[Ellipsis Object](https://docs.python.org/3/library/stdtypes.html#other-built-in-types)__ as `Ellipsis` or `...` used by slicing. `type(Ellipsis)()` produces the Ellipsis singleton "
   ]
  },
  {
   "cell_type": "markdown",
   "metadata": {},
   "source": [
    "__[NonImplemented Object](https://docs.python.org/3/library/stdtypes.html#other-built-in-types)__ from comparison and binary operations when statement executes types that are not supported. `type(NotImplemented)()`  "
   ]
  },
  {
   "cell_type": "markdown",
   "metadata": {},
   "source": [
    "__[Boolean Values](https://docs.python.org/3/library/stdtypes.html#other-built-in-types)__ two constant object `False` and `True` behaves like '0' '1'.   \n",
    "Function `bool()` can covert value to a boolean.  "
   ]
  },
  {
   "cell_type": "markdown",
   "metadata": {},
   "source": [
    "__[Internal Objects](https://docs.python.org/3/library/stdtypes.html#other-built-in-types)__ stack frame objects, traceback objects, slice objects.  "
   ]
  },
  {
   "cell_type": "markdown",
   "metadata": {},
   "source": [
    "__[Special Attributes](https://docs.python.org/3/library/stdtypes.html#special-attributes)__ read-only attributes  \n",
    "object`.__dict__` dictionary / other mapping object used to store object's writable attributes  \n",
    "instance`.__class__` the class to which a class instance belongs  \n",
    "class`.__bases__` tuple of base classes of a class object  \n",
    "definition`.__name__` name of class, function, method, descriptor or generator instance.  \n",
    "definition`.__qualname__` qualified name of class, function, method, descriptor or generator instance  \n",
    "\n",
    "class`.__mro__` tuple of classes considered when looking for base classes during method resolution.  \n",
    "class`.mro()` this method can be overridden by a metaclass to customize the method resolution order for its instaces. Called at class instantiation and result is stored in `__mro__.`  \n",
    "class`.__subclasses__()` each class keeps a list of weak references to its immediate subclasses. This method returns a list of all those references still alive e.g. int`.__subclassess__()` :  \\[<class 'bool'>\\]   "
   ]
  },
  {
   "cell_type": "code",
   "execution_count": null,
   "metadata": {},
   "outputs": [],
   "source": []
  },
  {
   "cell_type": "code",
   "execution_count": null,
   "metadata": {},
   "outputs": [],
   "source": []
  }
 ],
 "metadata": {
  "kernelspec": {
   "display_name": "Python 3",
   "language": "python",
   "name": "python3"
  },
  "language_info": {
   "codemirror_mode": {
    "name": "ipython",
    "version": 3
   },
   "file_extension": ".py",
   "mimetype": "text/x-python",
   "name": "python",
   "nbconvert_exporter": "python",
   "pygments_lexer": "ipython3",
   "version": "3.6.4"
  }
 },
 "nbformat": 4,
 "nbformat_minor": 2
}
