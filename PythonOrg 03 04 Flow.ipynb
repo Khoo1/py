{
 "cells": [
  {
   "cell_type": "markdown",
   "metadata": {},
   "source": [
    "__Python Flow Control (8): if elif else, while, for, break, continue, pass__  \n",
    "`:` statements, body is made of indent and ends at the first unindented line or blank line.  \n",
    "Non-zero values as `True` and `None` and `0` as `False`  \n",
    "`==` `!=` `>` `>=` `<` `<=` (6)  "
   ]
  },
  {
   "cell_type": "code",
   "execution_count": 38,
   "metadata": {},
   "outputs": [
    {
     "name": "stdout",
     "output_type": "stream",
     "text": [
      "0."
     ]
    }
   ],
   "source": [
    "a = 1  \n",
    "while a != False: \n",
    "    a = 0 \n",
    "    print(a, end='.')  # print(end) NameError: name 'end' is not defined  "
   ]
  },
  {
   "cell_type": "code",
   "execution_count": 39,
   "metadata": {},
   "outputs": [
    {
     "name": "stdout",
     "output_type": "stream",
     "text": [
      "Enter number: 9\n",
      "9 is a positive number\n"
     ]
    }
   ],
   "source": [
    "x = int(input(\"Enter number: \")) \n",
    "if x < 0: print('Number is negative') \n",
    "elif x == 0: print('Input is ', x)\n",
    "else: print(x,'is a positive number') "
   ]
  },
  {
   "cell_type": "code",
   "execution_count": 40,
   "metadata": {},
   "outputs": [
    {
     "name": "stdout",
     "output_type": "stream",
     "text": [
      "c 1\n",
      "a 1\n",
      "t 1\n",
      "['c', 'a', 't']\n"
     ]
    }
   ],
   "source": [
    "list1 = ['c', 'a', 't'] \n",
    "for v in list1: print(v, len(v)) # v is an integer \n",
    "print(list1) "
   ]
  },
  {
   "cell_type": "code",
   "execution_count": 41,
   "metadata": {},
   "outputs": [
    {
     "name": "stdout",
     "output_type": "stream",
     "text": [
      "0\n",
      "1\n",
      "2\n"
     ]
    }
   ],
   "source": [
    "for v in range(3): print(a+v)  # range() iterates over a sequence of numbers "
   ]
  },
  {
   "cell_type": "code",
   "execution_count": 42,
   "metadata": {},
   "outputs": [
    {
     "name": "stdout",
     "output_type": "stream",
     "text": [
      "range(0, 20, 3)\n"
     ]
    }
   ],
   "source": [
    "print(range(0, 20, 3)) # range(from, to, step_size). Iterable  "
   ]
  },
  {
   "cell_type": "code",
   "execution_count": 43,
   "metadata": {},
   "outputs": [
    {
     "name": "stdout",
     "output_type": "stream",
     "text": [
      "3 ['c', 'a', 't']\n",
      "5 ['c', 'a', 't']\n"
     ]
    }
   ],
   "source": [
    "for v in range(len(list1),6,2): print(v, list1) # range(3,6,2) v=3,5 "
   ]
  },
  {
   "cell_type": "code",
   "execution_count": 44,
   "metadata": {},
   "outputs": [
    {
     "data": {
      "text/plain": [
       "<enumerate at 0x4b763cce58>"
      ]
     },
     "execution_count": 44,
     "metadata": {},
     "output_type": "execute_result"
    }
   ],
   "source": [
    "enumerate(list1) "
   ]
  },
  {
   "cell_type": "code",
   "execution_count": 45,
   "metadata": {},
   "outputs": [
    {
     "data": {
      "text/plain": [
       "(['c', 'a', 't'], [(3, 'c'), (4, 'a'), (5, 't')])"
      ]
     },
     "execution_count": 45,
     "metadata": {},
     "output_type": "execute_result"
    }
   ],
   "source": [
    "list(list1), list(enumerate(list1, start=3))"
   ]
  },
  {
   "cell_type": "code",
   "execution_count": 46,
   "metadata": {},
   "outputs": [
    {
     "name": "stdout",
     "output_type": "stream",
     "text": [
      "1 is a prime number\n",
      "2 is a prime number\n",
      "3 is a prime number\n",
      "4 is 2 * 2\n",
      "5 is a prime number\n",
      "6 is 2 * 3\n",
      "7 is a prime number\n",
      "8 is 2 * 4\n",
      "9 is 3 * 3\n",
      "10 is 2 * 5\n",
      "11 is a prime number\n"
     ]
    }
   ],
   "source": [
    "for v in range(1, 12):  # break, continue, for...else  \n",
    "    for a in range(2,v): \n",
    "        if v % a == 0: \n",
    "            print(v, 'is', a, '*', v//a ) \n",
    "            break  \n",
    "        else: \n",
    "            continue \n",
    "    else: \n",
    "        print(v,'is a prime number')"
   ]
  },
  {
   "cell_type": "code",
   "execution_count": 47,
   "metadata": {},
   "outputs": [
    {
     "name": "stdout",
     "output_type": "stream",
     "text": [
      "6 clues:\n",
      "H\n",
      "1 clue\n",
      "a\n",
      "2 clue\n",
      "w\n",
      "3 clue\n",
      "k\n",
      "4 clue\n",
      "i\n",
      "n\n",
      "6 clue\n",
      "Stephen\n"
     ]
    }
   ],
   "source": [
    "print(a-4,'clues:') \n",
    "for i in 'Hawking': \n",
    "    if i =='g' : break \n",
    "    print(i[-1])\n",
    "    if a<=9 : a+=1 \n",
    "    else: a=1 \n",
    "    if i ==\"i\" : continue \n",
    "    print(a,'clue')  # skipped by continue \n",
    "else: print('Stephen Hawking') \n",
    "print('Stephen') "
   ]
  },
  {
   "cell_type": "code",
   "execution_count": 48,
   "metadata": {},
   "outputs": [
    {
     "name": "stdout",
     "output_type": "stream",
     "text": [
      "0\n",
      "1\n",
      "2\n"
     ]
    },
    {
     "data": {
      "text/plain": [
       "(__main__.a1, None)"
      ]
     },
     "execution_count": 48,
     "metadata": {},
     "output_type": "execute_result"
    }
   ],
   "source": [
    "for v in range(3):  # pass do nothing, test logic flow \n",
    "    print(v)\n",
    "    pass \n",
    "class a1: pass \n",
    "def init(*args): pass \n",
    "a1, init(0) "
   ]
  },
  {
   "cell_type": "markdown",
   "metadata": {},
   "source": [
    "1 Python `If`( condition) `:` (indent statement)  \n",
    "2 Python `If` (condition) `:` (indent execute) `else:` (indent execute)  \n",
    "3 Python `if` (test)`:` (indent exe) `elif` (test)`:` (indent exe) `else:` (indent exe)   \n",
    "4 Python Nested `if` (test)`:` (indent)`if` (test)`:` (indent2 exe) \n",
    "5 Python `For` i `in` range()`:` (indent exe loop)  `else:` (indent exe @ end)  \n",
    "6 Python `While` (test)`:` (indent exe loop)  `else:` (indent exe @ false)  \n",
    "7 Python `Break` and `Continue` within loops  \n",
    "8 Python `pass`: contruct body that does nothing to new loop/function "
   ]
  }
 ],
 "metadata": {
  "kernelspec": {
   "display_name": "Python 3",
   "language": "python",
   "name": "python3"
  },
  "language_info": {
   "codemirror_mode": {
    "name": "ipython",
    "version": 3
   },
   "file_extension": ".py",
   "mimetype": "text/x-python",
   "name": "python",
   "nbconvert_exporter": "python",
   "pygments_lexer": "ipython3",
   "version": "3.6.4"
  }
 },
 "nbformat": 4,
 "nbformat_minor": 2
}
