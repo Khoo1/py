{
 "cells": [
  {
   "cell_type": "markdown",
   "metadata": {},
   "source": [
    "## Markdown  \n",
    "Header, _Italic_, __Bold__, ___Italic bold___, `Higlight`, ~~Strikethrough~~, \\Ignore, >Quote, \\'''Block\\''', \\[ \\]\\( \\)Link,  \"(docs/..)\" Relative link, -+\\*List, \\[x} Task list, @ Mention, # Referencing, |---| Table, -\\*_x3 Horizontal line,  <enter> Line breaks, \\!\\[ \\]\\(\\url\\) Images, \\< \\> Inline codes, Inline HTML, \\'''ruby Syntax highlights, Youtube, Footnote, Emoji. "
   ]
  },
  {
   "cell_type": "raw",
   "metadata": {},
   "source": [
    "# Heading 1 Largest \n",
    "## Heading 2 use 2 hashes \n",
    "### Heading 3 ### hashes after does close format \n",
    "#### Heading 4 smallest \n",
    "##### Heading 5 small + italic \n",
    "###### Heading 6 small + italic + still in bold "
   ]
  },
  {
   "cell_type": "markdown",
   "metadata": {},
   "source": [
    "# Heading 1 Largest \n",
    "## Heading 2 use 2 hashes \n",
    "### Heading 3 ### hashes after does close format \n",
    "#### Heading 4 smallest \n",
    "##### Heading 5 small + italic \n",
    "###### Heading 6 small + italic + stil in bold \n",
    "Text result"
   ]
  },
  {
   "cell_type": "raw",
   "metadata": {},
   "source": [
    "_Italic use underscores_ or *asterix*  \n",
    "__Bold use 2 underscores__ or **2 asterixes**. Double space to new line  \n",
    "............Combine: *italic,* __bold, _italic_ bold,__ and _italic_     \n",
    "___Bold italics use 3 underscores___ or ***3-asterixes*** \n",
    "~~Strikethrough~~ use 2-tildes   \n",
    "Ignore format use \\ before *asterix* or __2 underscore__\n",
    "`Highlight` use **\\`** aka __`backtick`__.  "
   ]
  },
  {
   "cell_type": "markdown",
   "metadata": {},
   "source": [
    "_Italic use underscores_ or *asterix*  \n",
    "__Bold use 2 underscores__ or **2 asterixes**. Double space to new line  \n",
    "............Combine: *italic,* __bold, _italic_ bold,__ and _italic_     \n",
    "___Bold italics use 3 underscores___ or ***3-asterixes*** \n",
    "~~Strikethrough~~ use 2-tildes   \n",
    "Ignore format use \\ before *asterix* or __2 underscore__\n",
    "`Highlight` use **\\`** aka __`backtick`__.  "
   ]
  },
  {
   "cell_type": "raw",
   "metadata": {},
   "source": [
    "__Quote 'text'__ use __>__ : To insert cell above and below  \n",
    "> Esc + a \n",
    "> Esc + b "
   ]
  },
  {
   "cell_type": "markdown",
   "metadata": {},
   "source": [
    "__Quote 'text'__ use __>__ : To copy and paste-into-cell-below:    \n",
    "> Esc + p  \n",
    "> Esc + Shft-v "
   ]
  },
  {
   "cell_type": "raw",
   "metadata": {},
   "source": [
    "__Quote 'code'__ use __'__ aka __backtick__: \n",
    "`print('Hello GitHub')` which appears `highlighted.`  "
   ]
  },
  {
   "cell_type": "markdown",
   "metadata": {},
   "source": [
    "__Quote 'code'__ use __'__ aka __backtick__: \n",
    "`print('Hello GitHub')` which appears `highlighted.` "
   ]
  },
  {
   "cell_type": "raw",
   "metadata": {},
   "source": [
    "__District Block__ use __\\`\\`\\`__ aka __triple ticks__ place in new lines:  \n",
    "```\n",
    "`Ctrl+Enter` to execute code \n",
    "*Shft+Enter* to execute code + go to/ insert next cell \n",
    "_Alt+Enter_  to execute code + insert new cell \n",
    "___Enter___ to go to new line in current cell or go to 'Edit' mode  \n",
    "```  \n",
    "Notice \\`, \\*, \\_ and \\_\\__ in `triple_backticks` do not format.  "
   ]
  },
  {
   "cell_type": "markdown",
   "metadata": {},
   "source": [
    "__District Block__ use __\\`\\`\\`__ aka __triple ticks__ place in new lines:  \n",
    "```        \n",
    "`Ctrl+Enter` to execute code \n",
    "*Shft+Enter* to execute code + go to/ insert next cell \n",
    "_Alt+Enter_  to execute code + insert new cell \n",
    "___Enter___ to go to new line in current cell or go to 'Edit' mode  \n",
    "```          \n",
    "Notice \\`, \\*, \\_ and \\_\\__ in `triple_backticks` do not format. "
   ]
  },
  {
   "cell_type": "raw",
   "metadata": {},
   "source": [
    "__Links__ use **[ ]** square bracket to text then __()__ bracket to URL.  \n",
    "The link to this Github is within [Github.com/Khoo1](https://github.com/Khoo1?tab=repositories)"
   ]
  },
  {
   "cell_type": "markdown",
   "metadata": {},
   "source": [
    "**Links** use **[ ]** square bracket to text then __( )__ bracket to URL.  \n",
    "The link to this Github is within [Github.com/Khoo1](https://github.com/Khoo1?tab=repositories)"
   ]
  },
  {
   "cell_type": "raw",
   "metadata": {},
   "source": [
    "__Relative link__ is a link that relates to a current file. Use \"(docs/..)\".  \n",
    "[hello-Singapore at https://github.com/Khoo1/hello-Singapore/blob/master/README.md](docs/README.md)"
   ]
  },
  {
   "cell_type": "markdown",
   "metadata": {},
   "source": [
    "__Relative link__ is a link that relates to a current file. Use \"(docs/..)\".  \n",
    "[hello-Singapore at https://github.com/Khoo1/hello-Singapore/blob/master/README.md](docs/README.md)"
   ]
  },
  {
   "cell_type": "raw",
   "metadata": {},
   "source": [
    "__Lists__ use __-__ or __*__ or _numbers_ \n",
    "* Esc __y__ change cell to __Code__\n",
    "* Esc __m__ change cell to __Markdown__\n",
    "* Esc __r__ change cell to __Raw__\n",
    "\n",
    "Apply __-__ with proper indent produce nested list\n",
    "- Esc `h` opens Keyboard shortcuts \n",
    "  - `Ctrl+s` save checkpoint \n",
    "    - Esc `Space` scrolls down \n",
    "    - Esc `Shft+Space` scrolls up \n",
    "\n",
    "Apply numbers and ```triple backticks``` + __ruby__\n",
    "```ruby\n",
    "1. Esc `f` to Find-and-Replace \n",
    "   3. Esc `x` to Cut cell \n",
    "      2. Esc `Ctrl+V` to Paste above \n",
    "      1. Esc `v` to Paste below \n",
    "   2. `D, D` to Delete selected cells \n",
    "   1. Esc `z` to Undo cell deletion \n",
    "2. Esc `m` to Merge cell with cell below \n",
    "```"
   ]
  },
  {
   "cell_type": "markdown",
   "metadata": {},
   "source": [
    "__Lists__ use __-__ or __*__ or _numbers_ \n",
    "* Esc __y__ change cell to __Code__\n",
    "* Esc __m__ change cell to __Markdown__\n",
    "* Esc __r__ change cell to __Raw__\n",
    "\n",
    "Apply __-__ with proper indent produce nested list\n",
    "- Esc `h` opens Keyboard shortcuts \n",
    "  - `Ctrl+s` save checkpoint \n",
    "    - Esc `Space` scrolls down \n",
    "    - Esc `Shft+Space` scrolls up \n",
    "\n",
    "Apply numbers and ```triple backticks``` + __ruby__\n",
    "```ruby\n",
    "1. Esc `f` to Find-and-Replace \n",
    "   3. Esc `x` to Cut cell \n",
    "      2. Esc `Ctrl+V` to Paste above \n",
    "      1. Esc `v` to Paste below \n",
    "   2. `D, D` to Delete selected cells \n",
    "   1. Esc `z` to Undo cell deletion \n",
    "2. Esc `m` to Merge cell with cell below \n",
    "```"
   ]
  },
  {
   "cell_type": "raw",
   "metadata": {},
   "source": [
    "__Task list__ use __-__, __+__, __*__, __[ ]__, __[x]__ and spaces  \n",
    "+ [x] Markdown \n",
    "+ [ ] Python \n",
    "+ [ ] Journey to space "
   ]
  },
  {
   "cell_type": "markdown",
   "metadata": {},
   "source": [
    "__Task list__ use __-__, __+__, __*__, __[ ]__, __[x]__ and spaces  \n",
    "+ [x] Markdown \n",
    "+ [  ] Python \n",
    "+ [ ] Journey to space  "
   ]
  },
  {
   "cell_type": "raw",
   "metadata": {},
   "source": [
    "__Mention people or team__ on Github, use __@__ which triggers notification. \n",
    "@github/jamsawamsa How old are you? ...still play Atari :D LOL (kidding) \n",
    "@github/Khoo1 Let's take a look what Github's notification looks like.  "
   ]
  },
  {
   "cell_type": "markdown",
   "metadata": {},
   "source": [
    "__Mention people or team__ on Github, use __@__ which triggers notification.  \n",
    "@github/jamsawamsa How old are you? ...still play Atari :D LOL (kidding)  \n",
    "@github/Khoo1 Let's take a look what Github's notification looks like. "
   ]
  },
  {
   "cell_type": "raw",
   "metadata": {},
   "source": [
    "__Referencing issues__ and __pull requests__ use __#__ for automatic conversion  \n",
    "\n",
    "|Reference issue | Raw reference | Short link using \\# |\n",
    "| -------------- |:-------------:| -------------------:|\n",
    "|Issues or Pull request URL | https://github.com/Khoo1/hello-Singapore/blob/master/README.md | #1 |  \n",
    "|Holiday | Singapore |  SQ119#1 | "
   ]
  },
  {
   "cell_type": "markdown",
   "metadata": {},
   "source": [
    "__Referencing issues__ and __pull requests__ use __#__ for automatic conversion  \n",
    "\n",
    "|Reference issue | Raw reference | Short link using \\# |\n",
    "| -------------- |:-------------:| -------------------:|\n",
    "|Issues or Pull request URL | https://github.com/Khoo1/hello-Singapore/blob/master/README.md | #1 |  \n",
    "|Holiday | Singapore |  SQ119#1 | "
   ]
  },
  {
   "cell_type": "raw",
   "metadata": {},
   "source": [
    "__Table__ use __pipe__ and __3-dashes__ (minimum 3 dashes)  \n",
    "\n",
    "| Table | min 3 dashes | Right aligned |\n",
    "| --- |---|---| \n",
    "| pipe | unable center | semicolon useless |\n",
    "| --- | --- | --- |"
   ]
  },
  {
   "cell_type": "markdown",
   "metadata": {},
   "source": [
    "__Table__ use __pipe__ and __3-dashes__ (minimum 3 dashes)  \n",
    "\n",
    "| Table | min 3 dashes | Right aligned |\n",
    "| --- |---|---| \n",
    "| pipe | unable center | semicolon useless |\n",
    "| --- | --- | --- |"
   ]
  },
  {
   "cell_type": "raw",
   "metadata": {},
   "source": [
    "__Horizontal Rule__ use three or more... __-__, __*__, **_** followed by blank line \n",
    "\n",
    "---\n",
    "Hyphens\n",
    "***\n",
    "Asterisks\n",
    "___\n",
    "Underscores"
   ]
  },
  {
   "cell_type": "markdown",
   "metadata": {},
   "source": [
    "__Horizontal Rule__ use three or more... __-__, __*__, **_** followed by blank line \n",
    "\n",
    "---\n",
    "Hyphens\n",
    "***\n",
    "Asterisks\n",
    "___\n",
    "Underscores"
   ]
  },
  {
   "cell_type": "raw",
   "metadata": {},
   "source": [
    "__Line Breaks__ use __double spaces__ and 'Enter'. Single space + Enter produces paragraph.  \n",
    "\n",
    "Long, long ago in a galaxy far, far away...  \n",
    "_Star Wars IV: A New Hope_  \n",
    "It is a period of civil war.\n",
    "Rebel spaceships, striking\n",
    "from a hidden base, have won\n",
    "their first victory against\n",
    "the evil Galactic Empire.\n",
    "\n",
    "During the battle, Rebel\n",
    "spies managed to steal secret\n",
    "plans to the Empire's\n",
    "ultimate weapon, the DEATH\n",
    "STAR, an armored space\n",
    "station with enough power\n",
    "to destroy an entire planet.\n",
    "\n",
    "Pursued by the Empire's\n",
    "sinister agents, Princess\n",
    "Leia races home aboard her\n",
    "starship, custodian of the\n",
    "stolen plans that can save her\n",
    "people and restore\n",
    "freedom to the galaxy...."
   ]
  },
  {
   "cell_type": "markdown",
   "metadata": {},
   "source": [
    "__Line Breaks__ use __double spaces__ and 'Enter'. Single space + Enter produces paragraph.  \n",
    "\n",
    "Long, long ago in a galaxy far, far away...  \n",
    "_Star Wars IV: A New Hope_  \n",
    "It is a period of civil war.\n",
    "Rebel spaceships, striking\n",
    "from a hidden base, have won\n",
    "their first victory against\n",
    "the evil Galactic Empire.\n",
    "\n",
    "During the battle, Rebel\n",
    "spies managed to steal secret\n",
    "plans to the Empire's\n",
    "ultimate weapon, the DEATH\n",
    "STAR, an armored space\n",
    "station with enough power\n",
    "to destroy an entire planet.\n",
    "\n",
    "Pursued by the Empire's\n",
    "sinister agents, Princess\n",
    "Leia races home aboard her\n",
    "starship, custodian of the\n",
    "stolen plans that can save her\n",
    "people and restore\n",
    "freedom to the galaxy...."
   ]
  },
  {
   "cell_type": "raw",
   "metadata": {},
   "source": [
    "__Images__ on Github use \\!\\[ \\]\\(url\\) : \n",
    "![alt text](https://vignette.wikia.nocookie.net/starwars/images/6/67/Devastatortantiveiv.jpg/revision/latest/scale-to-width-down/250?cb=20111029210008)  \n",
    "Princess Leia is captured by the Galactic Empire. \n",
    "\n",
    "![GitHub Logo](/images/logo.png) \n",
    "Format: ![](url) "
   ]
  },
  {
   "cell_type": "markdown",
   "metadata": {},
   "source": [
    "__Images__ on Github use \\!\\[ \\]\\(url\\) : \n",
    "![alt text](https://vignette.wikia.nocookie.net/starwars/images/6/67/Devastatortantiveiv.jpg/revision/latest/scale-to-width-down/250?cb=20111029210008)  \n",
    "Princess Leia is captured by the Galactic Empire. \n",
    "\n",
    "![GitHub Logo](/images/logo.png) \n",
    "Format: ![](url) \n"
   ]
  },
  {
   "cell_type": "raw",
   "metadata": {},
   "source": [
    "__Inline code__ use __< \\>__  such as <print('Python code')> to see how inline code works. \n"
   ]
  },
  {
   "cell_type": "markdown",
   "metadata": {},
   "source": [
    "__Inline code__ use __< \\>__  such as <print('Python code')> to see how inline code works. \n"
   ]
  },
  {
   "cell_type": "raw",
   "metadata": {},
   "source": [
    "<dl> \n",
    "  <dt>Inline HTML</dt>\n",
    "    <dd> dl to activate inline HTML and /dl at end </dd>\n",
    "    <dd> dt for header and /dt to end line or else... \n",
    "       dd for body text, becomes paragraph. </dd>\n",
    "</dl> "
   ]
  },
  {
   "cell_type": "markdown",
   "metadata": {},
   "source": [
    "<dl> \n",
    "  <dt>Inline HTML</dt>\n",
    "    <dd> dl to activate inline HTML and /dl at end </dd>\n",
    "    <dd> dt for header and /dt to end line or else... \n",
    "       dd for body text, becomes paragraph. </dd>\n",
    "</dl>"
   ]
  },
  {
   "cell_type": "raw",
   "metadata": {},
   "source": [
    "__Syntax highlight__ besides \"Ruby\" are javascript and python  \n",
    "```javascript\n",
    "var s = \"JavaScript syntax highlighting\";\n",
    "alert(s);\n",
    "```\n",
    " \n",
    "```python\n",
    "s = \"Python syntax highlighting\"\n",
    "print s\n",
    "```"
   ]
  },
  {
   "cell_type": "markdown",
   "metadata": {},
   "source": [
    "__Syntax highlight__ besides \"Ruby\" are javascript and python \n",
    "```javascript\n",
    "var s = \"JavaScript syntax highlighting\";\n",
    "alert(s);\n",
    "```\n",
    " \n",
    "```python\n",
    "s = \"Python syntax highlighting\"\n",
    "print s\n",
    "```"
   ]
  },
  {
   "cell_type": "raw",
   "metadata": {},
   "source": [
    "__Youtube__ cannot directly play. You can add image with link like this: \n",
    "<a href=\"http://www.youtube.com/watch?feature=player_embedded&v=kDoY_zXf7uQ\n",
    "\" target=\"_blank\"><img src=\"http://img.youtube.com/vi/kDoY_zXf7uQ/0.jpg\" \n",
    "alt=\"Best Yoda Quotes\" width=\"240\" height=\"180\" border=\"10\" /></a> "
   ]
  },
  {
   "cell_type": "markdown",
   "metadata": {},
   "source": [
    "__Youtube__ cannot directly play. You can add image with link like this: \n",
    "<a href=\"http://www.youtube.com/watch?feature=player_embedded&v=kDoY_zXf7uQ\n",
    "\" target=\"_blank\"><img src=\"http://img.youtube.com/vi/kDoY_zXf7uQ/0.jpg\" \n",
    "alt=\"Best Yoda Quotes\" width=\"240\" height=\"180\" border=\"10\" /></a> "
   ]
  },
  {
   "cell_type": "raw",
   "metadata": {},
   "source": [
    "__Footnote:__ [^1] numbered, [^note] named, and `<d>` `</d>` inline<a>[3](#InlineFootNote1)</a> <a href=\"#note4\" id=\"note4ref\"><sup>4</sup></a>.  \n",
    "  \n",
    "[^1]: Footnote number 1  \n",
    "[^LongNote]: Footnote longer version with indented body text.  \n",
    "Subsequent text are indented as part of the long footnote.  \n",
    "<a=\"InlineFootNote\">3</a>: Inline footnote indicated by \"3\" here.  \n",
    "<a id=\"note4\" href=\"#note4ref\"><sup>4</sup></a> Inline footnote 4 text.  "
   ]
  },
  {
   "cell_type": "markdown",
   "metadata": {},
   "source": [
    "__Footnote:__ [^1] numbered, [^note] named, and `<d>` `</d>` inline<a> [3](#InlineFootNote1)</a> <a href=\"#note4\" id=\"note4ref\"><sup>4</sup></a>.    \n",
    "  \n",
    "[^1]: Footnote number 1 does not appear to work.    \n",
    "[^LongNote]: Footnote longer version with indented body text.  \n",
    "Subsequent text are indented as part of the long footnote, but do not work.  \n",
    "<a=\"InlineFootNote\">3</a>: Inline footnote indicated by \"3\" here.  \n",
    "<a id=\"note4\" href=\"#note4ref\"><sup>4</sup></a> Inline footnote 4 text.  "
   ]
  },
  {
   "cell_type": "raw",
   "metadata": {},
   "source": [
    "__Emoji__ use __:EMOJICODE:__ from https://www.webpagefx.com/tools/emoji-cheat-sheet/ :smile:  \n",
    ":+1: is +1, :dizzy_face: is dizzy_face, :sunny: is sunny, :sunglasses: is sunglasses, but only works on [Github](https://help.github.com/articles/basic-writing-and-formatting-syntax/) "
   ]
  },
  {
   "cell_type": "markdown",
   "metadata": {},
   "source": [
    "__Emoji__ use __:EMOJICODE:__ from https://www.webpagefx.com/tools/emoji-cheat-sheet/ :smile:  \n",
    ":+1: is +1, :dizzy_face: is dizzy_face, :sunny: is sunny, :sunglasses: is sunglasses, but only works on [Github](https://help.github.com/articles/basic-writing-and-formatting-syntax/) "
   ]
  }
 ],
 "metadata": {
  "kernelspec": {
   "display_name": "Python 3",
   "language": "python",
   "name": "python3"
  },
  "language_info": {
   "codemirror_mode": {
    "name": "ipython",
    "version": 3
   },
   "file_extension": ".py",
   "mimetype": "text/x-python",
   "name": "python",
   "nbconvert_exporter": "python",
   "pygments_lexer": "ipython3",
   "version": "3.6.4"
  }
 },
 "nbformat": 4,
 "nbformat_minor": 2
}
