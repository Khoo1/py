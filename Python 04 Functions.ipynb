{
 "cells": [
  {
   "cell_type": "markdown",
   "metadata": {},
   "source": [
    "### Python Functions  \n",
    "Built-in functions : [68](https://www.programiz.com/python-programming/methods/built-in) in Python 3.6  \n",
    "Library functions : other users-defined functions  \n",
    "User-defined functions :-\n",
    "     - Arguements (value pass to function): Positional, Keyword, Arbitrary  \n",
    "     - Function recursion, Anonymous/Lambda  \n",
    "     - Variables: Global, Local, Nonlocal  \n",
    "     - Keywords: `global` and `nonlocal`  \n",
    "\n",
    "Begins with `def` name`:` indent statement/s are vital.  \n",
    "Function variables only  apply in function and lost when return from function.   \n",
    "Call a function by name and pass in all required parameter `( )`.  \n",
    "\n",
    "Method is a function in an object, named `obj.methodname`.   \n",
    "``` python \n",
    "def function_name(parameters or arguements):  \n",
    "    '''docstring to describe function up to multiple lines'''\n",
    "    statements  \n",
    "    return statement/variable # return is optional.   \n",
    "\n",
    "# call function by name pass in required parameters \n",
    "function_name(parameters) \n",
    "```  "
   ]
  },
  {
   "cell_type": "code",
   "execution_count": 1,
   "metadata": {},
   "outputs": [
    {
     "name": "stdout",
     "output_type": "stream",
     "text": [
      "Who are you? me\n",
      "Hello, me\n"
     ]
    }
   ],
   "source": [
    "def greet(name): print('Hello, '+name) \n",
    "greet(input('Who are you? '))"
   ]
  },
  {
   "cell_type": "code",
   "execution_count": 2,
   "metadata": {},
   "outputs": [
    {
     "name": "stdout",
     "output_type": "stream",
     "text": [
      "Type in your name\n",
      "What is your name? K\n",
      "Hello, K\n",
      "None\n"
     ]
    }
   ],
   "source": [
    "def greet(name): \n",
    "    \"\"\"Type in your name\"\"\"\n",
    "    print('Hello, '+ name) \n",
    "    a = 1 \n",
    "\n",
    "print(greet.__doc__)  # .__doc__ access ***docstring*** or '''...'''  \n",
    "print(greet(input(\"What is your name? \"))) # output none because no return  \n",
    "#print(a)  # a did not carry value from function so a=0 "
   ]
  },
  {
   "cell_type": "markdown",
   "metadata": {},
   "source": [
    "__Python Default Arguements `=`__ : non-default arguments cannot follow default arguments.  "
   ]
  },
  {
   "cell_type": "code",
   "execution_count": 3,
   "metadata": {},
   "outputs": [
    {
     "name": "stdout",
     "output_type": "stream",
     "text": [
      "Hello, Mr Hawking, how are you?\n",
      "Hello, Stephen, may I call you, Stephen? :)\n"
     ]
    }
   ],
   "source": [
    "def greet(name=\"Sir\", msg='how are you?'): print(\"Hello, \" +name+ ', ' +msg) \n",
    "greet(\"Mr Hawking\") \n",
    "greet('Stephen', \"may I call you, Stephen? :)\") "
   ]
  },
  {
   "cell_type": "markdown",
   "metadata": {},
   "source": [
    "__Python Keyword Arguements__ must follow positional arguements.  "
   ]
  },
  {
   "cell_type": "code",
   "execution_count": 4,
   "metadata": {},
   "outputs": [
    {
     "name": "stdout",
     "output_type": "stream",
     "text": [
      "Hello, Stephen, would you like a cup of tea?\n",
      "Hello, Sir, there is a call for you.\n"
     ]
    }
   ],
   "source": [
    "greet(msg=\"would you like a cup of tea?\", name='Stephen') \n",
    "greet(msg='there is a call for you.') "
   ]
  },
  {
   "cell_type": "markdown",
   "metadata": {},
   "source": [
    "__Python Arbitrary Arguements__ `*` before parameter: to receive an arbitrary _number_ of arguements. The multiple arguements are wrapped into a tuple being passed into the function and retrieve using a `for` loop within the function. "
   ]
  },
  {
   "cell_type": "code",
   "execution_count": 5,
   "metadata": {},
   "outputs": [
    {
     "name": "stdout",
     "output_type": "stream",
     "text": [
      "Hi Stephen Hawking\n",
      "Hi Jane Hawking\n",
      "Hi Lucy Hawking\n",
      "Hi Robert Hawking\n",
      "Hi Timothy Hawking\n"
     ]
    }
   ],
   "source": [
    "def greet(*name, msg='how do you do?'): \n",
    "    '''\"Greet\" function greets all the names from tuple''' \n",
    "    # name is a tuple with arguements  \n",
    "    for individual in name: print('Hi',individual,msg) \n",
    "\n",
    "greet('Stephen','Jane','Lucy','Robert','Timothy',msg=\"Hawking\") "
   ]
  },
  {
   "cell_type": "markdown",
   "metadata": {},
   "source": [
    "__Python Recursion:__ function that calls itself. Example using factorial.  \n",
    "Factorial is the result of multiplying a descending sequence to 1 symbol \"!\". \n",
    "4! = 4 x 3 x 2 x 1 = 24 "
   ]
  },
  {
   "cell_type": "code",
   "execution_count": 6,
   "metadata": {},
   "outputs": [
    {
     "name": "stdout",
     "output_type": "stream",
     "text": [
      "Factorial of 4 is 24\n"
     ]
    }
   ],
   "source": [
    "def factorial(x): \n",
    "    if x==1: return 1 \n",
    "    else: return (x*factorial(x-1)) \n",
    "\n",
    "x=4 \n",
    "print(\"Factorial of\", x, 'is', factorial(x)) "
   ]
  },
  {
   "cell_type": "markdown",
   "metadata": {},
   "source": [
    "__Python Anonymous/ Lambda Function:__ function without a name.  \n",
    "No `def`, function_name and only 1 expression.  \n",
    "``` python \n",
    "lambda arguements: expression  \n",
    "```   \n",
    " `filter()` function takes function and list as arguements, returns new list.  \n",
    " `map()` function takes a function and list, returns result by that function. "
   ]
  },
  {
   "cell_type": "code",
   "execution_count": 7,
   "metadata": {},
   "outputs": [
    {
     "name": "stdout",
     "output_type": "stream",
     "text": [
      "10\n"
     ]
    }
   ],
   "source": [
    "double = lambda x: x*2 \n",
    "print(double(5))"
   ]
  },
  {
   "cell_type": "code",
   "execution_count": 8,
   "metadata": {},
   "outputs": [
    {
     "name": "stdout",
     "output_type": "stream",
     "text": [
      "10\n"
     ]
    }
   ],
   "source": [
    "def double(x): \n",
    "    return x*2 \n",
    "print(double(5)) "
   ]
  },
  {
   "cell_type": "code",
   "execution_count": 9,
   "metadata": {},
   "outputs": [
    {
     "name": "stdout",
     "output_type": "stream",
     "text": [
      "[4, 6, 8, 12]\n"
     ]
    }
   ],
   "source": [
    "lis = [1,5, 4,6, 8,11, 3,12]; evens = list(filter(lambda x: x%2==0, lis))\n",
    "print(evens) "
   ]
  },
  {
   "cell_type": "code",
   "execution_count": 10,
   "metadata": {},
   "outputs": [
    {
     "name": "stdout",
     "output_type": "stream",
     "text": [
      "[False, False, True, True, True, False, False, True]\n"
     ]
    }
   ],
   "source": [
    "lis = [1,5, 4,6, 8,11, 3,12]; evens = list(map(lambda x: x%2==0, lis))\n",
    "print(evens) "
   ]
  },
  {
   "cell_type": "code",
   "execution_count": 11,
   "metadata": {},
   "outputs": [
    {
     "name": "stdout",
     "output_type": "stream",
     "text": [
      "[1, 5, 4, 6, 8, 11, 3, 12]\n",
      "[2, 10, 8, 12, 16, 22, 6, 24]\n"
     ]
    }
   ],
   "source": [
    "lis = [1, 5, 4, 6, 8, 11, 3, 12]; evens = list(filter(lambda x: x*2, lis))\n",
    "print(evens) \n",
    "lis = [1,5, 4,6, 8,11, 3,12]; evens = list(map(lambda x: x*2, lis))\n",
    "print(evens) "
   ]
  },
  {
   "cell_type": "code",
   "execution_count": 12,
   "metadata": {},
   "outputs": [
    {
     "data": {
      "text/plain": [
       "[(1, 'one'), (3, 'three'), (2, 'two')]"
      ]
     },
     "execution_count": 12,
     "metadata": {},
     "output_type": "execute_result"
    }
   ],
   "source": [
    "a= [(1,'one'), (2,'two'), (3,'three')] \n",
    "a.sort(key=lambda v:v[1]) \n",
    "a"
   ]
  },
  {
   "cell_type": "markdown",
   "metadata": {},
   "source": [
    "__Python Global, Local and Nonlocal Variables__  \n",
    "`Global` variables: define outside of functions. Applied in & outside function   \n",
    "Local variables: only inside function  \n",
    "`Nonlocal`: used in nested function, not found in global or local.  \n",
    "\n",
    "Variable references first look in  \n",
    "1. local symbol table,  \n",
    "2. local symbol tables of enclosing functions,  \n",
    "3. global symbol table, finally   \n",
    "4. built-in names table.  \n",
    "\n",
    "Global variables cannot be assigned a value in functions (unless named in a `global` statement)"
   ]
  },
  {
   "cell_type": "code",
   "execution_count": 13,
   "metadata": {},
   "outputs": [
    {
     "name": "stdout",
     "output_type": "stream",
     "text": [
      "local x:  2\n",
      "global x:  9\n"
     ]
    }
   ],
   "source": [
    "x=9\n",
    "def func(): \n",
    "    x=2 \n",
    "    print('local x: ', x) \n",
    "    # global x # error name 'x' is used prior to global declaration  \n",
    "    # print('global x: ', x)\n",
    "func()\n",
    "print('global x: ', x) "
   ]
  },
  {
   "cell_type": "code",
   "execution_count": 14,
   "metadata": {},
   "outputs": [
    {
     "name": "stdout",
     "output_type": "stream",
     "text": [
      "global x:  9\n",
      "local x:  2\n",
      "global x:  2\n"
     ]
    }
   ],
   "source": [
    "x=9\n",
    "def func(): \n",
    "    # x=2 \n",
    "    # print('local x: ', x) \n",
    "    global x # error name 'x' is used prior to global declaration  \n",
    "    print('global x: ', x)\n",
    "    x=2 \n",
    "    print('local x: ', x) \n",
    "func()\n",
    "print('global x: ', x) "
   ]
  },
  {
   "cell_type": "code",
   "execution_count": 15,
   "metadata": {},
   "outputs": [
    {
     "name": "stdout",
     "output_type": "stream",
     "text": [
      "fun2 v:  2\n",
      "fun1 v:  2\n"
     ]
    }
   ],
   "source": [
    "def fun1(): \n",
    "    v=1 \n",
    "    def fun2(): \n",
    "        '''Fun2 nested function in Fun1'''\n",
    "        nonlocal v # No nonlocal: fun2_v:2 fun1_v:1 \n",
    "        v=2 \n",
    "        print('fun2 v: ',v) \n",
    "    fun2() \n",
    "    print('fun1 v: ',v) # Nonlocal v: fun2_v=fun1_v=2; using nonlocal v \n",
    "fun1()\n",
    "# print(v) # error v is not defined "
   ]
  },
  {
   "cell_type": "markdown",
   "metadata": {},
   "source": [
    "__Python Global Keyword:__ `global` to read & write global var inside function   \n",
    "`config.py` hold global variables, shares with other modules in same program.  "
   ]
  },
  {
   "cell_type": "code",
   "execution_count": 16,
   "metadata": {},
   "outputs": [
    {
     "name": "stdout",
     "output_type": "stream",
     "text": [
      "10 alphabet\n"
     ]
    }
   ],
   "source": [
    "# Share global variable across python modules \n",
    "# 1. Create a config.py file to store global variables \n",
    "a = 1   \n",
    "b = \"empty\" \n",
    "# 2. Create a update.py file to change global variables \n",
    "#import config  # error : No module named 'config' \n",
    "#config.a = 10  # error : config not defined \n",
    "#config.b = \"alphabet\"  # error : config not defined  \n",
    "a = 10 \n",
    "b = 'alphabet' \n",
    "# 3. Create a main.py file to test changes in value \n",
    "#import config  # error : No module named 'config' \n",
    "#import update  # error : No module named 'update' \n",
    "#print(config.a) # output: 10  # error : config not defined \n",
    "#print(config.b) # output: alphabet  # error : config not defined \n",
    "print(a, b) "
   ]
  },
  {
   "cell_type": "code",
   "execution_count": 17,
   "metadata": {},
   "outputs": [
    {
     "name": "stdout",
     "output_type": "stream",
     "text": [
      "Fun1 v:  1\n",
      "Call Fun2\n",
      "After Fun2, v:  1\n",
      "Global v:  9\n"
     ]
    }
   ],
   "source": [
    "def fun1(): # Global variable in Nested function. \n",
    "    v=1 \n",
    "    def fun2(): \n",
    "        global v \n",
    "        v=9 \n",
    "    print('Fun1 v: ', v) \n",
    "    print('Call Fun2') \n",
    "    fun2() \n",
    "    print('After Fun2, v: ',v) \n",
    "fun1() \n",
    "print('Global v: ',v) "
   ]
  },
  {
   "cell_type": "markdown",
   "metadata": {},
   "source": [
    "Python Functions: begins with def name: indent statement/s are vital.  \n",
    " Default Arguements `=` : non-default arguments cannot follow default arguments.  \n",
    " Keyword Arguements must follow positional arguements.  \n",
    " Arbitrary Arguements `*` before parameter: multi arg retrieve using `for` loop in function.  \n",
    " Function Recursion: function that calls itself  \n",
    " Function Anonymous/ Lambda: No def, function_name and only 1 expression. \n",
    " Variables Global, Local and Nonlocal: `Global` and `Nonlocal`  \n",
    " Python Global Keyword: `global` to read & write global var inside function\n",
    " Method is a function in an object, named `obj.methodname`  \n",
    " ...Modules and Packages "
   ]
  },
  {
   "cell_type": "markdown",
   "metadata": {},
   "source": [
    "The value of user-defined function can be assigned another name which can then  be used as a function. This serves as a general renaming mechanism.  \n",
    "Functions without `return` do return a value called `None` suppress by system. "
   ]
  },
  {
   "cell_type": "code",
   "execution_count": 18,
   "metadata": {},
   "outputs": [
    {
     "name": "stdout",
     "output_type": "stream",
     "text": [
      "a= 0 b= 1\n",
      "0 1 1 2 3 5 8 13 21 34 55 89 \n"
     ]
    }
   ],
   "source": [
    "def fib(n): \n",
    "    a, b = 0, 1 \n",
    "    print('a=',a,'b=',b)\n",
    "    while a < n: \n",
    "        print(a, end=' ') \n",
    "        a, b = b, a+b \n",
    "    print() \n",
    "f=fib \n",
    "f(100) "
   ]
  },
  {
   "cell_type": "code",
   "execution_count": 19,
   "metadata": {
    "scrolled": true
   },
   "outputs": [
    {
     "name": "stdout",
     "output_type": "stream",
     "text": [
      "a= 0 b= 1\n",
      "0 1 1 2 3 5 8 13 21 34 55 89 \n"
     ]
    }
   ],
   "source": [
    "fib(100) "
   ]
  },
  {
   "cell_type": "code",
   "execution_count": 20,
   "metadata": {},
   "outputs": [
    {
     "name": "stdout",
     "output_type": "stream",
     "text": [
      "a= 0 b= 1\n",
      "\n",
      "None\n"
     ]
    }
   ],
   "source": [
    "f0 = fib(0)  # Method \n",
    "print(f0)  # Function returns 'None' "
   ]
  },
  {
   "cell_type": "code",
   "execution_count": 21,
   "metadata": {},
   "outputs": [
    {
     "data": {
      "text/plain": [
       "[0, 1, 1, 2, 3, 5, 8, 13, 21, 34, 55, 89, 144, 233, 377, 610, 987, 1597]"
      ]
     },
     "execution_count": 21,
     "metadata": {},
     "output_type": "execute_result"
    }
   ],
   "source": [
    "def fibon(n=1000):  # default argument of n is 1000 \n",
    "    \"\"\" Fibonaci series up to n \"\"\" \n",
    "    result=[] \n",
    "    a,b = 0, 1\n",
    "    while a < n : \n",
    "        result.append(a)  \n",
    "        a, b = b, a+b \n",
    "    return result \n",
    "\n",
    "f1999 = fibon(1999)   \n",
    "f1999 "
   ]
  },
  {
   "cell_type": "code",
   "execution_count": 22,
   "metadata": {},
   "outputs": [
    {
     "name": "stdout",
     "output_type": "stream",
     "text": [
      "Continue? huh\n",
      "Please try again!\n",
      "Continue? no\n"
     ]
    },
    {
     "data": {
      "text/plain": [
       "False"
      ]
     },
     "execution_count": 22,
     "metadata": {},
     "output_type": "execute_result"
    }
   ],
   "source": [
    "def ask_ok(prompt, retries=4, reminder='Please try again!'):\n",
    "    while True:\n",
    "        ok = input(prompt)\n",
    "        if ok in ('y', 'ye', 'yes'):\n",
    "            return True\n",
    "        if ok in ('n', 'no', 'nop', 'nope'):\n",
    "            return False\n",
    "        retries = retries - 1\n",
    "        if retries < 0:\n",
    "            raise ValueError('invalid user response')\n",
    "        print(reminder)\n",
    "\n",
    "ask_ok('Continue? ', 2)        "
   ]
  },
  {
   "cell_type": "markdown",
   "metadata": {},
   "source": [
    "Argument values are evaluated at point of function definition once.   \n",
    "Mutables like list, dictionary and instances of most classes behave differently.  "
   ]
  },
  {
   "cell_type": "code",
   "execution_count": 23,
   "metadata": {},
   "outputs": [
    {
     "name": "stdout",
     "output_type": "stream",
     "text": [
      "1597\n"
     ]
    }
   ],
   "source": [
    "b=1597 \n",
    "def fun1(arg=b): print(arg) \n",
    "b=0 \n",
    "\n",
    "fun1() # prints 1597 because that was when funcdtion was defined "
   ]
  },
  {
   "cell_type": "code",
   "execution_count": 24,
   "metadata": {},
   "outputs": [
    {
     "name": "stdout",
     "output_type": "stream",
     "text": [
      "1\n",
      "2\n",
      "3\n"
     ]
    }
   ],
   "source": [
    "fun1(1), fun1(2), fun1(3); "
   ]
  },
  {
   "cell_type": "code",
   "execution_count": 25,
   "metadata": {},
   "outputs": [
    {
     "name": "stdout",
     "output_type": "stream",
     "text": [
      "[1]\n",
      "[1, 2]\n",
      "[1, 2, 3]\n"
     ]
    }
   ],
   "source": [
    "def f(a, l=[]): \n",
    "    l.append(a) \n",
    "    return l \n",
    "\n",
    "print(f(1))\n",
    "print(f(2))\n",
    "print(f(3)) "
   ]
  },
  {
   "cell_type": "code",
   "execution_count": 26,
   "metadata": {},
   "outputs": [
    {
     "name": "stdout",
     "output_type": "stream",
     "text": [
      "[1]\n",
      "[2]\n",
      "[3]\n"
     ]
    }
   ],
   "source": [
    "def f(a, l=None): \n",
    "    if l is None: \n",
    "        l=[] \n",
    "    l.append(a) \n",
    "    return l \n",
    "\n",
    "print(f(1))\n",
    "print(f(2))\n",
    "print(f(3)) "
   ]
  },
  {
   "cell_type": "code",
   "execution_count": 27,
   "metadata": {
    "scrolled": true
   },
   "outputs": [
    {
     "name": "stdout",
     "output_type": "stream",
     "text": [
      "1what?\n",
      "Please try again!\n",
      "1again?!\n",
      "Please try again!\n",
      "1yes\n",
      "nono\n",
      "ready?ye\n",
      "now? n\n",
      "deal? maybe\n",
      "1 more? \n",
      "deal? y\n"
     ]
    },
    {
     "data": {
      "text/plain": [
       "True"
      ]
     },
     "execution_count": 27,
     "metadata": {},
     "output_type": "execute_result"
    }
   ],
   "source": [
    "ask_ok(1)  # positional arguement \n",
    "ask_ok(prompt='no')  # keyword arguement \n",
    "ask_ok(prompt='ready?', retries=2)  # keyword arguements  \n",
    "#ask_ok(retry=2, prompt='ready?')  # keyword arguements: error \n",
    "ask_ok('now? ', 0, 'No more tries') # 3 positional arguements \n",
    "ask_ok('deal? ', reminder='1 more? ') # 1 arg 1 kwarg "
   ]
  },
  {
   "cell_type": "markdown",
   "metadata": {},
   "source": [
    "1. Invalids are missing arguments `()`,   \n",
    "2. non-keyword arguments after keyword arguments `(ask_ok(retries=9, 'nine times')`,   \n",
    "3. duplicate value for same argument `('ready', prompt='now? ')`,  \n",
    "4. unknown keyword argument `(new='good work')` and   \n",
    "5. positional argument after keyword arguments `(retry=2, prompt='ready?')`   "
   ]
  },
  {
   "cell_type": "code",
   "execution_count": 28,
   "metadata": {},
   "outputs": [
    {
     "name": "stdout",
     "output_type": "stream",
     "text": [
      "-- Do you have any Limburger ?\n",
      "-- I'm sorry, we're all out of Limburger\n",
      "It's very runny, sir.\n",
      "It's really very, VERY runny, sir.\n",
      "----------------------------------------\n",
      "shopkeeper : Michael Palin\n",
      "client : John Cleese\n",
      "sketch : Cheese Shop Sketch\n"
     ]
    }
   ],
   "source": [
    "def cheeseshop(kind, *arguments, **keywords):\n",
    "    print(\"-- Do you have any\", kind, \"?\")\n",
    "    print(\"-- I'm sorry, we're all out of\", kind)\n",
    "    for arg in arguments:\n",
    "        print(arg)\n",
    "    print(\"-\" * 40)\n",
    "    for kw in keywords:\n",
    "        print(kw, \":\", keywords[kw]) \n",
    "\n",
    "cheeseshop(\"Limburger\", \"It's very runny, sir.\",  # *args \n",
    "           \"It's really very, VERY runny, sir.\",  # *args \n",
    "           shopkeeper=\"Michael Palin\",  # **kwargs \n",
    "           client=\"John Cleese\",  # **kwargs \n",
    "           sketch=\"Cheese Shop Sketch\")  # **kwargs "
   ]
  },
  {
   "cell_type": "code",
   "execution_count": 29,
   "metadata": {},
   "outputs": [
    {
     "data": {
      "text/plain": [
       "'a/b/c'"
      ]
     },
     "execution_count": 29,
     "metadata": {},
     "output_type": "execute_result"
    }
   ],
   "source": [
    "def combo(*args, sep=\"/\"): return sep.join(args) \n",
    "\n",
    "combo('a','b','c')"
   ]
  },
  {
   "cell_type": "code",
   "execution_count": 30,
   "metadata": {},
   "outputs": [
    {
     "data": {
      "text/plain": [
       "'a.b.c'"
      ]
     },
     "execution_count": 30,
     "metadata": {},
     "output_type": "execute_result"
    }
   ],
   "source": [
    " combo('a','b','c', sep='.')"
   ]
  },
  {
   "cell_type": "markdown",
   "metadata": {},
   "source": [
    "__Unpacking Argument List__, write `*` function to unpack list or tuple, `**` dictionary  "
   ]
  },
  {
   "cell_type": "code",
   "execution_count": 31,
   "metadata": {},
   "outputs": [
    {
     "data": {
      "text/plain": [
       "[2, 3, 4, 5]"
      ]
     },
     "execution_count": 31,
     "metadata": {},
     "output_type": "execute_result"
    }
   ],
   "source": [
    "list(range(2,6))   # normal call to separate arguments "
   ]
  },
  {
   "cell_type": "code",
   "execution_count": 32,
   "metadata": {},
   "outputs": [
    {
     "data": {
      "text/plain": [
       "[2, 3, 4, 5]"
      ]
     },
     "execution_count": 32,
     "metadata": {},
     "output_type": "execute_result"
    }
   ],
   "source": [
    "argu = [2,6] \n",
    "list(range(*argu))  # call with * to unpack arguments "
   ]
  },
  {
   "cell_type": "code",
   "execution_count": 33,
   "metadata": {},
   "outputs": [
    {
     "name": "stdout",
     "output_type": "stream",
     "text": [
      "-- Do you have any blues ?\n",
      "-- I'm sorry, we're all out of blues\n",
      "----------------------------------------\n",
      "customer : Darth Vader\n",
      "shopkeeper : Yoda\n"
     ]
    }
   ],
   "source": [
    "d = {\"kind\": \"blues\", \"customer\": \"Darth Vader\", \"shopkeeper\": \"Yoda\"}\n",
    "cheeseshop(**d) "
   ]
  },
  {
   "cell_type": "markdown",
   "metadata": {},
   "source": [
    "__Function Annotations__ stored in `__annotations__` attribute as dictionary  "
   ]
  },
  {
   "cell_type": "code",
   "execution_count": 34,
   "metadata": {},
   "outputs": [
    {
     "name": "stdout",
     "output_type": "stream",
     "text": [
      "Annotations: {'vege': <class 'str'>, 'fruit': <class 'str'>, 'return': <class 'str'>}\n",
      "Arguments: nuts apples\n"
     ]
    },
    {
     "data": {
      "text/plain": [
       "'nuts and apples'"
      ]
     },
     "execution_count": 34,
     "metadata": {},
     "output_type": "execute_result"
    }
   ],
   "source": [
    "def food(vege: str, fruit: str = 'apples') -> str:\n",
    "        print(\"Annotations:\", food.__annotations__)\n",
    "        print(\"Arguments:\", vege, fruit)\n",
    "        return vege + ' and ' + fruit \n",
    "food('nuts')"
   ]
  },
  {
   "cell_type": "markdown",
   "metadata": {},
   "source": [
    "__Intermezzo: Coding Style: [PEP 8](https://www.python.org/dev/peps/pep-0008)__  \n",
    "- 4-space indentation, and no tabs.  \n",
    "- Wrap lines up to 79 characters.  \n",
    "- blank lines to separate functions, classes, and blocks of code inside functions.  \n",
    "- `#` comments on a line of their own.  \n",
    "- Use docstrings.  \n",
    "- Space around operations, after comma, not around brackets  \n",
    "- Name classes and functions consistently; camelCase for class, lower_scores for functions  \n",
    "- `self` as name for first method argument.  \n",
    "- Use UTF-8 or ASCII, avoid fancy encodings. No non-ASCII in identifiers.  "
   ]
  }
 ],
 "metadata": {
  "kernelspec": {
   "display_name": "Python 3",
   "language": "python",
   "name": "python3"
  },
  "language_info": {
   "codemirror_mode": {
    "name": "ipython",
    "version": 3
   },
   "file_extension": ".py",
   "mimetype": "text/x-python",
   "name": "python",
   "nbconvert_exporter": "python",
   "pygments_lexer": "ipython3",
   "version": "3.6.4"
  }
 },
 "nbformat": 4,
 "nbformat_minor": 2
}
