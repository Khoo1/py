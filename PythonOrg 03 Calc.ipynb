{
 "cells": [
  {
   "cell_type": "markdown",
   "metadata": {},
   "source": [
    "__Python Arithmetic Operators__ (12): `+`, `-`, `*`, `/`,  `//`, `%`, `abs()`, `round(,0)`   \n",
    " = root: x\\*\\*(1/float(n)) -or- x\\*\\*(n\\*\\*-1), exponent: \\*\\*, log: 1e-1  \n",
    " = Order of operations: \\(parentheses\\), \\*\\* Exponent Root, * / // % Times Divide, + -, Sequence  \n",
    " = Complex numbers uses j or J suffix as imaginary part (e.g. 3+5j).  "
   ]
  },
  {
   "cell_type": "code",
   "execution_count": 1,
   "metadata": {},
   "outputs": [
    {
     "data": {
      "text/plain": [
       "(3, -1, 30, 0.875, 1, 0.1, 0.01, 3, 3.14)"
      ]
     },
     "execution_count": 1,
     "metadata": {},
     "output_type": "execute_result"
    }
   ],
   "source": [
    "1+2, 3-4, 5*6, 7/8, 9**0, 10**-1, 1e-2, abs(-3), round(3.14159265,2)\n",
    "# + - * / exponent root logarithm absolute round "
   ]
  },
  {
   "cell_type": "code",
   "execution_count": 2,
   "metadata": {},
   "outputs": [
    {
     "data": {
      "text/plain": [
       "(2.5, 2, 2)"
      ]
     },
     "execution_count": 2,
     "metadata": {},
     "output_type": "execute_result"
    }
   ],
   "source": [
    "10/4, 10//4, 10%4, \n",
    "# 10 divide by 4 =2.5, floor{flow //}=2, remainder{modulus %}=2 "
   ]
  },
  {
   "cell_type": "markdown",
   "metadata": {},
   "source": [
    "..........`x**(n**-1)` __Square Root__ = shorter formula  \n",
    "`x**(1/float(n))` __Square Root__ = a value that can multiply by itself to give the original number.  \n",
    "...............`x**(1/n)` __x root n power of 1 __ = (operator is called _radical_)  "
   ]
  },
  {
   "cell_type": "code",
   "execution_count": 3,
   "metadata": {
    "scrolled": false
   },
   "outputs": [
    {
     "name": "stdout",
     "output_type": "stream",
     "text": [
      "Perfect Squares/ Square Numbers are squares of integers\n"
     ]
    },
    {
     "data": {
      "text/plain": [
       "(1.0, 2.0, 3.0, 4.0, 5.0, 6.0, 7.0, 8.0, 9.0, 10.0, 11.0, 12.0, None)"
      ]
     },
     "execution_count": 3,
     "metadata": {},
     "output_type": "execute_result"
    }
   ],
   "source": [
    "1**(0.5), 2**(1**-2), 3**(1**-3), 4**(1**-4), 5**(1**-5), 6**(1**-6), 7**(1**-7), 8**(1**-8), 9**(1**-9), 10**(1**-10), 11**(1**-11), 12**(1**-12), print('Perfect Squares/ Square Numbers are squares of integers')  "
   ]
  },
  {
   "cell_type": "code",
   "execution_count": 4,
   "metadata": {},
   "outputs": [
    {
     "data": {
      "text/plain": [
       "(4.0, 3.0, 2.0, '|', 0.5)"
      ]
     },
     "execution_count": 4,
     "metadata": {},
     "output_type": "execute_result"
    }
   ],
   "source": [
    "16**(2**-1), 9**(2**-1), 4**(2**-1), \"|\", 2**-1  ## 1/2**1=0.5  "
   ]
  },
  {
   "cell_type": "code",
   "execution_count": 5,
   "metadata": {},
   "outputs": [
    {
     "data": {
      "text/plain": [
       "(4.0, 3.0, 2.0, '|', 4.0, 3.0, 2.0)"
      ]
     },
     "execution_count": 5,
     "metadata": {},
     "output_type": "execute_result"
    }
   ],
   "source": [
    "16**(1/2), 9**(1/2), 4**(1/2), '|', 16**0.5, 9**0.5, 4**0.5  ## root  "
   ]
  },
  {
   "cell_type": "code",
   "execution_count": 6,
   "metadata": {},
   "outputs": [
    {
     "data": {
      "text/plain": [
       "(1.0, 1.4142135623730951, True, 0.7071067811865476)"
      ]
     },
     "execution_count": 6,
     "metadata": {},
     "output_type": "execute_result"
    }
   ],
   "source": [
    "2**1/2, 2**(1/2),  2**(1/2) == 2**0.5, 2**-0.5  \n",
    "# 2**1/2 is (2power1)divide2 =1,  2**(1/2) is 2root2 == 2**0.5 = 1.4142  "
   ]
  },
  {
   "cell_type": "code",
   "execution_count": 7,
   "metadata": {},
   "outputs": [
    {
     "data": {
      "text/plain": [
       "(0.25, 0.125, 0.0625)"
      ]
     },
     "execution_count": 7,
     "metadata": {},
     "output_type": "execute_result"
    }
   ],
   "source": [
    "2**-2, 2**-3, 2**-4  # 2**-4 is 1/2**4 =0.0625. #1 Negative exponent = Divide  "
   ]
  },
  {
   "cell_type": "code",
   "execution_count": 8,
   "metadata": {},
   "outputs": [
    {
     "data": {
      "text/plain": [
       "(1, 2, 4)"
      ]
     },
     "execution_count": 8,
     "metadata": {},
     "output_type": "execute_result"
    }
   ],
   "source": [
    "2**0, 2**1, 2**2  #2 Exponenet is how many times to multiply number  "
   ]
  },
  {
   "cell_type": "code",
   "execution_count": 9,
   "metadata": {},
   "outputs": [
    {
     "data": {
      "text/plain": [
       "True"
      ]
     },
     "execution_count": 9,
     "metadata": {},
     "output_type": "execute_result"
    }
   ],
   "source": [
    "2**2*2**3 == (2**2)*(2**3) == 2**5 == 2**(2+3)  #3 2**2 * 2**3 = 2**(2+3) "
   ]
  },
  {
   "cell_type": "code",
   "execution_count": 10,
   "metadata": {},
   "outputs": [
    {
     "data": {
      "text/plain": [
       "True"
      ]
     },
     "execution_count": 10,
     "metadata": {},
     "output_type": "execute_result"
    }
   ],
   "source": [
    "2**2/2**1 == (2**2)/(2**1) == 2**1 == 2**(2-1)  #4 2**2 / 2**1 = 2**(2-1)  "
   ]
  },
  {
   "cell_type": "code",
   "execution_count": 11,
   "metadata": {},
   "outputs": [
    {
     "data": {
      "text/plain": [
       "True"
      ]
     },
     "execution_count": 11,
     "metadata": {},
     "output_type": "execute_result"
    }
   ],
   "source": [
    "(2**2)**3 == 2**(2*3)  #5 (x**m) **n = x**(m*n)  "
   ]
  },
  {
   "cell_type": "code",
   "execution_count": 12,
   "metadata": {},
   "outputs": [
    {
     "data": {
      "text/plain": [
       "True"
      ]
     },
     "execution_count": 12,
     "metadata": {},
     "output_type": "execute_result"
    }
   ],
   "source": [
    "(2*3)**2 == 2**2 * 3**2  #6 (xy)**n = x**n * y**n "
   ]
  },
  {
   "cell_type": "code",
   "execution_count": 13,
   "metadata": {},
   "outputs": [
    {
     "data": {
      "text/plain": [
       "True"
      ]
     },
     "execution_count": 13,
     "metadata": {},
     "output_type": "execute_result"
    }
   ],
   "source": [
    "(2/3)**2 == 2**2 / 3**2  #7 (x/y)*n = x**n / y**n  "
   ]
  },
  {
   "cell_type": "code",
   "execution_count": 14,
   "metadata": {},
   "outputs": [
    {
     "data": {
      "text/plain": [
       "True"
      ]
     },
     "execution_count": 14,
     "metadata": {},
     "output_type": "execute_result"
    }
   ],
   "source": [
    "2**-2 == 1/2**2  #8 x**-3 = 1/x**3  Negative exponent = Divide  "
   ]
  },
  {
   "cell_type": "code",
   "execution_count": 15,
   "metadata": {},
   "outputs": [
    {
     "data": {
      "text/plain": [
       "(True, 4.000000000000001)"
      ]
     },
     "execution_count": 15,
     "metadata": {},
     "output_type": "execute_result"
    }
   ],
   "source": [
    "2**(4/2) == (2**4)**(1/2), (2**(1/2))**4  #9 x**(m/n) = x power m root n = 4 "
   ]
  },
  {
   "cell_type": "code",
   "execution_count": 16,
   "metadata": {},
   "outputs": [
    {
     "data": {
      "text/plain": [
       "(262144, 2417851639229258349412352)"
      ]
     },
     "execution_count": 16,
     "metadata": {},
     "output_type": "execute_result"
    }
   ],
   "source": [
    "4**3**2, 2**3**4  # 4**3= then 8**4= 2.4178516e+24  "
   ]
  },
  {
   "cell_type": "code",
   "execution_count": 17,
   "metadata": {},
   "outputs": [
    {
     "data": {
      "text/plain": [
       "(1, 0)"
      ]
     },
     "execution_count": 17,
     "metadata": {},
     "output_type": "execute_result"
    }
   ],
   "source": [
    "0**0, 0**1 # but 0**-1 = indeterminate yields error  "
   ]
  },
  {
   "cell_type": "markdown",
   "metadata": {},
   "source": [
    "![www.mathsisfun.com/algebra/images/logarithm-exponent.svg](http://www.mathsisfun.com/algebra/images/logarithm-exponent.svg)  \n",
    "The Exponent takes 2 and 3 and gives 8 (2 multiplied 3 times makes 8)  \n",
    "The Logarithm takes 2 and 8 and gives 3 (2 makes 8 when multiply 3 times)  \n",
    "\n",
    "__Logarithm__ = how many one mumber to multiply for result  \n",
    "2\\*2\\*2=8; logarithm=3 written as log2(8)=3 (2 is base) \n",
    "\n",
    "\n",
    "\n",
    "2\\**3=8 exponential to log is: __\"log base 2 of 8 = 3\"__  \n",
    "                  - \"base 2 log of 8 is 3\" or  \n",
    "                  - \"logarithm of 8 with base 2 is 3\"  "
   ]
  },
  {
   "cell_type": "markdown",
   "metadata": {},
   "source": [
    "__Common logarithm__ = Base 10 often written without base, e.g. __log(100)__  \n",
    "  - __log(100) = 2__ is also __log base 10 of 100 = 2__     \n",
    "  - __log base 10 of x__ commonly written as __log(x)__ \n",
    "\n",
    "__Natural logrithm__ = Base \"e\" or (Euler's number) appears __ln__ on calculators. \n",
    "  - \"e\" or \"E\" representing __10^#__ as in `1e-1`=0.1   \n",
    "  - __e__ = ln(7.389) = log base e(7.2389) = 2.71828 aka Fuler's Number  \n",
    "  - 2.71829**2 = 7.389 \n",
    "  - __log base e of x__ = __ln(x)__ (commonly written)  \n",
    "  - __ln(e\\*\\*x) = x__ is also __e\\*\\*(ln x) = x__   "
   ]
  },
  {
   "cell_type": "markdown",
   "metadata": {},
   "source": [
    "`log base a` of `a**x` is `x` ![](http://www.mathsisfun.com/algebra/images/loga-ax.gif)  \n",
    "`a**log base a` of `x` is `x` ![](http://www.mathsisfun.com/algebra/images/aloga-x.gif)  \n",
    "\n",
    "log base 3 of x = 5  \n",
    "3 \\*\\* log base 3 of x = 3 \\*\\* 5  \n",
    "because 3\\*\\*log base 3 of x = x so: x = 3\\*\\*5  "
   ]
  },
  {
   "cell_type": "code",
   "execution_count": 18,
   "metadata": {},
   "outputs": [
    {
     "data": {
      "text/plain": [
       "('Therefore x is ', 243)"
      ]
     },
     "execution_count": 18,
     "metadata": {},
     "output_type": "execute_result"
    }
   ],
   "source": [
    "'Therefore x is ', 3**5  "
   ]
  },
  {
   "cell_type": "markdown",
   "metadata": {},
   "source": [
    "y = log base 4 of (1/4)  \n",
    "4\\*\\*y = 4\\*\\*log base 4 of (1/4)  \n",
    "4\\*\\*log base 4 of (1/4) = 1/4  \n",
    "Apply 4\\*\\*-1 = 1/(4\\*\\*1) to tun 1/4 = 4\\*\\*-1  \n",
    "4\\*\\*y = 4\\*\\*-1  \n",
    "y = -1  "
   ]
  },
  {
   "cell_type": "markdown",
   "metadata": {},
   "source": [
    "__Logarithm Laws and Properties:-__ log base 7 (49)= 2 ..because.. 7\\*\\*2= 49  \n",
    "`log base b (1) = 0` ..because.. b\\*\\*0= 1 __(identity)__  \n",
    "`log base b (b) = 1` ..because.. b\\*\\*1= b __(identity)__   \n",
    "`log base b (x) = c` ..because.. b\\*\\*c= x __(identity)__   \n",
    "`b**log base b(x)=x` .or. `log base b(b**x)=x` .bcos. antilog base b (log base b(x))=x  \n",
    "`log base b (b**x)= x` ..bcos.. log base b(antilog base b(x))= x (see below)  \n",
    "`log base a (b) = 1/log base b (a)` __(reciprocal)__  \n",
    "\n",
    "__(multiplication.1, quotient.2, power.3, root.4)__ log 10 = log 2 + log 5 and log 4 = 2 log 2  \n",
    "__1__. `log base b (xy) = log base b (x) + log base b (y)` ..bcos.. b\\*\\*c-b\\*\\*d= b\\*\\*c+d  \n",
    "__2__. `log base b (x/y) = log base b (x) - log base b(y)` ..bcos.. b\\*\\*c/b\\*\\*d= b\\*\\*c-d  \n",
    " `log base b (1/y) = log base b (y**-1) = -(log base b (y))`  \n",
    " `log base b (m**r) = r (log base b of m)` __log m power r__ is __r times log m__  \n",
    " `log base b (1/b**a) = -a`  \n",
    "3. `log base b (x**d) = d log base b (x)` ..bcos.. (b\\*\\*c)\\*\\*d= b\\*\\*cd __(power)__  \n",
    "4. `log base b (x**(y**-1)) = (log base b (x))/y` ..bcos.. x\\*\\*(y\\*\\*-1)= x\\*\\*1/y __(root)__  \n",
    " `log base b (x**(y**-1)) = log base b (x**1/y) = 1/y log base b (x)`  \n",
    "5. `x**log base b (y) = y**log base b (x)` ..bcos..  x\\*\\*log base b(y)=  \n",
    "b\\*\\*log base b(x).log base b(y)=(b\\*\\*log base b(y))\\*\\*log base b(x) = y\\*\\*log base b(x)  \n",
    "6. `c.log base b(x)+d.log base b(y)= log base b((x**c).(y**d))` ..bcos..  \n",
    "   log base b((x\\*\\*c).(y\\*\\*d))= log base b(x\\*\\*c) + log base b(y\\*\\*d)  \n",
    "*where b, x, and y are positive real numbers and b=/=1. C and D are real numbers. \n",
    "\n",
    "7. `log base b (a) = log base d (a) / log base d (b)` __(change base)__  \n",
    " `log base b (a) = ln a / ln b`   \n",
    " `log base b (a) = 1 / log base a (b)` __(reciprocal)__   \n",
    " `log base b**n (a) = log base b (a) / n`  \n",
    " `b**log base a (d) = d.log base a (b)`  \n",
    " `-log base b (a) = log base b (1/a) = log base 1/b (a)`  \n",
    "log base b1 (a1)...log base bn (an) = log base bp (a1)... log base bpn (an)  \n",
    "\n",
    "__(summation, subtract)__  \n",
    "`log base b (a+c) = log base b (a) + log base b (1+c/a)`  \n",
    "`log base b (a-c) = log base b (a) + log base b (1-c/a)` \n",
    "a and c have to be switched on the right side of the equations if c > a  \n",
    "subtraction identity is not defined if a=c since log of zero is not defined  \n",
    "\n",
    "__(exponent)__  \n",
    "`z**(log(log(x))/log(x)) = log (x)`  \n",
    "`x**(log(a)/log(x)) = a`  \n",
    "\n",
    "__(other/resulting identities)__  \n",
    "`1/((1/log base x(a))+(1/log base y(a))) = log base xy (a)`  \n",
    "`log base b M = log base b N <=> M=N`  "
   ]
  },
  {
   "cell_type": "markdown",
   "metadata": {},
   "source": [
    "`1e-1`  __Base 10 logarithm__ of 1 or 1x10^10; ^ means \"to the power of\"   \n",
    "\n",
    "| Number | How many 10s | Base-10 log |  \n",
    "| --- | --- | --- |  \n",
    "| . . . | | | \n",
    "| 1000| 1\\*10\\*10\\*10 | log(1000) = 3 |  \n",
    "| 100 | 1\\*10\\*10 | log(100) = 2 | \n",
    "| 10  | 1\\*10 | log(10) = 1 | \n",
    "| 1 | 1 | log(1) = 0 | \n",
    "| 0.1 | 1/10 | log(0.1) = -1 | \n",
    "| 0.01 | 1/10/10 | log(0.01) = -2 | \n",
    "| 0.001 | 1/10/10/10 | log(0.001) = -3 | \n",
    "| . . . | | | "
   ]
  },
  {
   "cell_type": "code",
   "execution_count": 19,
   "metadata": {},
   "outputs": [
    {
     "data": {
      "text/plain": [
       "(1.0, 0.1, 0.01, 0.001, 0, 2.0, 0.2, 0.02, 0.002, 0, 0.3, 0.03, 0.003)"
      ]
     },
     "execution_count": 19,
     "metadata": {},
     "output_type": "execute_result"
    }
   ],
   "source": [
    "1e-0, 1e-1, 1e-2, 1e-3, 0, 2e-0, 2e-1, 2e-2, 2e-3, 0, 3e-1, 3e-2, 3e-3 "
   ]
  },
  {
   "cell_type": "code",
   "execution_count": 20,
   "metadata": {},
   "outputs": [
    {
     "data": {
      "text/plain": [
       "(1.0, 10.0, 100.0, 1000.0, 0, 20.0, 200.0, 2000.0, 30.0, 300.0, 3000.0)"
      ]
     },
     "execution_count": 20,
     "metadata": {},
     "output_type": "execute_result"
    }
   ],
   "source": [
    "1e+0, 1e+1, 1e+2, 1e+3, 0, 2e+1, 2e+2, 2e+3, 3e+1, 3e+2, 3e+3 "
   ]
  },
  {
   "cell_type": "markdown",
   "metadata": {},
   "source": [
    "__Python Comparison Operators__ (6) : `>`, `<`, `==`, `!=`, `>=`, `<=`   \n",
    "Greater than, Less than, Equal `==`, Not equal `!=`, Greater or equal, Lesser or equal  "
   ]
  },
  {
   "cell_type": "code",
   "execution_count": 21,
   "metadata": {},
   "outputs": [
    {
     "name": "stdout",
     "output_type": "stream",
     "text": [
      "1 > 2 = False\n",
      "1 < 2 = True\n",
      "x == y is False\n",
      "x != y is True\n",
      "x >= y is False\n",
      "x <= y is True\n",
      "x <= x is True\n"
     ]
    }
   ],
   "source": [
    "x=1; y=2;   \n",
    "print(x, '>', y, '=', x>y), \n",
    "print(x, '<', y, '=', x<y), \n",
    "print('x == y is', x==y), \n",
    "print('x != y is', x!=y), \n",
    "print('x >= y is', x>=y), \n",
    "print('x <= y is', x<=y),\n",
    "print('x <= x is', x<=x) \n",
    "# print('x <> y is', x<>y) <> invalid "
   ]
  },
  {
   "cell_type": "markdown",
   "metadata": {},
   "source": [
    "__Python Logical Operators__ (3): `and`, `or`, `not`    \n",
    "Any True in `and`= True. Any False in `or`= False. `not` negates boolen. "
   ]
  },
  {
   "cell_type": "code",
   "execution_count": 22,
   "metadata": {},
   "outputs": [
    {
     "name": "stdout",
     "output_type": "stream",
     "text": [
      "True and True = True\n",
      "True and False = False\n",
      "False and False = False\n"
     ]
    }
   ],
   "source": [
    "x = True; y = False   # and   \n",
    "print(x, 'and', x, '=', x and x)\n",
    "print(x, 'and', y, '=', x and y)  # False \n",
    "print(y, 'and', y, '=', y and y) "
   ]
  },
  {
   "cell_type": "code",
   "execution_count": 23,
   "metadata": {},
   "outputs": [
    {
     "name": "stdout",
     "output_type": "stream",
     "text": [
      "True or True = True\n",
      "True or False = True\n",
      "False or False = False\n"
     ]
    }
   ],
   "source": [
    "x = True; y = False   # or \n",
    "print(x, 'or', x, '=', x or x)\n",
    "print(x, 'or', y, '=', x or y) # True  \n",
    "print(y, 'or', y, '=', y or y) "
   ]
  },
  {
   "cell_type": "code",
   "execution_count": 24,
   "metadata": {},
   "outputs": [
    {
     "name": "stdout",
     "output_type": "stream",
     "text": [
      "not True = False\n",
      "not y = True\n"
     ]
    }
   ],
   "source": [
    "x = True; y = False  # not \n",
    "print('not', x, '=', not x) # False  \n",
    "print('not y =', not y) # True   "
   ]
  },
  {
   "cell_type": "markdown",
   "metadata": {},
   "source": [
    "__Python Bitwise Operators__(6): `&`, `|`, `-`, `^`, `>>`, `<<` \n",
    "Bitwise operates bit by bit, eg. 2 is 10, 7 is 111\n",
    "\n",
    "| Operator | Meaning | Example | \n",
    "| --- | --- | --- |\n",
    "|& |\tBitwise AND | \tx& y = 0 (0000 0000) |\n",
    "| pipe |\tBitwise OR |\tx pipe y = 14 (0000 1110) | \n",
    "|~ |\tBitwise NOT |\t~x = -11 (1111 0101) | \n",
    "|^ |\tBitwise XOR |\tx ^ y = 14 (0000 1110) |\n",
    "|>> |\tBitwise right shift | \tx>> 2 = 2 (0000 0010) |\n",
    "|<< | \tBitwise left shift |\tx<< 2 = 40 (0010 1000) |  \n",
    "\n",
    "x & y \"bitwise and\". if x AND y bits = 1 then 1 else 0  \n",
    "x | y \"bitwise or\". if x AND y bits = 0 then 0 else 1  \n",
    "\n",
    "~ x   \"bitwise tilde\". raise base 10 number and negative  \n",
    "~ x returns the complement of x - the number you get by switching each 1 for a 0 and each 0 for a 1. This is the same as -x - 1 ???  \n",
    "\n",
    "x ^ y \"bitwise exclusive or\". if y_bit=0, x=same; y=1, x=y  \n",
    "\n",
    "x >> y shift x bits by y to the right  \n",
    "x << y shift x bits by y to the left, new bits on right =0  "
   ]
  },
  {
   "cell_type": "code",
   "execution_count": 25,
   "metadata": {},
   "outputs": [
    {
     "data": {
      "text/plain": [
       "(2, 4, '|', 7, 6, '~', -3, -5, '^', 5, 6, '>>', 0, 8)"
      ]
     },
     "execution_count": 25,
     "metadata": {},
     "output_type": "execute_result"
    }
   ],
   "source": [
    "x = 2  #010 pipe is | \n",
    "y = 7  #111  \n",
    "z = 4  #100  \n",
    "x&y, y&z, \"|\", x|y, x|z, \"~\", ~x, ~z, \"^\", x^y, x^z, \">>\", x>>2, x<<2  "
   ]
  },
  {
   "cell_type": "markdown",
   "metadata": {},
   "source": [
    "2&7 match 1 correspond 2nd bit 010 & 111 output 010 =2  \n",
    "7&4 match 1 correspond 3rd bit 111 & 100 output 100 =4  \n",
    "2|7 match 0 correspond no bits 010 | 111 output 111 =7  \n",
    "2|4 match 0 correspond 1st bit 010 | 100 output 110 =6  \n",
    "~2 increase 2 to 3 and negative = -3  \n",
    "~4 increase 4 to 5 and negative = -5  \n",
    "2 bit 10 not correspond 2nd bit 7 bit 111 output 101 =5  \n",
    "2 bit 10 correspond 2nd 3rd bit 4 bit 100 output 110 =6  \n",
    "2 bit 10 shift right 2 bits output 0 \n",
    "2 bit 10 shift left 2 bits output 1000 =8 "
   ]
  },
  {
   "cell_type": "markdown",
   "metadata": {},
   "source": [
    "__Python Assignment Operators__ (13): `=`, `+=`, `-=`, `*=`, `/=`, `//=`, `%=`, `**=`,  \n",
    "`&=`, `|=`, `^=`, `>>=`, `<<=`  "
   ]
  },
  {
   "cell_type": "code",
   "execution_count": 26,
   "metadata": {},
   "outputs": [
    {
     "name": "stdout",
     "output_type": "stream",
     "text": [
      "3\n",
      "6\n",
      "3\n",
      "9\n",
      "3.0\n",
      "13\n",
      "4\n",
      "13\n",
      "1\n",
      "13\n",
      "2197\n",
      "0\n"
     ]
    }
   ],
   "source": [
    "x = 3; print(x) \n",
    "x += 3; print(x) # x = x + 3  \n",
    "x -= 3; print(x) \n",
    "x *= 3; print(x) \n",
    "x /= 3; print(x) #3.0 \n",
    "x = 13; print(x) \n",
    "x //= 3; print(x)\n",
    "x = 13; print(x) \n",
    "x %= 3; print(x) \n",
    "x = 13; print(x) \n",
    "x **= 3; print(x)\n",
    "x -= 13*13*13; print(x)  "
   ]
  },
  {
   "cell_type": "markdown",
   "metadata": {},
   "source": [
    "__Python Identity Operators__ (2): `is`, `is not` \n",
    "Checks values are equal, not imply identical. www.programiz.com/python-programming/operators "
   ]
  },
  {
   "cell_type": "code",
   "execution_count": 27,
   "metadata": {},
   "outputs": [
    {
     "name": "stdout",
     "output_type": "stream",
     "text": [
      "False\n",
      "False\n",
      "True\n",
      "True\n"
     ]
    }
   ],
   "source": [
    "x = [1,2,3] \n",
    "y = [4,5,6] \n",
    "z = [1,2,3] \n",
    "print(x is y) \n",
    "print(x is z) \n",
    "print(x is not y) \n",
    "print(x is not z) "
   ]
  },
  {
   "cell_type": "markdown",
   "metadata": {},
   "source": [
    "__Python  Membership Operators__ (2): `in`, `not in`  \n",
    "Test sequence [string, list, tuple, set, dictionary] for value  \n",
    "Dictionary can only test for presence of key, not the value  "
   ]
  },
  {
   "cell_type": "code",
   "execution_count": 28,
   "metadata": {},
   "outputs": [
    {
     "name": "stdout",
     "output_type": "stream",
     "text": [
      "True [1, 2, 3]\n",
      "True [1, 2, 3]\n",
      "False {1: 'a', 2: 'b'}\n",
      "False Hello world\n",
      "True Hello world\n"
     ]
    }
   ],
   "source": [
    "print(2 in x, x)\n",
    "print('a' not in x, x)\n",
    "z = {1:'a',2:'b'}; print('a' in z, z) \n",
    "y = 'Hello world'; print('R' in y, y) # Python is case sensitive \n",
    "print('ello' in y, y)"
   ]
  },
  {
   "cell_type": "markdown",
   "metadata": {},
   "source": [
    "__Integer literals__   \n",
    "`integer      ::=  decinteger | bininteger | octinteger | hexinteger\n",
    "decinteger   ::=  nonzerodigit ([\"_\"] digit)* | \"0\"+ ([\"_\"] \"0\")*\n",
    "bininteger   ::=  \"0\" (\"b\" | \"B\") ([\"_\"] bindigit)+\n",
    "octinteger   ::=  \"0\" (\"o\" | \"O\") ([\"_\"] octdigit)+\n",
    "hexinteger   ::=  \"0\" (\"x\" | \"X\") ([\"_\"] hexdigit)+\n",
    "nonzerodigit ::=  \"1\"...\"9\"\n",
    "digit        ::=  \"0\"...\"9\"\n",
    "bindigit     ::=  \"0\" | \"1\"\n",
    "octdigit     ::=  \"0\"...\"7\"\n",
    "hexdigit     ::=  digit | \"a\"...\"f\" | \"A\"...\"F\"`"
   ]
  },
  {
   "cell_type": "markdown",
   "metadata": {},
   "source": [
    "1 Arithmetic (13): `+`, `-`, `*`, `/`, `//`, `%`, `abs()`, `round(,0)`,   \n",
    "root: x\\*\\*(1/float(n)) -or- x\\*\\*(n\\*\\*-1), exponent: \\*\\*, log: 1e-1, `j` for imaginary literals  \n",
    "2 Comparison (6) : >, <, ==, !=, >=, <=  \n",
    "3 Logical (3): and, or, not  \n",
    "4 Bitwise (6): &, |, -, ^, >>, <<  \n",
    "5 Assignment (13): =, +=, -=, *=, /=, //=, %=, \\*\\*=, &=, |=, ^=, >>=, <<=  \n",
    "6 Identity 2): is, is not  \n",
    "7 Membership (2): in, not in  \n",
    "8 Integer Literals --- '''Next: Python DataTypes'''  "
   ]
  },
  {
   "cell_type": "markdown",
   "metadata": {},
   "source": [
    "__[Operators](https://docs.python.org/3/reference/lexical_analysis.html#f-strings)__  \n",
    "`+       -       *       **      /       //      %      @\n",
    "<<      >>      &       |       ^       ~\n",
    "<       >       <=      >=      ==      !=` \n",
    "\n",
    "__Delimiters in grammar__  \n",
    "`(       )       [       ]       {       }\n",
    ",       :       .       ;       @       =       ->\n",
    "+=      -=      *=      /=      //=     %=      @=\n",
    "&=      |=      ^=      >>=     <<=     **=` \n",
    "\n",
    "__Printing ASCII characters have special meaning__ \n",
    "`'       \"       #       \\` \n",
    "\n",
    "__Printing ASCII characters are not used in Python__\n",
    "`$       ?       `` "
   ]
  }
 ],
 "metadata": {
  "kernelspec": {
   "display_name": "Python 3",
   "language": "python",
   "name": "python3"
  },
  "language_info": {
   "codemirror_mode": {
    "name": "ipython",
    "version": 3
   },
   "file_extension": ".py",
   "mimetype": "text/x-python",
   "name": "python",
   "nbconvert_exporter": "python",
   "pygments_lexer": "ipython3",
   "version": "3.6.4"
  }
 },
 "nbformat": 4,
 "nbformat_minor": 2
}
