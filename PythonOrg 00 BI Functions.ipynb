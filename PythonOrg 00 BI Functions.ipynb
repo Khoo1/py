{
 "cells": [
  {
   "cell_type": "markdown",
   "metadata": {},
   "source": [
    "__[Built-in Functions](file:///C:/Users/Khoo/Desktop/AI/python-3.6.5-docs-html/library/functions.html)__  https://docs.python.org/3/tutorial/index.html    \n",
    "`abs() \tdict() \thelp() \tmin() \tsetattr()   \n",
    "all() \tdir() \thex() \tnext() \tslice()  \n",
    "any() \tdivmod() \tid() \tobject() \tsorted()  \n",
    "ascii() \tenumerate() \tinput() \toct() \tstaticmethod()  \n",
    "bin() \teval() \tint() \topen() \tstr()  \n",
    "bool() \texec() \tisinstance() \tord() \tsum()  \n",
    "bytearray() \tfilter() \tissubclass() \tpow() \tsuper()  \n",
    "bytes() \tfloat() \titer() \tprint() \ttuple()  \n",
    "callable() \tformat() \tlen() \tproperty() \ttype()  \n",
    "chr() \tfrozenset() \tlist() \trange() \tvars()  \n",
    "classmethod() \tgetattr() \tlocals() \trepr() \tzip()  \n",
    "compile() \tglobals() \tmap() \treversed() \t__import__()  \n",
    "complex() \thasattr() \tmax() \tround() \t   \n",
    "delattr() \thash() \tmemoryview() \tset() \t   `"
   ]
  },
  {
   "cell_type": "code",
   "execution_count": 1,
   "metadata": {},
   "outputs": [
    {
     "data": {
      "text/plain": [
       "1"
      ]
     },
     "execution_count": 1,
     "metadata": {},
     "output_type": "execute_result"
    }
   ],
   "source": [
    "abs(-1) # absolute number  "
   ]
  },
  {
   "cell_type": "code",
   "execution_count": 2,
   "metadata": {},
   "outputs": [
    {
     "data": {
      "text/plain": [
       "(True, True)"
      ]
     },
     "execution_count": 2,
     "metadata": {},
     "output_type": "execute_result"
    }
   ],
   "source": [
    "a=1,2,3 \n",
    "all(a), any(a) # True if elements are iterable  "
   ]
  },
  {
   "cell_type": "code",
   "execution_count": 3,
   "metadata": {},
   "outputs": [
    {
     "data": {
      "text/plain": [
       "('(1, 2, 3)', '(1, 2, 3)')"
      ]
     },
     "execution_count": 3,
     "metadata": {},
     "output_type": "execute_result"
    }
   ],
   "source": [
    "ascii(a), repr(a) # string of printable but escape non-ASCII repr() \\x \\u \\U  "
   ]
  },
  {
   "cell_type": "code",
   "execution_count": 4,
   "metadata": {},
   "outputs": [
    {
     "data": {
      "text/plain": [
       "('0b1100011', '1100011', '(99:b)')"
      ]
     },
     "execution_count": 4,
     "metadata": {},
     "output_type": "execute_result"
    }
   ],
   "source": [
    "bin(99), format(99,'b'), f'(99:b)' # convert number to binary with prefix '0b' "
   ]
  },
  {
   "cell_type": "code",
   "execution_count": 5,
   "metadata": {},
   "outputs": [
    {
     "data": {
      "text/plain": [
       "(True, False)"
      ]
     },
     "execution_count": 5,
     "metadata": {},
     "output_type": "execute_result"
    }
   ],
   "source": [
    "bool(a), bool(None) "
   ]
  },
  {
   "cell_type": "code",
   "execution_count": 6,
   "metadata": {},
   "outputs": [
    {
     "data": {
      "text/plain": [
       "(bytearray(b''), bytearray(b'\\x00\\x00'), bytearray(b'\\x01\\x02\\x03'))"
      ]
     },
     "execution_count": 6,
     "metadata": {},
     "output_type": "execute_result"
    }
   ],
   "source": [
    "# bytearray([source[, encoding[, errors]]])  \n",
    "bytearray(0), bytearray(2), bytearray(a) #mutable sequence in range 0<=x<256  "
   ]
  },
  {
   "cell_type": "code",
   "execution_count": 8,
   "metadata": {},
   "outputs": [
    {
     "data": {
      "text/plain": [
       "b'\\x01\\x02\\x03'"
      ]
     },
     "execution_count": 8,
     "metadata": {},
     "output_type": "execute_result"
    }
   ],
   "source": [
    "bytes(a) # immutable bytes([source[, encoding[, errors]]])  "
   ]
  },
  {
   "cell_type": "code",
   "execution_count": 9,
   "metadata": {},
   "outputs": [
    {
     "data": {
      "text/plain": [
       "(False, False)"
      ]
     },
     "execution_count": 9,
     "metadata": {},
     "output_type": "execute_result"
    }
   ],
   "source": [
    "callable(a), callable(1) # True if object arguement is callable  "
   ]
  },
  {
   "cell_type": "code",
   "execution_count": 10,
   "metadata": {},
   "outputs": [
    {
     "data": {
      "text/plain": [
       "('a', 97)"
      ]
     },
     "execution_count": 10,
     "metadata": {},
     "output_type": "execute_result"
    }
   ],
   "source": [
    "chr(97), ord('a') # string from unicode. Inverse of ord()  "
   ]
  },
  {
   "cell_type": "code",
   "execution_count": 11,
   "metadata": {},
   "outputs": [
    {
     "name": "stdout",
     "output_type": "stream",
     "text": [
      "(1, 2, 3)\n"
     ]
    }
   ],
   "source": [
    "class c: \n",
    "    @classmethod  #tranform method into class method  \n",
    "    def f(arg) : \n",
    "        print(a) \n",
    "\n",
    "c.f()"
   ]
  },
  {
   "cell_type": "markdown",
   "metadata": {},
   "source": [
    "`compile(source, filename, mode, flags=0, dont_inherit=False, optimize=-1)`   \n",
    "Compile source into a code or AST object. Code objects can be executed by `exec()` or `eval()`. source can either be a normal string, a byte string, or an AST object. Refer to the [`ast`](file:///C:/Users/Khoo/Desktop/AI/python-3.6.5-docs-html/library/ast.html#module-ast) module documentation for information on how to work with AST objects."
   ]
  },
  {
   "cell_type": "code",
   "execution_count": 12,
   "metadata": {},
   "outputs": [
    {
     "data": {
      "text/plain": [
       "(1+2j)"
      ]
     },
     "execution_count": 12,
     "metadata": {},
     "output_type": "execute_result"
    }
   ],
   "source": [
    "#complex([real[, imag]])  \n",
    "#Return complex number with value real + imag*1j or \n",
    "#convert string or number to a complex number. \n",
    "complex('1+2j')  "
   ]
  },
  {
   "cell_type": "markdown",
   "metadata": {},
   "source": [
    " `delattr(object, name)` \n",
    "deletes the named attribute, provided the object allows, same as  \n",
    "`delattr(x,'foo')` `del x.foo` "
   ]
  },
  {
   "cell_type": "markdown",
   "metadata": {},
   "source": [
    "`dict(**kwarg)`  \n",
    "`dict(mapping, **kwarg)`  \n",
    "`dict(iterable,**kwarg)`  dictionary  \n",
    "If positional argument is given with mapping object, a dictionary is created with the same key-value pairs as the mapping object. Otherwise, the positional argument must be an iterable object. Else empty dictionary.  "
   ]
  },
  {
   "cell_type": "code",
   "execution_count": 13,
   "metadata": {},
   "outputs": [
    {
     "data": {
      "text/plain": [
       "True"
      ]
     },
     "execution_count": 13,
     "metadata": {},
     "output_type": "execute_result"
    }
   ],
   "source": [
    "f = dict(one=1, two=2, three=3)\n",
    "b = {'one': 1, 'two': 2, 'three': 3}\n",
    "c = dict(zip(['one', 'two', 'three'], [1, 2, 3]))\n",
    "d = dict([('two', 2), ('one', 1), ('three', 3)])\n",
    "e = dict({'three': 3, 'one': 1, 'two': 2})\n",
    "f == b == c == d == e  "
   ]
  },
  {
   "cell_type": "code",
   "execution_count": 14,
   "metadata": {},
   "outputs": [
    {
     "data": {
      "text/plain": [
       "['__add__',\n",
       " '__class__',\n",
       " '__contains__',\n",
       " '__delattr__',\n",
       " '__dir__',\n",
       " '__doc__',\n",
       " '__eq__',\n",
       " '__format__',\n",
       " '__ge__',\n",
       " '__getattribute__',\n",
       " '__getitem__',\n",
       " '__getnewargs__',\n",
       " '__gt__',\n",
       " '__hash__',\n",
       " '__init__',\n",
       " '__init_subclass__',\n",
       " '__iter__',\n",
       " '__le__',\n",
       " '__len__',\n",
       " '__lt__',\n",
       " '__mul__',\n",
       " '__ne__',\n",
       " '__new__',\n",
       " '__reduce__',\n",
       " '__reduce_ex__',\n",
       " '__repr__',\n",
       " '__rmul__',\n",
       " '__setattr__',\n",
       " '__sizeof__',\n",
       " '__str__',\n",
       " '__subclasshook__',\n",
       " 'count',\n",
       " 'index']"
      ]
     },
     "execution_count": 14,
     "metadata": {},
     "output_type": "execute_result"
    }
   ],
   "source": [
    "dir(a) #return list of valid attributes for object.  \n",
    "#without arguments, return list of names in the current local scope  "
   ]
  },
  {
   "cell_type": "code",
   "execution_count": 15,
   "metadata": {},
   "outputs": [
    {
     "data": {
      "text/plain": [
       "((0, 1), (3, 2))"
      ]
     },
     "execution_count": 15,
     "metadata": {},
     "output_type": "execute_result"
    }
   ],
   "source": [
    "divmod(1,2), divmod(11,3) # return quotient and remainder "
   ]
  },
  {
   "cell_type": "code",
   "execution_count": 16,
   "metadata": {},
   "outputs": [
    {
     "data": {
      "text/plain": [
       "[(5, 1), (6, 2), (7, 3)]"
      ]
     },
     "execution_count": 16,
     "metadata": {},
     "output_type": "execute_result"
    }
   ],
   "source": [
    "list(enumerate(a,5)) # enumerate(iterable,start=0).  sequence, an iterator,  "
   ]
  },
  {
   "cell_type": "code",
   "execution_count": 17,
   "metadata": {},
   "outputs": [
    {
     "data": {
      "text/plain": [
       "2"
      ]
     },
     "execution_count": 17,
     "metadata": {},
     "output_type": "execute_result"
    }
   ],
   "source": [
    "eval('1+1') # eval(expression, globals=None, locals=None). arguments=string  "
   ]
  },
  {
   "cell_type": "markdown",
   "metadata": {},
   "source": [
    "`exec(object[, globals[, locals]])` dynamic execution of Python code. object must be either a string or a code object.  If only globals is provided, it must be a dictionary, which will be used for both the global and the local variables. If globals and locals are given, they are used for the global and local variables, respectively.  If provided, locals can be any mapping object.  "
   ]
  },
  {
   "cell_type": "markdown",
   "metadata": {},
   "source": [
    "`filter(function, iterable)`  Construct an iterator from those elements of iterable and function returns true. iterable may be either a sequence, a container which supports iteration, or an iterator. If function is None, the identity function is assumed, that is, all elements of iterable that are false are removed.  "
   ]
  },
  {
   "cell_type": "code",
   "execution_count": 18,
   "metadata": {},
   "outputs": [
    {
     "data": {
      "text/plain": [
       "0.001"
      ]
     },
     "execution_count": 18,
     "metadata": {},
     "output_type": "execute_result"
    }
   ],
   "source": [
    "float(1e-3) #return floating point number constructed from a number or string  "
   ]
  },
  {
   "cell_type": "markdown",
   "metadata": {},
   "source": [
    "type(value)`.format(value[, format_spec])`  \n",
    "Convert a value to a “formatted” representation, as controlled by format_spec  "
   ]
  },
  {
   "cell_type": "code",
   "execution_count": 19,
   "metadata": {},
   "outputs": [
    {
     "data": {
      "text/plain": [
       "frozenset({1, 2, 3})"
      ]
     },
     "execution_count": 19,
     "metadata": {},
     "output_type": "execute_result"
    }
   ],
   "source": [
    "b=frozenset(a); b #frozenset([iterable]) return a frozenset object.  "
   ]
  },
  {
   "cell_type": "markdown",
   "metadata": {},
   "source": [
    "`getattr(object, name[, default])` return value of the named attribute of object. name must be a string. getattr(x,'foo') equivalent to x,foo  "
   ]
  },
  {
   "cell_type": "markdown",
   "metadata": {},
   "source": [
    "`globals()` return dictionary of current global symbol table in function/method  "
   ]
  },
  {
   "cell_type": "markdown",
   "metadata": {},
   "source": [
    "`hasattr(object,name)` arguements are object and string.  \n",
    "True if string is one of the object's attribute.  "
   ]
  },
  {
   "cell_type": "markdown",
   "metadata": {},
   "source": [
    "`hash(object)` return hash value (integers) of object  "
   ]
  },
  {
   "cell_type": "markdown",
   "metadata": {},
   "source": [
    "`help([object])` open built-in help system. "
   ]
  },
  {
   "cell_type": "code",
   "execution_count": 20,
   "metadata": {},
   "outputs": [
    {
     "data": {
      "text/plain": [
       "('0x2', '0xf', '0xf')"
      ]
     },
     "execution_count": 20,
     "metadata": {},
     "output_type": "execute_result"
    }
   ],
   "source": [
    " # convert integer to lowercase hexadecimal prefix '0x'   \n",
    "hex(2), hex(15), format(15,'#x')"
   ]
  },
  {
   "cell_type": "code",
   "execution_count": 21,
   "metadata": {},
   "outputs": [
    {
     "data": {
      "text/plain": [
       "302389626128"
      ]
     },
     "execution_count": 21,
     "metadata": {},
     "output_type": "execute_result"
    }
   ],
   "source": [
    "id(a) #id(object) returns identity of object "
   ]
  },
  {
   "cell_type": "code",
   "execution_count": 22,
   "metadata": {},
   "outputs": [
    {
     "name": "stdout",
     "output_type": "stream",
     "text": [
      "type in: p\n"
     ]
    },
    {
     "data": {
      "text/plain": [
       "'p'"
      ]
     },
     "execution_count": 22,
     "metadata": {},
     "output_type": "execute_result"
    }
   ],
   "source": [
    "input('type in: ') "
   ]
  },
  {
   "cell_type": "code",
   "execution_count": 23,
   "metadata": {},
   "outputs": [
    {
     "data": {
      "text/plain": [
       "(0, 2, 10)"
      ]
     },
     "execution_count": 23,
     "metadata": {},
     "output_type": "execute_result"
    }
   ],
   "source": [
    "int(x=0), int('010',2), int('010',10) \n",
    "#allows 0 and 2–36. Base-2, -8, and -16 literals prefix 0b/0B, 0o/0O, or 0x/0X "
   ]
  },
  {
   "cell_type": "markdown",
   "metadata": {},
   "source": [
    "`isinstance(object,classinfo)` True if object is instance of classinfo or subclass "
   ]
  },
  {
   "cell_type": "markdown",
   "metadata": {},
   "source": [
    "`issubclass(class,classinfo) True if class is subclass of classinfo "
   ]
  },
  {
   "cell_type": "code",
   "execution_count": 24,
   "metadata": {},
   "outputs": [
    {
     "data": {
      "text/plain": [
       "(<tuple_iterator at 0x4667d69080>,\n",
       " <set_iterator at 0x4667d6f4c8>,\n",
       " <dict_keyiterator at 0x4667d6a688>)"
      ]
     },
     "execution_count": 24,
     "metadata": {},
     "output_type": "execute_result"
    }
   ],
   "source": [
    "iter(a), iter(b), iter(c) #iter(object[,sentinel]) \n",
    "#iterator w/o sentinel object must b collection which supports iteration \n",
    "#protocol __iter__() or sequence protocol __getitem__() with integer arguement\n",
    "#starting at 0. If sentinel is given then object must be a callable object. \n",
    "#The iterator created in this case will call object with no arguments for each \n",
    "#call to its __next__() method; if the value returned is equal to sentinel, \n",
    "#StopIteration will be raised, otherwise the value will be returned. "
   ]
  },
  {
   "cell_type": "code",
   "execution_count": 25,
   "metadata": {},
   "outputs": [
    {
     "data": {
      "text/plain": [
       "(3, 3, 3)"
      ]
     },
     "execution_count": 25,
     "metadata": {},
     "output_type": "execute_result"
    }
   ],
   "source": [
    "len(a), len(b), len(c) # length of object "
   ]
  },
  {
   "cell_type": "markdown",
   "metadata": {},
   "source": [
    "`list([iterable])` mutable sequence (like tuple, range) type of storage  "
   ]
  },
  {
   "cell_type": "markdown",
   "metadata": {},
   "source": [
    "`locals()` update and return dictionary of current local symbol table. "
   ]
  },
  {
   "cell_type": "markdown",
   "metadata": {},
   "source": [
    "`map(function,iterable,...)` iterator that applies function of every iterable.   "
   ]
  },
  {
   "cell_type": "code",
   "execution_count": 26,
   "metadata": {},
   "outputs": [
    {
     "data": {
      "text/plain": [
       "'two'"
      ]
     },
     "execution_count": 26,
     "metadata": {},
     "output_type": "execute_result"
    }
   ],
   "source": [
    "max(c) # max(iterable, *[, key, default]) or max(arg1, arg2, *args[, key])  \n",
    "#If multiple items are maximal, returns the first one encountered.  "
   ]
  },
  {
   "cell_type": "markdown",
   "metadata": {},
   "source": [
    "`moemoryview(obj)` view memory of obj created from given argument "
   ]
  },
  {
   "cell_type": "code",
   "execution_count": 27,
   "metadata": {},
   "outputs": [
    {
     "data": {
      "text/plain": [
       "(98, 103, <memory at 0x0000004666CDA4C8>)"
      ]
     },
     "execution_count": 27,
     "metadata": {},
     "output_type": "execute_result"
    }
   ],
   "source": [
    "v = memoryview(b'abcefg')\n",
    "v[1], v[-1], v[1:4] "
   ]
  },
  {
   "cell_type": "code",
   "execution_count": 28,
   "metadata": {},
   "outputs": [
    {
     "data": {
      "text/plain": [
       "'one'"
      ]
     },
     "execution_count": 28,
     "metadata": {},
     "output_type": "execute_result"
    }
   ],
   "source": [
    "min(c) #  min(iterable, *[, key, default]) or min(arg1, arg2, *args[, key])  "
   ]
  },
  {
   "cell_type": "code",
   "execution_count": 29,
   "metadata": {},
   "outputs": [
    {
     "data": {
      "text/plain": [
       "0"
      ]
     },
     "execution_count": 29,
     "metadata": {},
     "output_type": "execute_result"
    }
   ],
   "source": [
    "next(iter(range(10))) #next(iterator[,default]) next item from the iterator "
   ]
  },
  {
   "cell_type": "code",
   "execution_count": 30,
   "metadata": {},
   "outputs": [
    {
     "data": {
      "text/plain": [
       "object"
      ]
     },
     "execution_count": 30,
     "metadata": {},
     "output_type": "execute_result"
    }
   ],
   "source": [
    "object # function do not accept argument "
   ]
  },
  {
   "cell_type": "code",
   "execution_count": 31,
   "metadata": {},
   "outputs": [
    {
     "data": {
      "text/plain": [
       "('0o7', '0o10')"
      ]
     },
     "execution_count": 31,
     "metadata": {},
     "output_type": "execute_result"
    }
   ],
   "source": [
    "oct(7), oct(8) #convert integer to octal string prefix '0o' "
   ]
  },
  {
   "cell_type": "markdown",
   "metadata": {},
   "source": [
    "` open(file, mode='r', buffering=-1, encoding=None, errors=None, newline=None, closefd=True, opener=None)`   \n",
    "mode is an optional string that specifies the mode in which the file is opened.  \n",
    "`r` - open for reading (default)  \n",
    "`w` - open for writing, truncating the file first  \n",
    "`x` - open for exclusive creation, failing if the file already exists  \n",
    "`a` - open for writing, appending to the end of the file if it exists  \n",
    "`b` - binary mode  \n",
    "`t` - text mode (default)  \n",
    "`+` - open a disk file for updating (reading and writing)  \n",
    "`U` - [universal newlines](file:///C:/Users/Khoo/Desktop/AI/python-3.6.5-docs-html/glossary.html#term-universal-newlines) mode (deprecated)  \n",
    "\n",
    "file is a path-like object giving the pathname   \n",
    "\n",
    "The default mode is 'r' (open for reading text, synonym of 'rt'). For binary read-write access, the mode 'w+b' opens and truncates the file to 0 bytes. 'r+b' opens the file without truncation.  \n",
    "\n",
    "buffering is an optional integer used to set the buffering policy. Pass 0 to switch buffering off (only allowed in binary mode), 1 to select line buffering (only usable in text mode), and an integer > 1 to indicate the size in bytes of a fixed-size chunk buffer. When no buffering argument is given, the default buffering policy works as follows:  \n",
    "\n",
    "    Binary files are buffered in fixed-size chunks; the size of the buffer is chosen using a heuristic trying to determine the underlying device’s “block size” and falling back on io.DEFAULT_BUFFER_SIZE. On many systems, the buffer will typically be 4096 or 8192 bytes long.\n",
    "    “Interactive” text files (files for which isatty() returns True) use line buffering. Other text files use the policy described above for binary files.  \n",
    "\n",
    "encoding is the name of the encoding used to decode or encode the file. This should only be used in text mode. The default encoding is platform dependent (whatever locale.getpreferredencoding() returns), but any text encoding supported by Python can be used. See the codecs module for the list of supported encodings.  \n",
    "\n",
    "errors is an optional string that specifies how encoding and decoding errors are to be handled—this cannot be used in binary mode. A variety of standard error handlers are available (listed under Error Handlers), though any error handling name that has been registered with codecs.register_error() is also valid. The standard names include:  \n",
    "\n",
    "    'strict' to raise a ValueError exception if there is an encoding error. The default value of None has the same effect.\n",
    "    'ignore' ignores errors. Note that ignoring encoding errors can lead to data loss.\n",
    "    'replace' causes a replacement marker (such as '?') to be inserted where there is malformed data.\n",
    "    'surrogateescape' will represent any incorrect bytes as code points in the Unicode Private Use Area ranging from U+DC80 to U+DCFF. These private code points will then be turned back into the same bytes when the surrogateescape error handler is used when writing data. This is useful for processing files in an unknown encoding.\n",
    "    'xmlcharrefreplace' is only supported when writing to a file. Characters not supported by the encoding are replaced with the appropriate XML character reference &#nnn;.\n",
    "    'backslashreplace' replaces malformed data by Python’s backslashed escape sequences.\n",
    "    'namereplace' (also only supported when writing) replaces unsupported characters with \\N{...} escape sequences.  \n",
    "\n",
    "newline controls how universal newlines mode works (it only applies to text mode). It can be None, '', '\\n', '\\r', and '\\r\\n'. It works as follows:  \n",
    "\n",
    "    When reading input from the stream, if newline is None, universal newlines mode is enabled. Lines in the input can end in '\\n', '\\r', or '\\r\\n', and these are translated into '\\n' before being returned to the caller. If it is '', universal newlines mode is enabled, but line endings are returned to the caller untranslated. If it has any of the other legal values, input lines are only terminated by the given string, and the line ending is returned to the caller untranslated.\n",
    "    When writing output to the stream, if newline is None, any '\\n' characters written are translated to the system default line separator, os.linesep. If newline is '' or '\\n', no translation takes place. If newline is any of the other legal values, any '\\n' characters written are translated to the given string.  \n",
    "\n",
    "If closefd is False and a file descriptor rather than a filename was given, the underlying file descriptor will be kept open when the file is closed. If a filename is given closefd must be True (the default) otherwise an error will be raised.  \n",
    "\n",
    "A custom opener can be used by passing a callable as opener. The underlying file descriptor for the file object is then obtained by calling opener with (file, flags). opener must return an open file descriptor (passing os.open as opener results in functionality similar to passing None).  \n",
    "\n",
    "``` python \n",
    "import os\n",
    "dir_fd = os.open('somedir', os.O_RDONLY)\n",
    "def opener(path, flags):\n",
    "     return os.open(path, flags, dir_fd=dir_fd)\n",
    "\n",
    "with open('spamspam.txt', 'w', opener=opener) as f:\n",
    "     print('This will be written to somedir/spamspam.txt', file=f)\n",
    "\n",
    "os.close(dir_fd)  # don't leak a file descriptor \n",
    "```"
   ]
  },
  {
   "cell_type": "code",
   "execution_count": 32,
   "metadata": {},
   "outputs": [
    {
     "data": {
      "text/plain": [
       "(122, 'C')"
      ]
     },
     "execution_count": 32,
     "metadata": {},
     "output_type": "execute_result"
    }
   ],
   "source": [
    "ord('z'), chr(67) # Unicode integer of one string. Inverse chr() "
   ]
  },
  {
   "cell_type": "code",
   "execution_count": 33,
   "metadata": {},
   "outputs": [
    {
     "data": {
      "text/plain": [
       "3"
      ]
     },
     "execution_count": 33,
     "metadata": {},
     "output_type": "execute_result"
    }
   ],
   "source": [
    "pow(2,3,5) #x to the power y; modulo z (pow(x, y) % z)"
   ]
  },
  {
   "cell_type": "markdown",
   "metadata": {},
   "source": [
    "`print(*objects, sep=' ', end='\\n', file=sys.stdout, flush=False)`  \n",
    "Print objects to the text stream file, separated by sep and followed by end. sep, end, file and flush, if present, must be given as keyword arguments.  \n",
    "\n",
    "All non-keyword arguments are converted to strings like str() does and written to the stream, separated by sep and followed by end. Both sep and end must be strings; they can also be None,  \n",
    "\n",
    "file argument must be an object with a write(string) method; if it is not present or None, sys.stdout will be used. Since printed arguments are converted to text strings, print() cannot be used with binary mode file objects. For these, use file.write(...) instead.  \n",
    "\n",
    "Whether output is buffered is usually determined by file, but if the flush keyword argument is true, the stream is forcibly flushed.  "
   ]
  },
  {
   "cell_type": "markdown",
   "metadata": {},
   "source": [
    "`property(fget=None, fset=None, fdel=None, doc=None)` returns property attribute  \n",
    "fget is a function for getting an attribute value.  \n",
    "fset is a function for setting an attribute value.  \n",
    "fdel is a function for deleting an attribute value.  \n",
    "doc creates a docstring for the attribute.   "
   ]
  },
  {
   "cell_type": "code",
   "execution_count": 34,
   "metadata": {},
   "outputs": [
    {
     "data": {
      "text/plain": [
       "<property at 0x4667f62638>"
      ]
     },
     "execution_count": 34,
     "metadata": {},
     "output_type": "execute_result"
    }
   ],
   "source": [
    "class C:\n",
    "    def __init__(self): \n",
    "        self._x = None\n",
    "\n",
    "    def getx(self):\n",
    "        return self._x\n",
    "\n",
    "    def setx(self, value):\n",
    "        self._x = value\n",
    "\n",
    "    def delx(self):\n",
    "        del self._x\n",
    "\n",
    "    x = property(getx, setx, delx, \"I'm the 'x' property.\") \n",
    "\n",
    "C.x"
   ]
  },
  {
   "cell_type": "code",
   "execution_count": 35,
   "metadata": {},
   "outputs": [
    {
     "data": {
      "text/plain": [
       "(range(0, 10), [0, 2, 4, 6, 8, 10, 12, 14, 16, 18])"
      ]
     },
     "execution_count": 35,
     "metadata": {},
     "output_type": "execute_result"
    }
   ],
   "source": [
    "range(10), list(range(0,20,2)) #immutable sequence "
   ]
  },
  {
   "cell_type": "code",
   "execution_count": 36,
   "metadata": {},
   "outputs": [
    {
     "data": {
      "text/plain": [
       "'(1, 2, 3)'"
      ]
     },
     "execution_count": 36,
     "metadata": {},
     "output_type": "execute_result"
    }
   ],
   "source": [
    "repr(a) # printable representation of object a  "
   ]
  },
  {
   "cell_type": "markdown",
   "metadata": {},
   "source": [
    "`reversed(seq)` reverse iterator of object:seq must be in sequence  "
   ]
  },
  {
   "cell_type": "code",
   "execution_count": 37,
   "metadata": {},
   "outputs": [
    {
     "data": {
      "text/plain": [
       "3.162"
      ]
     },
     "execution_count": 37,
     "metadata": {},
     "output_type": "execute_result"
    }
   ],
   "source": [
    "round(3.1615,3)  "
   ]
  },
  {
   "cell_type": "markdown",
   "metadata": {},
   "source": [
    "`set{[iterable]}` set is distinct, unorder (no slice, index), mutable {,} "
   ]
  },
  {
   "cell_type": "markdown",
   "metadata": {},
   "source": [
    "`setattr(object,name,value)` obj,str,value.  \n",
    "`setattr(x,'abc',234)` equivalent to `x.abc=234`   "
   ]
  },
  {
   "cell_type": "code",
   "execution_count": 38,
   "metadata": {},
   "outputs": [
    {
     "data": {
      "text/plain": [
       "slice((1, 2, 3), 4, 2)"
      ]
     },
     "execution_count": 38,
     "metadata": {},
     "output_type": "execute_result"
    }
   ],
   "source": [
    "slice(a,4,2) #a slice object representing the set of indices  "
   ]
  },
  {
   "cell_type": "code",
   "execution_count": 39,
   "metadata": {},
   "outputs": [
    {
     "data": {
      "text/plain": [
       "[2, 3, 4, 5]"
      ]
     },
     "execution_count": 39,
     "metadata": {},
     "output_type": "execute_result"
    }
   ],
   "source": [
    "sorted([2,5,4,3]) #  sorted(iterable, *, key=None, reverse=False) key=str.lower"
   ]
  },
  {
   "cell_type": "code",
   "execution_count": 40,
   "metadata": {},
   "outputs": [],
   "source": [
    "class C:\n",
    "    @staticmethod  #transform method into staticmethod \n",
    "    def f(arg1, arg2): print(b)  #static method do not get first argument  \n",
    "\n",
    "#c.f() or c(),f()  "
   ]
  },
  {
   "cell_type": "code",
   "execution_count": 41,
   "metadata": {},
   "outputs": [
    {
     "data": {
      "text/plain": [
       "'frozenset({1, 2, 3})'"
      ]
     },
     "execution_count": 41,
     "metadata": {},
     "output_type": "execute_result"
    }
   ],
   "source": [
    "str(b) # class str(object=b'', encoding='utf-8', errors='strict')  "
   ]
  },
  {
   "cell_type": "code",
   "execution_count": 42,
   "metadata": {},
   "outputs": [
    {
     "data": {
      "text/plain": [
       "6"
      ]
     },
     "execution_count": 42,
     "metadata": {},
     "output_type": "execute_result"
    }
   ],
   "source": [
    "sum(b) #sum(iterable[, start])  "
   ]
  },
  {
   "cell_type": "markdown",
   "metadata": {},
   "source": [
    "`super([type[, object-or-type]])` #return a proxy object to delegate method calls to a parent or sibling class of type. Useful for accessing inherited methods that have been overridden in a class.  \n",
    "\n",
    "If the second argument is omitted, the super object returned is unbound. If the second argument is an object, isinstance(obj, type) must be true. If the second argument is a type, issubclass(type2, type) must be true (this is useful for classmethods).  \n",
    "\n",
    "There are two typical use cases for super. In a class hierarchy with single inheritance, super can be used to refer to parent classes without naming them explicitly, thus making the code more maintainable. This use closely parallels the use of super in other programming languages.  \n",
    "\n",
    "The second use case is to support cooperative multiple inheritance in a dynamic execution environment. This use case is unique to Python and is not found in statically compiled languages or languages that only support single inheritance. This makes it possible to implement “diamond diagrams” where multiple base classes implement the same method. Good design dictates that this method have the same calling signature in every case (because the order of calls is determined at runtime, because that order adapts to changes in the class hierarchy, and because that order can include sibling classes that are unknown prior to runtime).\n",
    "\n",
    "For both use cases, a typical superclass call looks like this:\n",
    "```python \n",
    "class C(B):\n",
    "    def method(self, arg):\n",
    "        super().method(arg)    #This does the same thing as:\n",
    "                               #super(C, self).method(arg)\n",
    "``` \n",
    "Note that super() is implemented as part of the binding process for explicit dotted attribute lookups such as `super().__getitem__(name)`. "
   ]
  },
  {
   "cell_type": "code",
   "execution_count": 43,
   "metadata": {},
   "outputs": [
    {
     "data": {
      "text/plain": [
       "('a', 'b', 'c')"
      ]
     },
     "execution_count": 43,
     "metadata": {},
     "output_type": "execute_result"
    }
   ],
   "source": [
    " tuple('abc') #tuple([iterable]) immutable sequence (,) "
   ]
  },
  {
   "cell_type": "code",
   "execution_count": 44,
   "metadata": {},
   "outputs": [
    {
     "data": {
      "text/plain": [
       "(tuple, frozenset, dict)"
      ]
     },
     "execution_count": 44,
     "metadata": {},
     "output_type": "execute_result"
    }
   ],
   "source": [
    "type(a), type(b), type(c) # type(name, bases, dict) "
   ]
  },
  {
   "cell_type": "markdown",
   "metadata": {},
   "source": [
    "`vars([object])` returns `__dict__` attribute for module, class, instance "
   ]
  },
  {
   "cell_type": "code",
   "execution_count": 45,
   "metadata": {},
   "outputs": [
    {
     "data": {
      "text/plain": [
       "[(1, 1), (2, 2), (3, 3)]"
      ]
     },
     "execution_count": 45,
     "metadata": {},
     "output_type": "execute_result"
    }
   ],
   "source": [
    "list(zip(a,b)) #Returns an iterator of tuples, \n",
    "#where the i-th tuple contains the i-th element from each of the argument \n",
    "#sequences or iterables. The iterator stops when the shortest input iterable \n",
    "# is exhausted. "
   ]
  },
  {
   "cell_type": "markdown",
   "metadata": {},
   "source": [
    "`__import__(name, globals=None, locals=None, fromlist=(), level=0)` \n",
    " Direct use of \\_\\_import\\_\\_() is also discouraged in favor of `importlib.import_module()`.   \n",
    " Import statement can be replaced by `builtins.__import__`   \n",
    " \n",
    "When the name variable is of the form package.module, normally, the top-level package (the name up till the first dot) is returned, not the module named by name. However, when a non-empty fromlist argument is given, the module named by name is returned. \n",
    "\n",
    "```python \n",
    "_temp = __import__('spam.ham', globals(), locals(), ['eggs', 'sausage'], 0)\n",
    "eggs = _temp.eggs\n",
    "saus = _temp.sausage \n",
    "```"
   ]
  },
  {
   "cell_type": "markdown",
   "metadata": {},
   "source": [
    "End."
   ]
  }
 ],
 "metadata": {
  "kernelspec": {
   "display_name": "Python 3",
   "language": "python",
   "name": "python3"
  },
  "language_info": {
   "codemirror_mode": {
    "name": "ipython",
    "version": 3
   },
   "file_extension": ".py",
   "mimetype": "text/x-python",
   "name": "python",
   "nbconvert_exporter": "python",
   "pygments_lexer": "ipython3",
   "version": "3.6.4"
  }
 },
 "nbformat": 4,
 "nbformat_minor": 2
}
