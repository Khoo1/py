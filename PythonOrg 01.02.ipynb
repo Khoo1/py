{
 "cells": [
  {
   "cell_type": "markdown",
   "metadata": {},
   "source": [
    "__Python__ 2018-03-27 https://docs.python.org/3/tutorial/appetite.html  \n",
    "High-level data types can express complex operations in a single statement;  \n",
    "Statement grouping by indentation instead of beginning and ending brackets;  \n",
    "Variable or argument declarations are not necessary. "
   ]
  },
  {
   "cell_type": "markdown",
   "metadata": {},
   "source": [
    "Python __[interpreter](https://docs.python.org/3/tutorial/interpreter.html)__ is usually installed as `/usr/local/bin/python3.6`  \n",
    "Place `/usr/local/bin` in Unix shell’s search path to enable: `python3.6`  \n",
    "A popular alternative place e.g. `/usr/local/python`  \n",
    "`Control-D` on __Unix__ or `quit()` to exit interpreter. \n",
    "\n",
    "On __Windows__, Python is usually installed in `C:\\Python36`  \n",
    "Add directory to path, type into DOS prompt `set path=%path%;C:\\python36`  \n",
    "`Control-Z` or `quit()` to exit with a zero exit status.  \n",
    "\n",
    "`Control-P` to Python prompt, beeps for [command line editing](https://docs.python.org/3/using/cmdline.html#using-on-general) else ^P isn’t.  \n",
    "`python -c command [arg] ...` executes statement in command.  \n",
    "`python -m module [arg] ...` executes source file for module.  \n",
    "`-i` before _script file_ to run and enter interactive mode.  \n",
    "[Interactive Input Editing and History Substitution](https://docs.python.org/3/tutorial/interactive.html#tut-interacting) for an intro to keys.   \n",
    "\n",
    "On Unix, the Python 3.x interpreter is by default not installed with the executable named python, so that it does not conflict with a simultaneously installed Python 2.x executable.  "
   ]
  },
  {
   "cell_type": "markdown",
   "metadata": {},
   "source": [
    "### Argument Passing  \n",
    "`argv` variable stores _script name_ and _arguments_ as a list of strings in \n",
    "the `sys` module. To access list, execute `import sys`. The list's length is at least one; when no script and no arguments are given, `sys.argv[0]` is an empty string.  \n",
    "\n",
    "When script name is given as '-' (standard input), `sys.argv[0]` is '-'.  \n",
    "When -c command is used, `sys.argv[0]` is set to '-c'.  \n",
    "When -m module, `sys.argv[0]` is set to the full name of the located module.  "
   ]
  },
  {
   "cell_type": "markdown",
   "metadata": {},
   "source": [
    "### Interactive Mode  \n",
    "When commands are read from a tty, the interpreter is in interactive mode.  \n",
    "Primary prompt, usually three greater-than signs (`>>>`);  \n",
    "Secondary prompt, by default three dots (`...`).  \n",
    "Continuation lines (`...`) are needed in a multi-line construct.  \n",
    "[Alternatives to the Interactive Interpreter](https://docs.python.org/3/tutorial/interactive.html#tut-interacting): [iPython](https://ipython.org/) and [bpython](http://www.bpython-interpreter.org/)"
   ]
  },
  {
   "cell_type": "markdown",
   "metadata": {},
   "source": [
    "### Source Code Encoding: UTF-8  \n",
    "Python source files are encoded in UTF-8. Editor must support UTF-8 and fonts.  \n",
    "`# -*- coding: encoding -*-` where encoding is a valid `codecs` supported by Python.  \n",
    "\n",
    "One exception to the first line rule is when the source code starts with a UNIX “shebang” line. The encoding declaration should be added as the second line of the file. For example:\n",
    "\n",
    "`#!/usr/bin/env python3`  \n",
    "`# -*- coding: cp-1252 -*-` "
   ]
  },
  {
   "cell_type": "markdown",
   "metadata": {},
   "source": [
    "### [Tab Completion and History Editing ](https://docs.python.org/3/tutorial/interactive.html#tut-interacting) \n",
    "`Tab` key invokes the completion function; it looks at Python statement names, the current local variables, and the available module names.  \n",
    "\n",
    "For dotted expressions such as `string.a`, will evaluate the expression up to the final '__.__' and then suggest completions from the attributes of the resulting object. Note that this may execute application-defined code if an object with a `__getattr__()` method is part of the expression.   "
   ]
  },
  {
   "cell_type": "code",
   "execution_count": null,
   "metadata": {},
   "outputs": [],
   "source": []
  }
 ],
 "metadata": {
  "kernelspec": {
   "display_name": "Python 3",
   "language": "python",
   "name": "python3"
  },
  "language_info": {
   "codemirror_mode": {
    "name": "ipython",
    "version": 3
   },
   "file_extension": ".py",
   "mimetype": "text/x-python",
   "name": "python",
   "nbconvert_exporter": "python",
   "pygments_lexer": "ipython3",
   "version": "3.6.4"
  }
 },
 "nbformat": 4,
 "nbformat_minor": 2
}
