{
 "cells": [
  {
   "cell_type": "markdown",
   "metadata": {},
   "source": [
    "### Python Module: `module.py`; `import` module `as` m   \n",
    "\n",
    "`Import` module to access module or rename: `import` module `as` m    \n",
    "`.` dot to access module's function, e.g. module`.`function(variable)  \n",
    "List of Python standard modules at [docs.python.org/3/py-modindex.html](https://docs.python.org/3/py-modindex.html)  \n",
    "\n",
    "`From` module `import` function1, function2, `*`   # import selected function and calls module's function without require `.` dot.  \n",
    "`From` module `import *`  # `*` deonotes all functions except _function. `*` can lead to duplicate definitions for an identifier.  \n",
    "\n",
    "To create module, create function then save it as module`.py`  \n",
    "\n",
    "Python interpreter holds built-in modules, if module not found then search into `sys.path` list of directories which can be modify to add other path.    \n",
    "1. Current directory,  ### Python Module Search Path    \n",
    "2. `PYTHONPATH` environment varaible with a list of directory,  \n",
    "3. Installation-dependent default directory  \n",
    "\n",
    "`reload()` within `imp` module to reload module. `imp.reload(`module`)`  \n",
    "`dir()` all names in current namespace. _underscore are default Python attributes  \n",
    "`__name__` list name of the module, eg. module`.__name__`  "
   ]
  },
  {
   "cell_type": "code",
   "execution_count": 1,
   "metadata": {},
   "outputs": [
    {
     "data": {
      "text/plain": [
       "['',\n",
       " 'C:\\\\Users\\\\Khoo\\\\Menu\\\\Anaconda3\\\\python36.zip',\n",
       " 'C:\\\\Users\\\\Khoo\\\\Menu\\\\Anaconda3\\\\DLLs',\n",
       " 'C:\\\\Users\\\\Khoo\\\\Menu\\\\Anaconda3\\\\lib',\n",
       " 'C:\\\\Users\\\\Khoo\\\\Menu\\\\Anaconda3',\n",
       " 'C:\\\\Users\\\\Khoo\\\\Menu\\\\Anaconda3\\\\lib\\\\site-packages',\n",
       " 'C:\\\\Users\\\\Khoo\\\\Menu\\\\Anaconda3\\\\lib\\\\site-packages\\\\win32',\n",
       " 'C:\\\\Users\\\\Khoo\\\\Menu\\\\Anaconda3\\\\lib\\\\site-packages\\\\win32\\\\lib',\n",
       " 'C:\\\\Users\\\\Khoo\\\\Menu\\\\Anaconda3\\\\lib\\\\site-packages\\\\Pythonwin',\n",
       " 'C:\\\\Users\\\\Khoo\\\\Menu\\\\Anaconda3\\\\lib\\\\site-packages\\\\IPython\\\\extensions',\n",
       " 'C:\\\\Users\\\\Khoo\\\\.ipython']"
      ]
     },
     "execution_count": 1,
     "metadata": {},
     "output_type": "execute_result"
    }
   ],
   "source": [
    "import sys \n",
    "sys.path "
   ]
  },
  {
   "cell_type": "code",
   "execution_count": 2,
   "metadata": {},
   "outputs": [
    {
     "data": {
      "text/plain": [
       "['In',\n",
       " 'Out',\n",
       " '_',\n",
       " '_1',\n",
       " '__',\n",
       " '___',\n",
       " '__builtin__',\n",
       " '__builtins__',\n",
       " '__doc__',\n",
       " '__loader__',\n",
       " '__name__',\n",
       " '__package__',\n",
       " '__spec__',\n",
       " '_dh',\n",
       " '_i',\n",
       " '_i1',\n",
       " '_i2',\n",
       " '_ih',\n",
       " '_ii',\n",
       " '_iii',\n",
       " '_oh',\n",
       " 'exit',\n",
       " 'get_ipython',\n",
       " 'quit',\n",
       " 'sys']"
      ]
     },
     "execution_count": 2,
     "metadata": {},
     "output_type": "execute_result"
    }
   ],
   "source": [
    "dir()"
   ]
  },
  {
   "cell_type": "code",
   "execution_count": 3,
   "metadata": {},
   "outputs": [
    {
     "data": {
      "text/plain": [
       "'sys'"
      ]
     },
     "execution_count": 3,
     "metadata": {},
     "output_type": "execute_result"
    }
   ],
   "source": [
    "sys.__name__"
   ]
  },
  {
   "cell_type": "markdown",
   "metadata": {},
   "source": [
    "### Python Package: modules, sub-packages, has `__init__.py`  \n",
    "`__init__.py` has initialization code  \n",
    "`.` to import module from packages, eg. `import` package`.`subpackage`.`module  \n",
    "\n",
    "`from` package`.`subpackage `import` module  ## alternative  \n",
    "module`.`function(variable)  ## shorter name to call function  \n",
    "\n",
    "`from` package`.`subpackage`.`module `import` function  ## alternative  \n",
    "function(variable)  ## enable direct function but may collide  "
   ]
  },
  {
   "cell_type": "markdown",
   "metadata": {},
   "source": [
    "Python Module: `module.py`; `import` module `as` m  \n",
    "Python Package: `from` package`.`subpackage `import` module  \n",
    "`dir()` all names in current namespace. _underscore are default Python attributes  "
   ]
  }
 ],
 "metadata": {
  "kernelspec": {
   "display_name": "Python 3",
   "language": "python",
   "name": "python3"
  },
  "language_info": {
   "codemirror_mode": {
    "name": "ipython",
    "version": 3
   },
   "file_extension": ".py",
   "mimetype": "text/x-python",
   "name": "python",
   "nbconvert_exporter": "python",
   "pygments_lexer": "ipython3",
   "version": "3.6.4"
  }
 },
 "nbformat": 4,
 "nbformat_minor": 2
}
