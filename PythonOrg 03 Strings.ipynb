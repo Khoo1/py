{
 "cells": [
  {
   "cell_type": "markdown",
   "metadata": {},
   "source": [
    "__[Strings](https://docs.python.org/3/tutorial/introduction.html)__: `'..'`, `\"..\"`, `'''..'''`, `\\`.  \n",
    "- Single quotes: 'allows embedded \"double\" quotes'  \n",
    "- Double quotes: \"allows embedded 'single' quotes\"  \n",
    "- Triple quoted: '''Three single quotes''', \"\"\"Three double quotes\"\"\"  \n",
    "- Blank logical line (no whitespace or comment) terminates multi-line statement.  \n",
    "- Indent groups statemenet but mix tabs and spaces are rejected.  \n",
    "- `\\` join lines and escape quotes, e.g. 'doesn`\\`'t' prints out \"doesn't\" \n",
    "- `\\n` new line `\\t` tab `r` raw     \n",
    "- immutable cannot be index  "
   ]
  },
  {
   "cell_type": "code",
   "execution_count": 1,
   "metadata": {},
   "outputs": [
    {
     "data": {
      "text/plain": [
       "(True, 'Star Wars')"
      ]
     },
     "execution_count": 1,
     "metadata": {},
     "output_type": "execute_result"
    }
   ],
   "source": [
    "\"Star \" \"Wars\" == \"Star Wars\", \"Star Wars\""
   ]
  },
  {
   "cell_type": "code",
   "execution_count": 2,
   "metadata": {
    "scrolled": true
   },
   "outputs": [
    {
     "name": "stdout",
     "output_type": "stream",
     "text": [
      "Star\n",
      "Wars\n",
      "Episode IIIV\n"
     ]
    }
   ],
   "source": [
    "a='Star\\nWars'\n",
    "print(a), print(\"Episode\",'IIIV'); "
   ]
  },
  {
   "cell_type": "code",
   "execution_count": 3,
   "metadata": {},
   "outputs": [
    {
     "name": "stdout",
     "output_type": "stream",
     "text": [
      "The FIRST ORDER reigns. \n",
      "Having decimated the peaceful Republic, \n",
      "Supreme Leader Snoke now deploys his merciless \n",
      "legions to seize military control of the galaxy.\n"
     ]
    },
    {
     "data": {
      "text/plain": [
       "'Only General Leia Organa’s band of RESISTANCE fighters stand \\nagainst the rising tyranny, certain that Jedi Master Luke Skywalker \\nwill return and restore a spark of hope to the fight.'"
      ]
     },
     "execution_count": 3,
     "metadata": {},
     "output_type": "execute_result"
    }
   ],
   "source": [
    "print('''\\\n",
    "The FIRST ORDER reigns. \n",
    "Having decimated the peaceful Republic, \n",
    "Supreme Leader Snoke now deploys his merciless \n",
    "legions to seize military control of the galaxy.''')  # use \\ skips line space \n",
    "\n",
    "'''Only General Leia Organa’s band of RESISTANCE fighters stand \n",
    "against the rising tyranny, certain that Jedi Master Luke Skywalker \n",
    "will return and restore a spark of hope to the fight.'''  "
   ]
  },
  {
   "cell_type": "code",
   "execution_count": 4,
   "metadata": {
    "scrolled": true
   },
   "outputs": [
    {
     "name": "stdout",
     "output_type": "stream",
     "text": [
      "C:\\dir\n",
      "ame\n",
      "C:\\dir\\name\n"
     ]
    }
   ],
   "source": [
    "print('C:\\dir\\name'), print(r'C:\\dir\\name');  # r before string to print raw "
   ]
  },
  {
   "cell_type": "code",
   "execution_count": 5,
   "metadata": {},
   "outputs": [
    {
     "data": {
      "text/plain": [
       "'C:\\\\dirnamename Star\\nWars'"
      ]
     },
     "execution_count": 5,
     "metadata": {},
     "output_type": "execute_result"
    }
   ],
   "source": [
    "\"C:\\d\" \"ir\" + 'name' * 2 + \" \" + a  # concatenate + repeat * "
   ]
  },
  {
   "cell_type": "code",
   "execution_count": 6,
   "metadata": {},
   "outputs": [
    {
     "data": {
      "text/plain": [
       "('S', 's', 'Star\\nWars')"
      ]
     },
     "execution_count": 6,
     "metadata": {},
     "output_type": "execute_result"
    }
   ],
   "source": [
    "a[0], a[-1], a  # index "
   ]
  },
  {
   "cell_type": "markdown",
   "metadata": {},
   "source": [
    " `+---+---+---+---+---+---+  \n",
    " | P | y | t | h | o | n |  \n",
    " +---+---+---+---+---+---+  \n",
    " 0   1   2   3   4   5   6  \n",
    "-6  -5  -4  -3  -2  -1`   ...word\\[1:3\\] is 2    "
   ]
  },
  {
   "cell_type": "code",
   "execution_count": 7,
   "metadata": {},
   "outputs": [
    {
     "data": {
      "text/plain": [
       "'StarWars'"
      ]
     },
     "execution_count": 7,
     "metadata": {},
     "output_type": "execute_result"
    }
   ],
   "source": [
    "a[:2]+a[6:-1]+a[-4:]  # slice "
   ]
  },
  {
   "cell_type": "code",
   "execution_count": 8,
   "metadata": {},
   "outputs": [
    {
     "data": {
      "text/plain": [
       "(['Star', 'Wars'], 'Star\\nWars')"
      ]
     },
     "execution_count": 8,
     "metadata": {},
     "output_type": "execute_result"
    }
   ],
   "source": [
    "a.split('\\n'), a  # string = immutable cannot be changed  "
   ]
  },
  {
   "cell_type": "code",
   "execution_count": 9,
   "metadata": {},
   "outputs": [
    {
     "data": {
      "text/plain": [
       "('Star Wars', 'Star\\nWars', 9, 0)"
      ]
     },
     "execution_count": 9,
     "metadata": {},
     "output_type": "execute_result"
    }
   ],
   "source": [
    "a.replace('\\n',\" \"), a, len(a), a.count('n')  "
   ]
  },
  {
   "cell_type": "code",
   "execution_count": 10,
   "metadata": {},
   "outputs": [
    {
     "name": "stdout",
     "output_type": "stream",
     "text": [
      "STAR\n",
      "WARS\n",
      "t\n",
      "\n",
      "\n"
     ]
    }
   ],
   "source": [
    "print(a.upper()) \n",
    "print(max(a)) # immutable retains original lower case\n",
    "print(min(a)) # \\n is the result "
   ]
  },
  {
   "cell_type": "code",
   "execution_count": 11,
   "metadata": {},
   "outputs": [
    {
     "name": "stdout",
     "output_type": "stream",
     "text": [
      "False False False False False\n",
      "False True False True False\n",
      "False   Star Wars: Episode 7 a Wars: Episode \n"
     ]
    }
   ],
   "source": [
    "z= \"Star Wars: Episode 7\" \n",
    "print(z.isalpha(), z.isalnum(), z.isdecimal(), z.isdigit(), z.isnumeric()) \n",
    "print(z.islower(), z.isprintable(), z.isspace(), z.istitle(), z.isupper()) \n",
    "print(z.isidentifier(), \" \", z, z[2], z[5:-1]) # 5 and -1 not included \n",
    "# z[5] ='-' cause error because string is immutable in Python "
   ]
  },
  {
   "cell_type": "markdown",
   "metadata": {},
   "source": [
    "__Keywords__ are reserved words. Spelled exactly:  \n",
    "`False      class      finally    is         return\n",
    "None       continue   for        lambda     try\n",
    "True       def        from       nonlocal   while\n",
    "and        del        global     not        with\n",
    "as         elif       if         or         yield\n",
    "assert     else       import     pass\n",
    "break      except     in         raise`"
   ]
  },
  {
   "cell_type": "markdown",
   "metadata": {},
   "source": [
    "__Delimiters in the grammar__  \n",
    "`(       )       [       ]       {       }\n",
    ",       :       .       ;       @       =       ->\n",
    "+=      -=      *=      /=      //=     %=      @=\n",
    "    &=      |=      ^=      >>=     <<=     **=`  \n",
    "__Printing ASCII characters have special meaning__: `'       \"       #       \\`  \n",
    "__Printing ASCII characters not used in Python__`$       ?       ``  "
   ]
  },
  {
   "cell_type": "markdown",
   "metadata": {},
   "source": [
    "__[Formatted string](https://docs.python.org/3/reference/lexical_analysis.html#f-strings) literals in Python 3.6__  \n",
    "Prefixed with `f` or `F` replace fields with expressions in curly braces `{}`.    \n",
    "__f_string__          ::=  (literal_char | \"`{{`\" | \"`}}`\" | replacement_field)*  \n",
    "__replacement_field__ ::=  \"`{`\" f_expression \\[\"`!`\" conversion\\] \\[\"`:`\" format_spec\\] \"`}`\"  \n",
    "__f_expression__      ::=  (conditional_expression | \"*\" or_expr)\n",
    "                         (\"`,`\" conditional_expression | \"`,`\" \"`*`\" or_expr)* \\[\"`,`\"\\] | yield_expression  \n",
    "__conversion__        ::=  \"s\" | \"r\" | \"a\" `!s` calls str() `!r` calls repr() `!a` calls ascii().  \n",
    "__format_spec__       ::=  (literal_char | `NULL` | replacement_field)*  \n",
    "__literal_char__      ::=  <any code point except \"`{`\", \"`}`\" or `NULL`>   "
   ]
  },
  {
   "cell_type": "code",
   "execution_count": 12,
   "metadata": {},
   "outputs": [
    {
     "data": {
      "text/plain": [
       "(\"Luke 'Skywalker'\", \"He said his name is 'Skywalker'.\")"
      ]
     },
     "execution_count": 12,
     "metadata": {},
     "output_type": "execute_result"
    }
   ],
   "source": [
    "name=\"Skywalker\"\n",
    "f\"Luke {name!r}\", f\"He said his name is {repr(name)}.\""
   ]
  },
  {
   "cell_type": "code",
   "execution_count": 13,
   "metadata": {},
   "outputs": [
    {
     "data": {
      "text/plain": [
       "'result: 41.0'"
      ]
     },
     "execution_count": 13,
     "metadata": {},
     "output_type": "execute_result"
    }
   ],
   "source": [
    "w=10 ; p=4.1 ; v=w*p ; f\"result: {v}\" "
   ]
  },
  {
   "cell_type": "code",
   "execution_count": 14,
   "metadata": {},
   "outputs": [
    {
     "data": {
      "text/plain": [
       "'0x400'"
      ]
     },
     "execution_count": 14,
     "metadata": {},
     "output_type": "execute_result"
    }
   ],
   "source": [
    "number = 1024\n",
    "f\"{number:#0x}\"  # using integer format specifier '0x400'"
   ]
  },
  {
   "cell_type": "code",
   "execution_count": 15,
   "metadata": {},
   "outputs": [
    {
     "data": {
      "text/plain": [
       "('abc 2 def', 'abc x def')"
      ]
     },
     "execution_count": 15,
     "metadata": {},
     "output_type": "execute_result"
    }
   ],
   "source": [
    "x=1\n",
    "a=2\n",
    "f\"abc {a} def\", f\"abc {'x'} def\"    # workaround: use different quoting"
   ]
  },
  {
   "cell_type": "code",
   "execution_count": 16,
   "metadata": {},
   "outputs": [
    {
     "data": {
      "text/plain": [
       "'newline: 10'"
      ]
     },
     "execution_count": 16,
     "metadata": {},
     "output_type": "execute_result"
    }
   ],
   "source": [
    "newline = ord('\\n')\n",
    "f\"newline: {newline}\"  #'newline: 10'"
   ]
  },
  {
   "cell_type": "code",
   "execution_count": 17,
   "metadata": {},
   "outputs": [
    {
     "data": {
      "text/plain": [
       "True"
      ]
     },
     "execution_count": 17,
     "metadata": {},
     "output_type": "execute_result"
    }
   ],
   "source": [
    "def foo():\n",
    "    f\"Not a docstring\"\n",
    "\n",
    "foo.__doc__ is None   # True  "
   ]
  },
  {
   "cell_type": "markdown",
   "metadata": {},
   "source": [
    "width = 10  \n",
    "precision = 4  \n",
    "value = decimal.Decimal(\"12.34567\")  \n",
    "f\"result: {value:{width}.{precision}}\"  # nested fields 'result: 12.35'  \n",
    "\n",
    "today = datetime(year=2017, month=1, day=27)  \n",
    "f\"{today:%B %d, %Y}\"  # using date format specifier 'January 27, 2017'  "
   ]
  },
  {
   "cell_type": "markdown",
   "metadata": {},
   "source": [
    "\n",
    "Escape Sequence | Meaning | Notes \n",
    "---|---|---\n",
    "\\newline |\tBackslash and newline ignored |\t \n",
    "\\\\ |\tBackslash (\\) \t |\n",
    "\\' |\tSingle quote (') \t |\n",
    "\\\" |\tDouble quote (\") \t |\n",
    "\\a |\tASCII Bell (BEL) \t |\n",
    "\\b |\tASCII Backspace (BS) \t |\n",
    "\\f |\tASCII Formfeed (FF) \t |\n",
    "\\n |\tASCII Linefeed (LF) \t |\n",
    "\\r |\tASCII Carriage Return (CR) \t |\n",
    "\\t |\tASCII Horizontal Tab (TAB) \t |\n",
    "\\v |\tASCII Vertical Tab (VT) \t |\n",
    "\\ooo |\tCharacter with octal value ooo \t| (1,3)\n",
    "\\xhh |\tCharacter with hex value hh \t| (2,3)`"
   ]
  },
  {
   "cell_type": "markdown",
   "metadata": {},
   "source": [
    "__[Reserved classes](https://docs.python.org/3/reference/lexical_analysis.html#f-strings) of identifiers__   \n",
    "`_*`   \n",
    "Not imported by from module import *. The special identifier _ is used in the interactive interpreter to store the result of the last evaluation; it is stored in the builtins module.   \n",
    "\n",
    "`__*__`   \n",
    "System-defined names. These names are defined by the interpreter and its implementation (including the standard library). Current system names are discussed in the Special method names section and elsewhere.  \n",
    "\n",
    "`__*`   \n",
    "Class-private names. Names in this category, when used within the context of a class definition, are re-written to use a mangled form to help avoid name clashes between “private” attributes of base and derived classes. See section Identifiers (Names).   "
   ]
  }
 ],
 "metadata": {
  "kernelspec": {
   "display_name": "Python 3",
   "language": "python",
   "name": "python3"
  },
  "language_info": {
   "codemirror_mode": {
    "name": "ipython",
    "version": 3
   },
   "file_extension": ".py",
   "mimetype": "text/x-python",
   "name": "python",
   "nbconvert_exporter": "python",
   "pygments_lexer": "ipython3",
   "version": "3.6.4"
  }
 },
 "nbformat": 4,
 "nbformat_minor": 2
}
